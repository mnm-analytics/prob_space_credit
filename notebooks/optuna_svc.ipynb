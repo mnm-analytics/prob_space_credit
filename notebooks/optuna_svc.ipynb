{
 "cells": [
  {
   "cell_type": "markdown",
   "metadata": {
    "toc": true
   },
   "source": [
    "<h1>Table of Contents<span class=\"tocSkip\"></span></h1>\n",
    "<div class=\"toc\"><ul class=\"toc-item\"><li><span><a href=\"#modeling\" data-toc-modified-id=\"modeling-1\"><span class=\"toc-item-num\">1&nbsp;&nbsp;</span>modeling</a></span></li></ul></div>"
   ]
  },
  {
   "cell_type": "code",
   "execution_count": 1,
   "metadata": {},
   "outputs": [],
   "source": [
    "import sys\n",
    "import os\n",
    "sys.path.append(os.path.abspath(\"../src/\"))"
   ]
  },
  {
   "cell_type": "code",
   "execution_count": 33,
   "metadata": {},
   "outputs": [],
   "source": [
    "from load_data import LoadData\n",
    "import optuna\n",
    "from sklearn.svm import SVC\n",
    "from sklearn.externals import joblib\n",
    "import numpy as np\n",
    "import pandas as pd\n",
    "import uuid"
   ]
  },
  {
   "cell_type": "code",
   "execution_count": 3,
   "metadata": {},
   "outputs": [],
   "source": [
    "uid = uuid.uuid1()"
   ]
  },
  {
   "cell_type": "code",
   "execution_count": 5,
   "metadata": {},
   "outputs": [],
   "source": [
    "docs = \"../docs/\"\n",
    "finfo = docs + \"info/\" + \"ddl.csv\"\n",
    "\n",
    "data = \"../data/\"\n",
    "data_in, data_mid, data_out = [data + fld for fld in [\"in/\", \"mid/\", \"out/\"]]\n",
    "\n",
    "fin, ftest = data_in + \"train_data.csv\", data_in + \"test_data.csv\"\n",
    "fmid = data_mid + \"svc_%s.csv\"%uid\n",
    "fout = data_out + \"svc_%s.csv\"%uid\n",
    "\n",
    "models = \"../models/\"\n",
    "mout = models + \"svc_%s.pkl\"%uid\n",
    "\n",
    "loader = LoadData(fin, ftest, finfo)"
   ]
  },
  {
   "cell_type": "code",
   "execution_count": 6,
   "metadata": {},
   "outputs": [],
   "source": [
    "X, y, test_X = loader.get_features_v1()"
   ]
  },
  {
   "cell_type": "markdown",
   "metadata": {},
   "source": [
    "# modeling"
   ]
  },
  {
   "cell_type": "code",
   "execution_count": 7,
   "metadata": {},
   "outputs": [],
   "source": [
    "from sklearn.metrics import accuracy_score"
   ]
  },
  {
   "cell_type": "code",
   "execution_count": 8,
   "metadata": {},
   "outputs": [],
   "source": [
    "from sklearn.model_selection import train_test_split"
   ]
  },
  {
   "cell_type": "code",
   "execution_count": 9,
   "metadata": {},
   "outputs": [],
   "source": [
    "train_X, valid_X, train_y, valid_y = train_test_split(X, y)"
   ]
  },
  {
   "cell_type": "code",
   "execution_count": 10,
   "metadata": {},
   "outputs": [],
   "source": [
    "def objective(trial):\n",
    "    Cs = trial.suggest_loguniform('C', 2**-5, 2**15)\n",
    "    gammas = trial.suggest_loguniform('gamma', 2**-15, 2**3)\n",
    "    \n",
    "    clf = SVC(C=Cs, gamma=gammas, kernel=\"rbf\")\n",
    "    clf.fit(train_X, train_y)\n",
    "    pred = clf.predict(valid_X)\n",
    "    return 1 - accuracy_score(y_true=valid_y, y_pred=pred)"
   ]
  },
  {
   "cell_type": "code",
   "execution_count": 11,
   "metadata": {},
   "outputs": [
    {
     "name": "stderr",
     "output_type": "stream",
     "text": [
      "[I 2019-04-14 01:23:43,895] Finished trial#0 resulted in value: 0.22844444444444445. Current best value is 0.22844444444444445 with parameters: {'C': 0.19945420660277335, 'gamma': 0.0004374764915424126}.\n",
      "[I 2019-04-14 01:35:59,378] Finished trial#1 resulted in value: 0.198962962962963. Current best value is 0.198962962962963 with parameters: {'C': 1794.3858923295886, 'gamma': 0.011798127918355137}.\n",
      "[I 2019-04-14 01:42:54,951] Finished trial#2 resulted in value: 0.22696296296296292. Current best value is 0.198962962962963 with parameters: {'C': 1794.3858923295886, 'gamma': 0.011798127918355137}.\n",
      "[I 2019-04-14 01:43:40,581] Finished trial#3 resulted in value: 0.22844444444444445. Current best value is 0.198962962962963 with parameters: {'C': 1794.3858923295886, 'gamma': 0.011798127918355137}.\n",
      "[I 2019-04-14 01:46:32,079] Finished trial#4 resulted in value: 0.22844444444444445. Current best value is 0.198962962962963 with parameters: {'C': 1794.3858923295886, 'gamma': 0.011798127918355137}.\n",
      "[I 2019-04-14 01:47:14,439] Finished trial#5 resulted in value: 0.22844444444444445. Current best value is 0.198962962962963 with parameters: {'C': 1794.3858923295886, 'gamma': 0.011798127918355137}.\n",
      "[I 2019-04-14 01:50:40,794] Finished trial#6 resulted in value: 0.19081481481481477. Current best value is 0.19081481481481477 with parameters: {'C': 220.903864793539, 'gamma': 0.01157360234005022}.\n",
      "[I 2019-04-14 02:06:36,789] Finished trial#7 resulted in value: 0.19259259259259254. Current best value is 0.19081481481481477 with parameters: {'C': 220.903864793539, 'gamma': 0.01157360234005022}.\n",
      "[I 2019-04-14 02:09:24,700] Finished trial#8 resulted in value: 0.22844444444444445. Current best value is 0.19081481481481477 with parameters: {'C': 220.903864793539, 'gamma': 0.01157360234005022}.\n",
      "[I 2019-04-14 02:11:37,453] Finished trial#9 resulted in value: 0.18785185185185183. Current best value is 0.18785185185185183 with parameters: {'C': 3.3431317323115555, 'gamma': 0.1314875632773491}.\n"
     ]
    },
    {
     "name": "stdout",
     "output_type": "stream",
     "text": [
      "{'C': 3.3431317323115555, 'gamma': 0.1314875632773491}\n",
      "0.18785185185185183\n",
      "FrozenTrial(number=9, state=<TrialState.COMPLETE: 1>, value=0.18785185185185183, datetime_start=datetime.datetime(2019, 4, 14, 2, 9, 24, 703597), datetime_complete=datetime.datetime(2019, 4, 14, 2, 11, 37, 453766), params={'C': 3.3431317323115555, 'gamma': 0.1314875632773491}, user_attrs={}, system_attrs={'_number': 9}, intermediate_values={}, params_in_internal_repr={'C': 3.3431317323115555, 'gamma': 0.1314875632773491}, trial_id=9)\n",
      "Wall time: 48min 39s\n"
     ]
    }
   ],
   "source": [
    "%%time\n",
    "# optuna\n",
    "study = optuna.create_study()\n",
    "study.optimize(objective, n_trials=10)\n",
    "\n",
    "# 最適解\n",
    "print(study.best_params)\n",
    "print(study.best_value)\n",
    "print(study.best_trial)"
   ]
  },
  {
   "cell_type": "code",
   "execution_count": 21,
   "metadata": {},
   "outputs": [],
   "source": [
    "param = study.best_params\n",
    "param[\"kernel\"] = \"rbf\""
   ]
  },
  {
   "cell_type": "code",
   "execution_count": 25,
   "metadata": {},
   "outputs": [],
   "source": [
    "clf = SVC(**study.best_params)"
   ]
  },
  {
   "cell_type": "code",
   "execution_count": 26,
   "metadata": {},
   "outputs": [
    {
     "data": {
      "text/plain": [
       "SVC(C=3.3431317323115555, cache_size=200, class_weight=None, coef0=0.0,\n",
       "  decision_function_shape='ovr', degree=3, gamma=0.1314875632773491,\n",
       "  kernel='rbf', max_iter=-1, probability=False, random_state=None,\n",
       "  shrinking=True, tol=0.001, verbose=False)"
      ]
     },
     "execution_count": 26,
     "metadata": {},
     "output_type": "execute_result"
    }
   ],
   "source": [
    "clf.fit(X, y)"
   ]
  },
  {
   "cell_type": "code",
   "execution_count": 28,
   "metadata": {},
   "outputs": [],
   "source": [
    "X[fmid] = clf.predict(X)\n",
    "X[fmid].to_csv(fmid, index=False)"
   ]
  },
  {
   "cell_type": "code",
   "execution_count": 30,
   "metadata": {},
   "outputs": [],
   "source": [
    "test_X[\"Y\"] = clf.predict(test_X)"
   ]
  },
  {
   "cell_type": "code",
   "execution_count": 31,
   "metadata": {},
   "outputs": [],
   "source": [
    "test_X[\"ID\"] = test_X.index"
   ]
  },
  {
   "cell_type": "code",
   "execution_count": 36,
   "metadata": {},
   "outputs": [],
   "source": [
    "test_X[[\"ID\", \"Y\"]].to_csv(fout, index=False)"
   ]
  },
  {
   "cell_type": "code",
   "execution_count": 34,
   "metadata": {},
   "outputs": [
    {
     "data": {
      "text/plain": [
       "['../models/svc_5e08933a-5e08-11e9-9d4d-f06e0bb794dc.pkl']"
      ]
     },
     "execution_count": 34,
     "metadata": {},
     "output_type": "execute_result"
    }
   ],
   "source": [
    "joblib.dump(clf, mout)"
   ]
  },
  {
   "cell_type": "code",
   "execution_count": null,
   "metadata": {},
   "outputs": [],
   "source": []
  }
 ],
 "metadata": {
  "hide_input": false,
  "kernelspec": {
   "display_name": "Python 3",
   "language": "python",
   "name": "python3"
  },
  "language_info": {
   "codemirror_mode": {
    "name": "ipython",
    "version": 3
   },
   "file_extension": ".py",
   "mimetype": "text/x-python",
   "name": "python",
   "nbconvert_exporter": "python",
   "pygments_lexer": "ipython3",
   "version": "3.6.5"
  },
  "toc": {
   "base_numbering": 1,
   "nav_menu": {},
   "number_sections": true,
   "sideBar": true,
   "skip_h1_title": false,
   "title_cell": "Table of Contents",
   "title_sidebar": "Contents",
   "toc_cell": true,
   "toc_position": {},
   "toc_section_display": true,
   "toc_window_display": true
  }
 },
 "nbformat": 4,
 "nbformat_minor": 2
}
