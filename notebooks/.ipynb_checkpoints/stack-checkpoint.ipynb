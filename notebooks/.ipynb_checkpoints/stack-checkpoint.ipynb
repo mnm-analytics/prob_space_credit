{
 "cells": [
  {
   "cell_type": "markdown",
   "metadata": {
    "toc": true
   },
   "source": [
    "<h1>Table of Contents<span class=\"tocSkip\"></span></h1>\n",
    "<div class=\"toc\"><ul class=\"toc-item\"></ul></div>"
   ]
  },
  {
   "cell_type": "code",
   "execution_count": 1,
   "metadata": {},
   "outputs": [],
   "source": [
    "import uuid\n",
    "import numpy as np\n",
    "import pandas as pd\n",
    "import sys\n",
    "import os\n",
    "sys.path.append(os.path.abspath(\"../src/\"))\n",
    "from load_data import LoadData"
   ]
  },
  {
   "cell_type": "code",
   "execution_count": 2,
   "metadata": {},
   "outputs": [],
   "source": [
    "uid = uuid.uuid1()"
   ]
  },
  {
   "cell_type": "code",
   "execution_count": 3,
   "metadata": {},
   "outputs": [],
   "source": [
    "docs = \"../docs/\"\n",
    "info = docs + \"info/\"\n",
    "finfo = info + \"ddl.csv\"\n",
    "\n",
    "data = \"../data/\"\n",
    "data_in = data + \"in/\"\n",
    "data_out = data + \"out/\"\n",
    "\n",
    "fin = data_in + \"train_data.csv\"\n",
    "ftest = data_in + \"test_data.csv\"\n",
    "fout = data_out + \"stack_%s.csv\"%uid\n",
    "\n",
    "models = \"../models/\"\n",
    "mout = models + \"stack_%s.pkl\"%uid\n",
    "\n",
    "loader = LoadData(fin, ftest, finfo)"
   ]
  },
  {
   "cell_type": "code",
   "execution_count": 5,
   "metadata": {},
   "outputs": [],
   "source": [
    "fname_list = os.listdir(\"../data/out/\")[1:]"
   ]
  },
  {
   "cell_type": "code",
   "execution_count": 18,
   "metadata": {},
   "outputs": [],
   "source": [
    "dfs = {}\n",
    "for fname in fname_list:\n",
    "    df = pd.read_csv(data_out+fname)\n",
    "    df[fname] = df.Y\n",
    "    dfs[fname] = df[fname]"
   ]
  },
  {
   "cell_type": "code",
   "execution_count": 20,
   "metadata": {},
   "outputs": [],
   "source": [
    "X = pd.DataFrame(dfs)"
   ]
  },
  {
   "cell_type": "code",
   "execution_count": 22,
   "metadata": {},
   "outputs": [
    {
     "data": {
      "text/plain": [
       "logi_3978255e-5dfa-11e9-b0f2-f06e0bb794dc.csv    1086.0\n",
       "submit_notune.csv                                 373.0\n",
       "submit_rf.csv                                     373.0\n",
       "svc_013b7c9e-5d4e-11e9-ab25-f06e0bb794dc.csv       34.0\n",
       "dtype: float64"
      ]
     },
     "execution_count": 22,
     "metadata": {},
     "output_type": "execute_result"
    }
   ],
   "source": []
  },
  {
   "cell_type": "code",
   "execution_count": null,
   "metadata": {},
   "outputs": [],
   "source": []
  }
 ],
 "metadata": {
  "hide_input": false,
  "kernelspec": {
   "display_name": "Python 3",
   "language": "python",
   "name": "python3"
  },
  "language_info": {
   "codemirror_mode": {
    "name": "ipython",
    "version": 3
   },
   "file_extension": ".py",
   "mimetype": "text/x-python",
   "name": "python",
   "nbconvert_exporter": "python",
   "pygments_lexer": "ipython3",
   "version": "3.6.5"
  },
  "toc": {
   "base_numbering": 1,
   "nav_menu": {},
   "number_sections": true,
   "sideBar": true,
   "skip_h1_title": false,
   "title_cell": "Table of Contents",
   "title_sidebar": "Contents",
   "toc_cell": true,
   "toc_position": {},
   "toc_section_display": true,
   "toc_window_display": true
  }
 },
 "nbformat": 4,
 "nbformat_minor": 2
}
