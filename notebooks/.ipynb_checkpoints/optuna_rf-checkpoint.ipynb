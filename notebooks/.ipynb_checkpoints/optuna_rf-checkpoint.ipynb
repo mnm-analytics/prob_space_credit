{
 "cells": [
  {
   "cell_type": "markdown",
   "metadata": {
    "toc": true
   },
   "source": [
    "<h1>Table of Contents<span class=\"tocSkip\"></span></h1>\n",
    "<div class=\"toc\"><ul class=\"toc-item\"><li><span><a href=\"#modeling\" data-toc-modified-id=\"modeling-1\"><span class=\"toc-item-num\">1&nbsp;&nbsp;</span>modeling</a></span></li></ul></div>"
   ]
  },
  {
   "cell_type": "code",
   "execution_count": 2,
   "metadata": {},
   "outputs": [],
   "source": [
    "import sys\n",
    "import os\n",
    "sys.path.append(os.path.abspath(\"../src/\"))"
   ]
  },
  {
   "cell_type": "code",
   "execution_count": 3,
   "metadata": {},
   "outputs": [],
   "source": [
    "from load_data import LoadData\n",
    "import optuna\n",
    "from sklearn.ensemble import RandomForestClassifier\n",
    "from sklearn.externals import joblib\n",
    "import numpy as np\n",
    "import pandas as pd\n",
    "import uuid"
   ]
  },
  {
   "cell_type": "code",
   "execution_count": 4,
   "metadata": {},
   "outputs": [],
   "source": [
    "uid = uuid.uuid1()"
   ]
  },
  {
   "cell_type": "code",
   "execution_count": 5,
   "metadata": {},
   "outputs": [],
   "source": [
    "alg = \"rf\""
   ]
  },
  {
   "cell_type": "code",
   "execution_count": 6,
   "metadata": {},
   "outputs": [],
   "source": [
    "docs = \"../docs/\"\n",
    "finfo = docs + \"info/\" + \"ddl.csv\"\n",
    "\n",
    "data = \"../data/\"\n",
    "data_in, data_mid, data_out = [data + fld for fld in [\"in/\", \"mid/\", \"out/\"]]\n",
    "\n",
    "fin, ftest = data_in + \"train_data.csv\", data_in + \"test_data.csv\"\n",
    "fmid = data_mid + \"%s_%s.csv\"%(alg, uid)\n",
    "fout = data_out + \"%s_%s.csv\"%(alg, uid)\n",
    "\n",
    "models = \"../models/\"\n",
    "mout = models + \"%s_%s.pkl\"%(alg, uid)\n",
    "\n",
    "loader = LoadData(fin, ftest, finfo)"
   ]
  },
  {
   "cell_type": "code",
   "execution_count": 30,
   "metadata": {},
   "outputs": [],
   "source": [
    "X, y, test_X = loader.get_features_v1()"
   ]
  },
  {
   "cell_type": "code",
   "execution_count": 9,
   "metadata": {},
   "outputs": [],
   "source": [
    "y = y.astype(float)"
   ]
  },
  {
   "cell_type": "markdown",
   "metadata": {},
   "source": [
    "# modeling"
   ]
  },
  {
   "cell_type": "code",
   "execution_count": 10,
   "metadata": {},
   "outputs": [],
   "source": [
    "from sklearn.model_selection import StratifiedKFold, cross_validate"
   ]
  },
  {
   "cell_type": "code",
   "execution_count": 11,
   "metadata": {},
   "outputs": [],
   "source": [
    "def objective(trial):\n",
    "    params = {\n",
    "        'n_estimators': int(trial.suggest_loguniform('n_estimators', 1e+2, 1e+3)),\n",
    "        'max_depth': int(trial.suggest_loguniform('max_depth', 2, 32)),\n",
    "        'min_samples_split': trial.suggest_int(\"min_samples_split\", 8, 16)\n",
    "    }\n",
    "    clf = RandomForestClassifier(**params)\n",
    "    kf = StratifiedKFold(n_splits=5, shuffle=True, random_state=42)\n",
    "    scores = cross_validate(clf, scoring=\"roc_auc\", X=X, y=y, cv=kf)\n",
    "    return 1.0 - scores['test_score'].mean()\n"
   ]
  },
  {
   "cell_type": "code",
   "execution_count": 12,
   "metadata": {},
   "outputs": [
    {
     "name": "stderr",
     "output_type": "stream",
     "text": [
      "[I 2019-04-14 03:04:36,909] Finished trial#0 resulted in value: 0.22353235376149894. Current best value is 0.22353235376149894 with parameters: {'n_estimators': 983.3008427958581, 'max_depth': 21.980508394305108, 'min_samples_split': 9}.\n",
      "[I 2019-04-14 03:06:02,267] Finished trial#1 resulted in value: 0.2234198405145007. Current best value is 0.2234198405145007 with parameters: {'n_estimators': 339.75737148535154, 'max_depth': 20.4828497409631, 'min_samples_split': 9}.\n",
      "[I 2019-04-14 03:06:14,791] Finished trial#2 resulted in value: 0.23735127270579126. Current best value is 0.2234198405145007 with parameters: {'n_estimators': 339.75737148535154, 'max_depth': 20.4828497409631, 'min_samples_split': 9}.\n",
      "[I 2019-04-14 03:06:55,756] Finished trial#3 resulted in value: 0.22686679893616102. Current best value is 0.2234198405145007 with parameters: {'n_estimators': 339.75737148535154, 'max_depth': 20.4828497409631, 'min_samples_split': 9}.\n",
      "[I 2019-04-14 03:07:41,946] Finished trial#4 resulted in value: 0.22380799295658627. Current best value is 0.2234198405145007 with parameters: {'n_estimators': 339.75737148535154, 'max_depth': 20.4828497409631, 'min_samples_split': 9}.\n",
      "[I 2019-04-14 03:08:10,148] Finished trial#5 resulted in value: 0.22622635096538546. Current best value is 0.2234198405145007 with parameters: {'n_estimators': 339.75737148535154, 'max_depth': 20.4828497409631, 'min_samples_split': 9}.\n",
      "[I 2019-04-14 03:09:01,152] Finished trial#6 resulted in value: 0.22162881169178228. Current best value is 0.22162881169178228 with parameters: {'n_estimators': 227.41280580531233, 'max_depth': 16.218441243356413, 'min_samples_split': 8}.\n",
      "[I 2019-04-14 03:09:30,375] Finished trial#7 resulted in value: 0.22253313422791698. Current best value is 0.22162881169178228 with parameters: {'n_estimators': 227.41280580531233, 'max_depth': 16.218441243356413, 'min_samples_split': 8}.\n",
      "[I 2019-04-14 03:10:01,167] Finished trial#8 resulted in value: 0.23728723386113892. Current best value is 0.22162881169178228 with parameters: {'n_estimators': 227.41280580531233, 'max_depth': 16.218441243356413, 'min_samples_split': 8}.\n",
      "[I 2019-04-14 03:10:33,239] Finished trial#9 resulted in value: 0.24232159584644775. Current best value is 0.22162881169178228 with parameters: {'n_estimators': 227.41280580531233, 'max_depth': 16.218441243356413, 'min_samples_split': 8}.\n"
     ]
    },
    {
     "name": "stdout",
     "output_type": "stream",
     "text": [
      "{'n_estimators': 227.41280580531233, 'max_depth': 16.218441243356413, 'min_samples_split': 8}\n",
      "0.22162881169178228\n",
      "FrozenTrial(number=6, state=<TrialState.COMPLETE: 1>, value=0.22162881169178228, datetime_start=datetime.datetime(2019, 4, 14, 3, 8, 10, 150199), datetime_complete=datetime.datetime(2019, 4, 14, 3, 9, 1, 151820), params={'n_estimators': 227.41280580531233, 'max_depth': 16.218441243356413, 'min_samples_split': 8}, user_attrs={}, system_attrs={'_number': 6}, intermediate_values={}, params_in_internal_repr={'n_estimators': 227.41280580531233, 'max_depth': 16.218441243356413, 'min_samples_split': 8}, trial_id=6)\n",
      "Wall time: 10min 3s\n"
     ]
    }
   ],
   "source": [
    "%%time\n",
    "# optuna\n",
    "study = optuna.create_study()\n",
    "study.optimize(objective, n_trials=10)\n",
    "\n",
    "# 最適解\n",
    "print(study.best_params)\n",
    "print(study.best_value)\n",
    "print(study.best_trial)"
   ]
  },
  {
   "cell_type": "code",
   "execution_count": 13,
   "metadata": {},
   "outputs": [
    {
     "name": "stderr",
     "output_type": "stream",
     "text": [
      "[I 2019-04-14 03:13:41,737] Finished trial#10 resulted in value: 0.22316437282907997. Current best value is 0.22162881169178228 with parameters: {'n_estimators': 227.41280580531233, 'max_depth': 16.218441243356413, 'min_samples_split': 8}.\n",
      "[I 2019-04-14 03:14:30,111] Finished trial#11 resulted in value: 0.2213089580895531. Current best value is 0.2213089580895531 with parameters: {'n_estimators': 300.9048421486603, 'max_depth': 10.270117474733778, 'min_samples_split': 12}.\n",
      "[I 2019-04-14 03:15:32,456] Finished trial#12 resulted in value: 0.22326422810828395. Current best value is 0.2213089580895531 with parameters: {'n_estimators': 300.9048421486603, 'max_depth': 10.270117474733778, 'min_samples_split': 12}.\n",
      "[I 2019-04-14 03:16:21,700] Finished trial#13 resulted in value: 0.2329163461283561. Current best value is 0.2213089580895531 with parameters: {'n_estimators': 300.9048421486603, 'max_depth': 10.270117474733778, 'min_samples_split': 12}.\n",
      "[I 2019-04-14 03:17:36,198] Finished trial#14 resulted in value: 0.22081464272379814. Current best value is 0.22081464272379814 with parameters: {'n_estimators': 436.6760407364802, 'max_depth': 11.729451060183159, 'min_samples_split': 13}.\n",
      "[I 2019-04-14 03:19:56,208] Finished trial#15 resulted in value: 0.22030277878000348. Current best value is 0.22030277878000348 with parameters: {'n_estimators': 767.9162261361963, 'max_depth': 12.815554942981358, 'min_samples_split': 14}.\n",
      "[I 2019-04-14 03:21:00,907] Finished trial#16 resulted in value: 0.2299713900449516. Current best value is 0.22030277878000348 with parameters: {'n_estimators': 767.9162261361963, 'max_depth': 12.815554942981358, 'min_samples_split': 14}.\n",
      "[I 2019-04-14 03:22:33,155] Finished trial#17 resulted in value: 0.2205667030153201. Current best value is 0.22030277878000348 with parameters: {'n_estimators': 767.9162261361963, 'max_depth': 12.815554942981358, 'min_samples_split': 14}.\n",
      "[I 2019-04-14 03:26:40,338] Finished trial#18 resulted in value: 0.2241987416717094. Current best value is 0.22030277878000348 with parameters: {'n_estimators': 767.9162261361963, 'max_depth': 12.815554942981358, 'min_samples_split': 14}.\n",
      "[I 2019-04-14 03:28:24,846] Finished trial#19 resulted in value: 0.22023442897808942. Current best value is 0.22023442897808942 with parameters: {'n_estimators': 543.9796184486303, 'max_depth': 13.932803762438002, 'min_samples_split': 13}.\n"
     ]
    },
    {
     "name": "stdout",
     "output_type": "stream",
     "text": [
      "{'n_estimators': 543.9796184486303, 'max_depth': 13.932803762438002, 'min_samples_split': 13}\n",
      "0.22023442897808942\n",
      "FrozenTrial(number=19, state=<TrialState.COMPLETE: 1>, value=0.22023442897808942, datetime_start=datetime.datetime(2019, 4, 14, 3, 26, 40, 341935), datetime_complete=datetime.datetime(2019, 4, 14, 3, 28, 24, 846344), params={'n_estimators': 543.9796184486303, 'max_depth': 13.932803762438002, 'min_samples_split': 13}, user_attrs={}, system_attrs={'_number': 19}, intermediate_values={}, params_in_internal_repr={'n_estimators': 543.9796184486303, 'max_depth': 13.932803762438002, 'min_samples_split': 13}, trial_id=19)\n"
     ]
    }
   ],
   "source": [
    "study.optimize(objective, n_trials=10)\n",
    "\n",
    "# 最適解\n",
    "print(study.best_params)\n",
    "print(study.best_value)\n",
    "print(study.best_trial)"
   ]
  },
  {
   "cell_type": "code",
   "execution_count": 14,
   "metadata": {},
   "outputs": [],
   "source": [
    "param = study.best_params"
   ]
  },
  {
   "cell_type": "code",
   "execution_count": 18,
   "metadata": {},
   "outputs": [],
   "source": [
    "param[\"n_estimators\"] = int(param[\"n_estimators\"])\n",
    "param[\"max_depth\"] = int(param[\"max_depth\"])\n"
   ]
  },
  {
   "cell_type": "code",
   "execution_count": 22,
   "metadata": {},
   "outputs": [],
   "source": [
    "clf = RandomForestClassifier(**param)"
   ]
  },
  {
   "cell_type": "code",
   "execution_count": 23,
   "metadata": {},
   "outputs": [
    {
     "data": {
      "text/plain": [
       "RandomForestClassifier(bootstrap=True, class_weight=None, criterion='gini',\n",
       "            max_depth=13, max_features='auto', max_leaf_nodes=None,\n",
       "            min_impurity_decrease=0.0, min_impurity_split=None,\n",
       "            min_samples_leaf=1, min_samples_split=13,\n",
       "            min_weight_fraction_leaf=0.0, n_estimators=543, n_jobs=1,\n",
       "            oob_score=False, random_state=None, verbose=0,\n",
       "            warm_start=False)"
      ]
     },
     "execution_count": 23,
     "metadata": {},
     "output_type": "execute_result"
    }
   ],
   "source": [
    "clf.fit(X, y)"
   ]
  },
  {
   "cell_type": "code",
   "execution_count": 33,
   "metadata": {},
   "outputs": [],
   "source": [
    "X[fmid] = clf.predict_proba(X)[:,1]\n",
    "X[fmid].to_csv(fmid, index=False)"
   ]
  },
  {
   "cell_type": "code",
   "execution_count": 53,
   "metadata": {},
   "outputs": [],
   "source": [
    "from nklearn.encoder.get_threshold import CutOff"
   ]
  },
  {
   "cell_type": "code",
   "execution_count": 55,
   "metadata": {},
   "outputs": [],
   "source": [
    "#!/usr/bin/python\n",
    "# -*- Coding: utf-8 -*-\n",
    "\n",
    "import numpy as np\n",
    "from sklearn.metrics import roc_curve\n",
    "\n",
    "class CutOff:\n",
    "\n",
    "    def __init__(self, train_proba, y):\n",
    "        self.proba = train_proba\n",
    "        self.y = y\n",
    "\n",
    "    def get_threshold_vec(self, proba, y):\n",
    "        fpr, tpr, thresholds = roc_curve(y_true=y, y_score=proba)\n",
    "        c2p = (tpr - 1)**2 + fpr**2\n",
    "        return thresholds[c2p == min(c2p)][0]\n",
    "\n",
    "    def get_threshold_ydx(self, proba, y):\n",
    "        # Youden index法\n",
    "        fpr, tpr, thresholds = roc_curve(y_true=y, y_score=proba)\n",
    "        ydx = tpr - (fpr-1)\n",
    "        return thresholds[ydx == max(ydx)][0]\n",
    "\n",
    "    def get_binary_vec(self, test_proba):\n",
    "        thres = self.get_threshold_vec(self.proba, self.y)\n",
    "        predict = test_proba >= thres\n",
    "        return np.vectorize(int)(predict)\n",
    "\n",
    "    def get_binary_ydx(self, test_proba):\n",
    "        thres = self.get_threshold_ydx(self.proba, self.y)\n",
    "        predict = test_proba >= thres\n",
    "        return np.vectorize(int)(predict)\n",
    "\n",
    "if __name__ == \"__main__\":\n",
    "    pass"
   ]
  },
  {
   "cell_type": "code",
   "execution_count": 56,
   "metadata": {},
   "outputs": [],
   "source": [
    "cof = CutOff(train_proba=X[fmid], y=y.astype(float))"
   ]
  },
  {
   "cell_type": "code",
   "execution_count": 57,
   "metadata": {},
   "outputs": [
    {
     "data": {
      "text/plain": [
       "0.20006669088048798"
      ]
     },
     "execution_count": 57,
     "metadata": {},
     "output_type": "execute_result"
    }
   ],
   "source": [
    "cof.get_threshold_vec(X[fmid], y=y.astype(float))"
   ]
  },
  {
   "cell_type": "code",
   "execution_count": 58,
   "metadata": {},
   "outputs": [
    {
     "data": {
      "text/plain": [
       "0.19985212458467586"
      ]
     },
     "execution_count": 58,
     "metadata": {},
     "output_type": "execute_result"
    }
   ],
   "source": [
    "cof.get_threshold_ydx(X[fmid], y=y.astype(float))"
   ]
  },
  {
   "cell_type": "code",
   "execution_count": 42,
   "metadata": {},
   "outputs": [],
   "source": [
    "test_proba = clf.predict_proba(test_X)[:,1]"
   ]
  },
  {
   "cell_type": "code",
   "execution_count": 43,
   "metadata": {},
   "outputs": [],
   "source": [
    "Y = cof.get_binary(test_proba)"
   ]
  },
  {
   "cell_type": "code",
   "execution_count": 50,
   "metadata": {},
   "outputs": [],
   "source": [
    "test_X[\"Y\"] = clf.predict(test_X.drop([\"ID\", \"Y\"],1))"
   ]
  },
  {
   "cell_type": "code",
   "execution_count": 51,
   "metadata": {},
   "outputs": [],
   "source": [
    "test_X[\"ID\"] = test_X.index"
   ]
  },
  {
   "cell_type": "code",
   "execution_count": 52,
   "metadata": {},
   "outputs": [],
   "source": [
    "test_X[[\"ID\", \"Y\"]].to_csv(\"test.csv\", index=False)"
   ]
  },
  {
   "cell_type": "code",
   "execution_count": 47,
   "metadata": {},
   "outputs": [
    {
     "data": {
      "text/plain": [
       "['../models/rf_f847c3ee-5e15-11e9-af66-f06e0bb794dc.pkl']"
      ]
     },
     "execution_count": 47,
     "metadata": {},
     "output_type": "execute_result"
    }
   ],
   "source": [
    "joblib.dump(clf, mout)"
   ]
  },
  {
   "cell_type": "code",
   "execution_count": 64,
   "metadata": {},
   "outputs": [],
   "source": [
    "import matplotlib.pyplot as plt"
   ]
  },
  {
   "cell_type": "code",
   "execution_count": 65,
   "metadata": {},
   "outputs": [
    {
     "data": {
      "text/plain": [
       "<matplotlib.axes._subplots.AxesSubplot at 0x2168eb5f160>"
      ]
     },
     "execution_count": 65,
     "metadata": {},
     "output_type": "execute_result"
    },
    {
     "data": {
      "image/png": "[encoded data removed]",
      "text/plain": [
       "<Figure size 432x288 with 1 Axes>"
      ]
     },
     "metadata": {},
     "output_type": "display_data"
    }
   ],
   "source": [
    "X[y==\"1\"][\"../data/mid/rf_f847c3ee-5e15-11e9-af66-f06e0bb794dc.csv\"].hist()"
   ]
  },
  {
   "cell_type": "code",
   "execution_count": 68,
   "metadata": {},
   "outputs": [
    {
     "name": "stderr",
     "output_type": "stream",
     "text": [
      "C:\\Users\\keisu\\Anaconda3\\lib\\site-packages\\ipykernel_launcher.py:1: UserWarning: Boolean Series key will be reindexed to match DataFrame index.\n",
      "  \"\"\"Entry point for launching an IPython kernel.\n"
     ]
    }
   ],
   "source": [
    "a = X[y==\"1\"][X[\"../data/mid/rf_f847c3ee-5e15-11e9-af66-f06e0bb794dc.csv\"] >= 0.5]"
   ]
  },
  {
   "cell_type": "code",
   "execution_count": 69,
   "metadata": {},
   "outputs": [
    {
     "name": "stderr",
     "output_type": "stream",
     "text": [
      "C:\\Users\\keisu\\Anaconda3\\lib\\site-packages\\ipykernel_launcher.py:1: UserWarning: Boolean Series key will be reindexed to match DataFrame index.\n",
      "  \"\"\"Entry point for launching an IPython kernel.\n"
     ]
    }
   ],
   "source": [
    "b = X[y==\"1\"][X[\"../data/mid/rf_f847c3ee-5e15-11e9-af66-f06e0bb794dc.csv\"] < 0.5]"
   ]
  },
  {
   "cell_type": "code",
   "execution_count": 71,
   "metadata": {},
   "outputs": [
    {
     "data": {
      "text/html": [
       "<div>\n",
       "<style scoped>\n",
       "    .dataframe tbody tr th:only-of-type {\n",
       "        vertical-align: middle;\n",
       "    }\n",
       "\n",
       "    .dataframe tbody tr th {\n",
       "        vertical-align: top;\n",
       "    }\n",
       "\n",
       "    .dataframe thead th {\n",
       "        text-align: right;\n",
       "    }\n",
       "</style>\n",
       "<table border=\"1\" class=\"dataframe\">\n",
       "  <thead>\n",
       "    <tr style=\"text-align: right;\">\n",
       "      <th></th>\n",
       "      <th>X2_1</th>\n",
       "      <th>X2_2</th>\n",
       "      <th>X3_6</th>\n",
       "      <th>X3_0</th>\n",
       "      <th>X3_3</th>\n",
       "      <th>X3_1</th>\n",
       "      <th>X3_2</th>\n",
       "      <th>X3_4</th>\n",
       "      <th>X3_5</th>\n",
       "      <th>X4_3</th>\n",
       "      <th>...</th>\n",
       "      <th>X15_std</th>\n",
       "      <th>X16_std</th>\n",
       "      <th>X17_std</th>\n",
       "      <th>X18_std</th>\n",
       "      <th>X19_std</th>\n",
       "      <th>X20_std</th>\n",
       "      <th>X21_std</th>\n",
       "      <th>X22_std</th>\n",
       "      <th>X23_std</th>\n",
       "      <th>../data/mid/rf_f847c3ee-5e15-11e9-af66-f06e0bb794dc.csv</th>\n",
       "    </tr>\n",
       "  </thead>\n",
       "  <tbody>\n",
       "    <tr>\n",
       "      <th>count</th>\n",
       "      <td>2634.000000</td>\n",
       "      <td>2634.000000</td>\n",
       "      <td>2634.000000</td>\n",
       "      <td>2634.0</td>\n",
       "      <td>2634.000000</td>\n",
       "      <td>2634.000000</td>\n",
       "      <td>2634.000000</td>\n",
       "      <td>2634.000000</td>\n",
       "      <td>2634.000000</td>\n",
       "      <td>2634.000000</td>\n",
       "      <td>...</td>\n",
       "      <td>2634.000000</td>\n",
       "      <td>2634.000000</td>\n",
       "      <td>2634.000000</td>\n",
       "      <td>2634.000000</td>\n",
       "      <td>2634.000000</td>\n",
       "      <td>2634.000000</td>\n",
       "      <td>2634.000000</td>\n",
       "      <td>2634.000000</td>\n",
       "      <td>2634.000000</td>\n",
       "      <td>2634.000000</td>\n",
       "    </tr>\n",
       "    <tr>\n",
       "      <th>mean</th>\n",
       "      <td>0.449506</td>\n",
       "      <td>0.550494</td>\n",
       "      <td>0.000380</td>\n",
       "      <td>0.0</td>\n",
       "      <td>0.206530</td>\n",
       "      <td>0.256644</td>\n",
       "      <td>0.534169</td>\n",
       "      <td>0.000380</td>\n",
       "      <td>0.001898</td>\n",
       "      <td>0.012908</td>\n",
       "      <td>...</td>\n",
       "      <td>0.143563</td>\n",
       "      <td>0.166809</td>\n",
       "      <td>0.171228</td>\n",
       "      <td>-0.178475</td>\n",
       "      <td>-0.136013</td>\n",
       "      <td>-0.116156</td>\n",
       "      <td>-0.151147</td>\n",
       "      <td>-0.136575</td>\n",
       "      <td>-0.126769</td>\n",
       "      <td>0.683583</td>\n",
       "    </tr>\n",
       "    <tr>\n",
       "      <th>std</th>\n",
       "      <td>0.497538</td>\n",
       "      <td>0.497538</td>\n",
       "      <td>0.019485</td>\n",
       "      <td>0.0</td>\n",
       "      <td>0.404892</td>\n",
       "      <td>0.436864</td>\n",
       "      <td>0.498926</td>\n",
       "      <td>0.019485</td>\n",
       "      <td>0.043536</td>\n",
       "      <td>0.112900</td>\n",
       "      <td>...</td>\n",
       "      <td>1.033802</td>\n",
       "      <td>1.077715</td>\n",
       "      <td>1.049114</td>\n",
       "      <td>0.327163</td>\n",
       "      <td>0.322190</td>\n",
       "      <td>0.817396</td>\n",
       "      <td>0.407172</td>\n",
       "      <td>0.586203</td>\n",
       "      <td>0.655485</td>\n",
       "      <td>0.098322</td>\n",
       "    </tr>\n",
       "    <tr>\n",
       "      <th>min</th>\n",
       "      <td>0.000000</td>\n",
       "      <td>0.000000</td>\n",
       "      <td>0.000000</td>\n",
       "      <td>0.0</td>\n",
       "      <td>0.000000</td>\n",
       "      <td>0.000000</td>\n",
       "      <td>0.000000</td>\n",
       "      <td>0.000000</td>\n",
       "      <td>0.000000</td>\n",
       "      <td>0.000000</td>\n",
       "      <td>...</td>\n",
       "      <td>-1.401021</td>\n",
       "      <td>-1.433280</td>\n",
       "      <td>-1.436212</td>\n",
       "      <td>-0.342107</td>\n",
       "      <td>-0.251371</td>\n",
       "      <td>-0.294674</td>\n",
       "      <td>-0.306768</td>\n",
       "      <td>-0.315561</td>\n",
       "      <td>-0.293231</td>\n",
       "      <td>0.500293</td>\n",
       "    </tr>\n",
       "    <tr>\n",
       "      <th>25%</th>\n",
       "      <td>0.000000</td>\n",
       "      <td>0.000000</td>\n",
       "      <td>0.000000</td>\n",
       "      <td>0.0</td>\n",
       "      <td>0.000000</td>\n",
       "      <td>0.000000</td>\n",
       "      <td>0.000000</td>\n",
       "      <td>0.000000</td>\n",
       "      <td>0.000000</td>\n",
       "      <td>0.000000</td>\n",
       "      <td>...</td>\n",
       "      <td>-0.459923</td>\n",
       "      <td>-0.460135</td>\n",
       "      <td>-0.463478</td>\n",
       "      <td>-0.342107</td>\n",
       "      <td>-0.251371</td>\n",
       "      <td>-0.294674</td>\n",
       "      <td>-0.306768</td>\n",
       "      <td>-0.315561</td>\n",
       "      <td>-0.293231</td>\n",
       "      <td>0.607401</td>\n",
       "    </tr>\n",
       "    <tr>\n",
       "      <th>50%</th>\n",
       "      <td>0.000000</td>\n",
       "      <td>1.000000</td>\n",
       "      <td>0.000000</td>\n",
       "      <td>0.0</td>\n",
       "      <td>0.000000</td>\n",
       "      <td>0.000000</td>\n",
       "      <td>1.000000</td>\n",
       "      <td>0.000000</td>\n",
       "      <td>0.000000</td>\n",
       "      <td>0.000000</td>\n",
       "      <td>...</td>\n",
       "      <td>-0.224902</td>\n",
       "      <td>-0.199941</td>\n",
       "      <td>-0.186313</td>\n",
       "      <td>-0.239073</td>\n",
       "      <td>-0.185227</td>\n",
       "      <td>-0.221020</td>\n",
       "      <td>-0.243584</td>\n",
       "      <td>-0.241060</td>\n",
       "      <td>-0.237256</td>\n",
       "      <td>0.685237</td>\n",
       "    </tr>\n",
       "    <tr>\n",
       "      <th>75%</th>\n",
       "      <td>1.000000</td>\n",
       "      <td>1.000000</td>\n",
       "      <td>0.000000</td>\n",
       "      <td>0.0</td>\n",
       "      <td>0.000000</td>\n",
       "      <td>1.000000</td>\n",
       "      <td>1.000000</td>\n",
       "      <td>0.000000</td>\n",
       "      <td>0.000000</td>\n",
       "      <td>0.000000</td>\n",
       "      <td>...</td>\n",
       "      <td>0.379004</td>\n",
       "      <td>0.371088</td>\n",
       "      <td>0.412476</td>\n",
       "      <td>-0.142101</td>\n",
       "      <td>-0.119073</td>\n",
       "      <td>-0.125614</td>\n",
       "      <td>-0.118637</td>\n",
       "      <td>-0.117595</td>\n",
       "      <td>-0.135620</td>\n",
       "      <td>0.758371</td>\n",
       "    </tr>\n",
       "    <tr>\n",
       "      <th>max</th>\n",
       "      <td>1.000000</td>\n",
       "      <td>1.000000</td>\n",
       "      <td>1.000000</td>\n",
       "      <td>0.0</td>\n",
       "      <td>1.000000</td>\n",
       "      <td>1.000000</td>\n",
       "      <td>1.000000</td>\n",
       "      <td>1.000000</td>\n",
       "      <td>1.000000</td>\n",
       "      <td>1.000000</td>\n",
       "      <td>...</td>\n",
       "      <td>7.868680</td>\n",
       "      <td>8.364004</td>\n",
       "      <td>7.995053</td>\n",
       "      <td>7.841047</td>\n",
       "      <td>10.550345</td>\n",
       "      <td>28.345673</td>\n",
       "      <td>9.781134</td>\n",
       "      <td>18.688001</td>\n",
       "      <td>15.826545</td>\n",
       "      <td>0.974786</td>\n",
       "    </tr>\n",
       "  </tbody>\n",
       "</table>\n",
       "<p>8 rows × 92 columns</p>\n",
       "</div>"
      ],
      "text/plain": [
       "              X2_1         X2_2         X3_6    X3_0         X3_3  \\\n",
       "count  2634.000000  2634.000000  2634.000000  2634.0  2634.000000   \n",
       "mean      0.449506     0.550494     0.000380     0.0     0.206530   \n",
       "std       0.497538     0.497538     0.019485     0.0     0.404892   \n",
       "min       0.000000     0.000000     0.000000     0.0     0.000000   \n",
       "25%       0.000000     0.000000     0.000000     0.0     0.000000   \n",
       "50%       0.000000     1.000000     0.000000     0.0     0.000000   \n",
       "75%       1.000000     1.000000     0.000000     0.0     0.000000   \n",
       "max       1.000000     1.000000     1.000000     0.0     1.000000   \n",
       "\n",
       "              X3_1         X3_2         X3_4         X3_5         X4_3  \\\n",
       "count  2634.000000  2634.000000  2634.000000  2634.000000  2634.000000   \n",
       "mean      0.256644     0.534169     0.000380     0.001898     0.012908   \n",
       "std       0.436864     0.498926     0.019485     0.043536     0.112900   \n",
       "min       0.000000     0.000000     0.000000     0.000000     0.000000   \n",
       "25%       0.000000     0.000000     0.000000     0.000000     0.000000   \n",
       "50%       0.000000     1.000000     0.000000     0.000000     0.000000   \n",
       "75%       1.000000     1.000000     0.000000     0.000000     0.000000   \n",
       "max       1.000000     1.000000     1.000000     1.000000     1.000000   \n",
       "\n",
       "                                ...                                 X15_std  \\\n",
       "count                           ...                             2634.000000   \n",
       "mean                            ...                                0.143563   \n",
       "std                             ...                                1.033802   \n",
       "min                             ...                               -1.401021   \n",
       "25%                             ...                               -0.459923   \n",
       "50%                             ...                               -0.224902   \n",
       "75%                             ...                                0.379004   \n",
       "max                             ...                                7.868680   \n",
       "\n",
       "           X16_std      X17_std      X18_std      X19_std      X20_std  \\\n",
       "count  2634.000000  2634.000000  2634.000000  2634.000000  2634.000000   \n",
       "mean      0.166809     0.171228    -0.178475    -0.136013    -0.116156   \n",
       "std       1.077715     1.049114     0.327163     0.322190     0.817396   \n",
       "min      -1.433280    -1.436212    -0.342107    -0.251371    -0.294674   \n",
       "25%      -0.460135    -0.463478    -0.342107    -0.251371    -0.294674   \n",
       "50%      -0.199941    -0.186313    -0.239073    -0.185227    -0.221020   \n",
       "75%       0.371088     0.412476    -0.142101    -0.119073    -0.125614   \n",
       "max       8.364004     7.995053     7.841047    10.550345    28.345673   \n",
       "\n",
       "           X21_std      X22_std      X23_std  \\\n",
       "count  2634.000000  2634.000000  2634.000000   \n",
       "mean     -0.151147    -0.136575    -0.126769   \n",
       "std       0.407172     0.586203     0.655485   \n",
       "min      -0.306768    -0.315561    -0.293231   \n",
       "25%      -0.306768    -0.315561    -0.293231   \n",
       "50%      -0.243584    -0.241060    -0.237256   \n",
       "75%      -0.118637    -0.117595    -0.135620   \n",
       "max       9.781134    18.688001    15.826545   \n",
       "\n",
       "       ../data/mid/rf_f847c3ee-5e15-11e9-af66-f06e0bb794dc.csv  \n",
       "count                                        2634.000000        \n",
       "mean                                            0.683583        \n",
       "std                                             0.098322        \n",
       "min                                             0.500293        \n",
       "25%                                             0.607401        \n",
       "50%                                             0.685237        \n",
       "75%                                             0.758371        \n",
       "max                                             0.974786        \n",
       "\n",
       "[8 rows x 92 columns]"
      ]
     },
     "execution_count": 71,
     "metadata": {},
     "output_type": "execute_result"
    }
   ],
   "source": [
    "a.describe()"
   ]
  },
  {
   "cell_type": "code",
   "execution_count": 72,
   "metadata": {},
   "outputs": [
    {
     "data": {
      "text/html": [
       "<div>\n",
       "<style scoped>\n",
       "    .dataframe tbody tr th:only-of-type {\n",
       "        vertical-align: middle;\n",
       "    }\n",
       "\n",
       "    .dataframe tbody tr th {\n",
       "        vertical-align: top;\n",
       "    }\n",
       "\n",
       "    .dataframe thead th {\n",
       "        text-align: right;\n",
       "    }\n",
       "</style>\n",
       "<table border=\"1\" class=\"dataframe\">\n",
       "  <thead>\n",
       "    <tr style=\"text-align: right;\">\n",
       "      <th></th>\n",
       "      <th>X2_1</th>\n",
       "      <th>X2_2</th>\n",
       "      <th>X3_6</th>\n",
       "      <th>X3_0</th>\n",
       "      <th>X3_3</th>\n",
       "      <th>X3_1</th>\n",
       "      <th>X3_2</th>\n",
       "      <th>X3_4</th>\n",
       "      <th>X3_5</th>\n",
       "      <th>X4_3</th>\n",
       "      <th>...</th>\n",
       "      <th>X15_std</th>\n",
       "      <th>X16_std</th>\n",
       "      <th>X17_std</th>\n",
       "      <th>X18_std</th>\n",
       "      <th>X19_std</th>\n",
       "      <th>X20_std</th>\n",
       "      <th>X21_std</th>\n",
       "      <th>X22_std</th>\n",
       "      <th>X23_std</th>\n",
       "      <th>../data/mid/rf_f847c3ee-5e15-11e9-af66-f06e0bb794dc.csv</th>\n",
       "    </tr>\n",
       "  </thead>\n",
       "  <tbody>\n",
       "    <tr>\n",
       "      <th>count</th>\n",
       "      <td>3360.000000</td>\n",
       "      <td>3360.000000</td>\n",
       "      <td>3360.000000</td>\n",
       "      <td>3360.0</td>\n",
       "      <td>3360.000000</td>\n",
       "      <td>3360.000000</td>\n",
       "      <td>3360.000000</td>\n",
       "      <td>3360.000000</td>\n",
       "      <td>3360.000000</td>\n",
       "      <td>3360.000000</td>\n",
       "      <td>...</td>\n",
       "      <td>3360.000000</td>\n",
       "      <td>3360.000000</td>\n",
       "      <td>3360.000000</td>\n",
       "      <td>3360.000000</td>\n",
       "      <td>3360.000000</td>\n",
       "      <td>3360.000000</td>\n",
       "      <td>3360.000000</td>\n",
       "      <td>3360.000000</td>\n",
       "      <td>3360.000000</td>\n",
       "      <td>3360.000000</td>\n",
       "    </tr>\n",
       "    <tr>\n",
       "      <th>mean</th>\n",
       "      <td>0.418750</td>\n",
       "      <td>0.581250</td>\n",
       "      <td>0.001488</td>\n",
       "      <td>0.0</td>\n",
       "      <td>0.170536</td>\n",
       "      <td>0.344643</td>\n",
       "      <td>0.477976</td>\n",
       "      <td>0.001488</td>\n",
       "      <td>0.003869</td>\n",
       "      <td>0.012500</td>\n",
       "      <td>...</td>\n",
       "      <td>-0.150696</td>\n",
       "      <td>-0.157324</td>\n",
       "      <td>-0.155539</td>\n",
       "      <td>-0.111469</td>\n",
       "      <td>-0.086140</td>\n",
       "      <td>-0.091362</td>\n",
       "      <td>-0.076096</td>\n",
       "      <td>-0.085707</td>\n",
       "      <td>-0.081427</td>\n",
       "      <td>0.258931</td>\n",
       "    </tr>\n",
       "    <tr>\n",
       "      <th>std</th>\n",
       "      <td>0.493428</td>\n",
       "      <td>0.493428</td>\n",
       "      <td>0.038553</td>\n",
       "      <td>0.0</td>\n",
       "      <td>0.376159</td>\n",
       "      <td>0.475322</td>\n",
       "      <td>0.499589</td>\n",
       "      <td>0.038553</td>\n",
       "      <td>0.062090</td>\n",
       "      <td>0.111119</td>\n",
       "      <td>...</td>\n",
       "      <td>0.943035</td>\n",
       "      <td>0.927628</td>\n",
       "      <td>0.929790</td>\n",
       "      <td>0.594555</td>\n",
       "      <td>0.608768</td>\n",
       "      <td>0.714686</td>\n",
       "      <td>0.873492</td>\n",
       "      <td>0.850541</td>\n",
       "      <td>0.798310</td>\n",
       "      <td>0.108548</td>\n",
       "    </tr>\n",
       "    <tr>\n",
       "      <th>min</th>\n",
       "      <td>0.000000</td>\n",
       "      <td>0.000000</td>\n",
       "      <td>0.000000</td>\n",
       "      <td>0.0</td>\n",
       "      <td>0.000000</td>\n",
       "      <td>0.000000</td>\n",
       "      <td>0.000000</td>\n",
       "      <td>0.000000</td>\n",
       "      <td>0.000000</td>\n",
       "      <td>0.000000</td>\n",
       "      <td>...</td>\n",
       "      <td>-1.690033</td>\n",
       "      <td>-1.538421</td>\n",
       "      <td>-6.356305</td>\n",
       "      <td>-0.342107</td>\n",
       "      <td>-0.251371</td>\n",
       "      <td>-0.294674</td>\n",
       "      <td>-0.306768</td>\n",
       "      <td>-0.315561</td>\n",
       "      <td>-0.293231</td>\n",
       "      <td>0.062665</td>\n",
       "    </tr>\n",
       "    <tr>\n",
       "      <th>25%</th>\n",
       "      <td>0.000000</td>\n",
       "      <td>0.000000</td>\n",
       "      <td>0.000000</td>\n",
       "      <td>0.0</td>\n",
       "      <td>0.000000</td>\n",
       "      <td>0.000000</td>\n",
       "      <td>0.000000</td>\n",
       "      <td>0.000000</td>\n",
       "      <td>0.000000</td>\n",
       "      <td>0.000000</td>\n",
       "      <td>...</td>\n",
       "      <td>-0.668093</td>\n",
       "      <td>-0.659675</td>\n",
       "      <td>-0.649352</td>\n",
       "      <td>-0.336561</td>\n",
       "      <td>-0.246298</td>\n",
       "      <td>-0.294674</td>\n",
       "      <td>-0.306768</td>\n",
       "      <td>-0.315561</td>\n",
       "      <td>-0.293231</td>\n",
       "      <td>0.173164</td>\n",
       "    </tr>\n",
       "    <tr>\n",
       "      <th>50%</th>\n",
       "      <td>0.000000</td>\n",
       "      <td>1.000000</td>\n",
       "      <td>0.000000</td>\n",
       "      <td>0.0</td>\n",
       "      <td>0.000000</td>\n",
       "      <td>0.000000</td>\n",
       "      <td>0.000000</td>\n",
       "      <td>0.000000</td>\n",
       "      <td>0.000000</td>\n",
       "      <td>0.000000</td>\n",
       "      <td>...</td>\n",
       "      <td>-0.517998</td>\n",
       "      <td>-0.512849</td>\n",
       "      <td>-0.521957</td>\n",
       "      <td>-0.245134</td>\n",
       "      <td>-0.187832</td>\n",
       "      <td>-0.229981</td>\n",
       "      <td>-0.243584</td>\n",
       "      <td>-0.249573</td>\n",
       "      <td>-0.237256</td>\n",
       "      <td>0.240343</td>\n",
       "    </tr>\n",
       "    <tr>\n",
       "      <th>75%</th>\n",
       "      <td>1.000000</td>\n",
       "      <td>1.000000</td>\n",
       "      <td>0.000000</td>\n",
       "      <td>0.0</td>\n",
       "      <td>0.000000</td>\n",
       "      <td>1.000000</td>\n",
       "      <td>1.000000</td>\n",
       "      <td>0.000000</td>\n",
       "      <td>0.000000</td>\n",
       "      <td>0.000000</td>\n",
       "      <td>...</td>\n",
       "      <td>-0.092680</td>\n",
       "      <td>-0.163913</td>\n",
       "      <td>-0.146114</td>\n",
       "      <td>-0.122570</td>\n",
       "      <td>-0.103115</td>\n",
       "      <td>-0.125614</td>\n",
       "      <td>-0.120232</td>\n",
       "      <td>-0.117595</td>\n",
       "      <td>-0.125306</td>\n",
       "      <td>0.336109</td>\n",
       "    </tr>\n",
       "    <tr>\n",
       "      <th>max</th>\n",
       "      <td>1.000000</td>\n",
       "      <td>1.000000</td>\n",
       "      <td>1.000000</td>\n",
       "      <td>0.0</td>\n",
       "      <td>1.000000</td>\n",
       "      <td>1.000000</td>\n",
       "      <td>1.000000</td>\n",
       "      <td>1.000000</td>\n",
       "      <td>1.000000</td>\n",
       "      <td>1.000000</td>\n",
       "      <td>...</td>\n",
       "      <td>7.759544</td>\n",
       "      <td>7.057017</td>\n",
       "      <td>7.374685</td>\n",
       "      <td>13.944867</td>\n",
       "      <td>14.942278</td>\n",
       "      <td>17.709846</td>\n",
       "      <td>26.997126</td>\n",
       "      <td>21.592692</td>\n",
       "      <td>19.034525</td>\n",
       "      <td>0.499956</td>\n",
       "    </tr>\n",
       "  </tbody>\n",
       "</table>\n",
       "<p>8 rows × 92 columns</p>\n",
       "</div>"
      ],
      "text/plain": [
       "              X2_1         X2_2         X3_6    X3_0         X3_3  \\\n",
       "count  3360.000000  3360.000000  3360.000000  3360.0  3360.000000   \n",
       "mean      0.418750     0.581250     0.001488     0.0     0.170536   \n",
       "std       0.493428     0.493428     0.038553     0.0     0.376159   \n",
       "min       0.000000     0.000000     0.000000     0.0     0.000000   \n",
       "25%       0.000000     0.000000     0.000000     0.0     0.000000   \n",
       "50%       0.000000     1.000000     0.000000     0.0     0.000000   \n",
       "75%       1.000000     1.000000     0.000000     0.0     0.000000   \n",
       "max       1.000000     1.000000     1.000000     0.0     1.000000   \n",
       "\n",
       "              X3_1         X3_2         X3_4         X3_5         X4_3  \\\n",
       "count  3360.000000  3360.000000  3360.000000  3360.000000  3360.000000   \n",
       "mean      0.344643     0.477976     0.001488     0.003869     0.012500   \n",
       "std       0.475322     0.499589     0.038553     0.062090     0.111119   \n",
       "min       0.000000     0.000000     0.000000     0.000000     0.000000   \n",
       "25%       0.000000     0.000000     0.000000     0.000000     0.000000   \n",
       "50%       0.000000     0.000000     0.000000     0.000000     0.000000   \n",
       "75%       1.000000     1.000000     0.000000     0.000000     0.000000   \n",
       "max       1.000000     1.000000     1.000000     1.000000     1.000000   \n",
       "\n",
       "                                ...                                 X15_std  \\\n",
       "count                           ...                             3360.000000   \n",
       "mean                            ...                               -0.150696   \n",
       "std                             ...                                0.943035   \n",
       "min                             ...                               -1.690033   \n",
       "25%                             ...                               -0.668093   \n",
       "50%                             ...                               -0.517998   \n",
       "75%                             ...                               -0.092680   \n",
       "max                             ...                                7.759544   \n",
       "\n",
       "           X16_std      X17_std      X18_std      X19_std      X20_std  \\\n",
       "count  3360.000000  3360.000000  3360.000000  3360.000000  3360.000000   \n",
       "mean     -0.157324    -0.155539    -0.111469    -0.086140    -0.091362   \n",
       "std       0.927628     0.929790     0.594555     0.608768     0.714686   \n",
       "min      -1.538421    -6.356305    -0.342107    -0.251371    -0.294674   \n",
       "25%      -0.659675    -0.649352    -0.336561    -0.246298    -0.294674   \n",
       "50%      -0.512849    -0.521957    -0.245134    -0.187832    -0.229981   \n",
       "75%      -0.163913    -0.146114    -0.122570    -0.103115    -0.125614   \n",
       "max       7.057017     7.374685    13.944867    14.942278    17.709846   \n",
       "\n",
       "           X21_std      X22_std      X23_std  \\\n",
       "count  3360.000000  3360.000000  3360.000000   \n",
       "mean     -0.076096    -0.085707    -0.081427   \n",
       "std       0.873492     0.850541     0.798310   \n",
       "min      -0.306768    -0.315561    -0.293231   \n",
       "25%      -0.306768    -0.315561    -0.293231   \n",
       "50%      -0.243584    -0.249573    -0.237256   \n",
       "75%      -0.120232    -0.117595    -0.125306   \n",
       "max      26.997126    21.592692    19.034525   \n",
       "\n",
       "       ../data/mid/rf_f847c3ee-5e15-11e9-af66-f06e0bb794dc.csv  \n",
       "count                                        3360.000000        \n",
       "mean                                            0.258931        \n",
       "std                                             0.108548        \n",
       "min                                             0.062665        \n",
       "25%                                             0.173164        \n",
       "50%                                             0.240343        \n",
       "75%                                             0.336109        \n",
       "max                                             0.499956        \n",
       "\n",
       "[8 rows x 92 columns]"
      ]
     },
     "execution_count": 72,
     "metadata": {},
     "output_type": "execute_result"
    }
   ],
   "source": [
    "b.describe()"
   ]
  },
  {
   "cell_type": "code",
   "execution_count": null,
   "metadata": {},
   "outputs": [],
   "source": []
  },
  {
   "cell_type": "code",
   "execution_count": 66,
   "metadata": {},
   "outputs": [
    {
     "data": {
      "text/plain": [
       "<matplotlib.axes._subplots.AxesSubplot at 0x2168cd9d588>"
      ]
     },
     "execution_count": 66,
     "metadata": {},
     "output_type": "execute_result"
    },
    {
     "data": {
      "image/png": "[encoded data removed]",
      "text/plain": [
       "<Figure size 432x288 with 1 Axes>"
      ]
     },
     "metadata": {},
     "output_type": "display_data"
    }
   ],
   "source": [
    "X[y==\"0\"][\"../data/mid/rf_f847c3ee-5e15-11e9-af66-f06e0bb794dc.csv\"].hist()"
   ]
  },
  {
   "cell_type": "code",
   "execution_count": null,
   "metadata": {},
   "outputs": [],
   "source": []
  }
 ],
 "metadata": {
  "hide_input": false,
  "kernelspec": {
   "display_name": "Python 3",
   "language": "python",
   "name": "python3"
  },
  "language_info": {
   "codemirror_mode": {
    "name": "ipython",
    "version": 3
   },
   "file_extension": ".py",
   "mimetype": "text/x-python",
   "name": "python",
   "nbconvert_exporter": "python",
   "pygments_lexer": "ipython3",
   "version": "3.6.5"
  },
  "toc": {
   "base_numbering": 1,
   "nav_menu": {},
   "number_sections": true,
   "sideBar": true,
   "skip_h1_title": false,
   "title_cell": "Table of Contents",
   "title_sidebar": "Contents",
   "toc_cell": true,
   "toc_position": {},
   "toc_section_display": true,
   "toc_window_display": true
  }
 },
 "nbformat": 4,
 "nbformat_minor": 2
}
