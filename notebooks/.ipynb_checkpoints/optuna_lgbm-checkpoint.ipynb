{
 "cells": [
  {
   "cell_type": "markdown",
   "metadata": {
    "toc": true
   },
   "source": [
    "<h1>Table of Contents<span class=\"tocSkip\"></span></h1>\n",
    "<div class=\"toc\"><ul class=\"toc-item\"><li><span><a href=\"#modeling\" data-toc-modified-id=\"modeling-1\"><span class=\"toc-item-num\">1&nbsp;&nbsp;</span>modeling</a></span></li></ul></div>"
   ]
  },
  {
   "cell_type": "code",
   "execution_count": 1,
   "metadata": {},
   "outputs": [],
   "source": [
    "import sys\n",
    "import os\n",
    "sys.path.append(os.path.abspath(\"../src/\"))"
   ]
  },
  {
   "cell_type": "code",
   "execution_count": 2,
   "metadata": {},
   "outputs": [],
   "source": [
    "from load_data import LoadData\n",
    "import optuna\n",
    "from sklearn.ensemble import RandomForestClassifier\n",
    "from sklearn.externals import joblib\n",
    "from nklearn.lgbm_util.modeling import CvEnsembleModeling\n",
    "import numpy as np\n",
    "import pandas as pd\n",
    "import uuid"
   ]
  },
  {
   "cell_type": "code",
   "execution_count": 3,
   "metadata": {},
   "outputs": [],
   "source": [
    "uid = uuid.uuid1()"
   ]
  },
  {
   "cell_type": "code",
   "execution_count": 4,
   "metadata": {},
   "outputs": [],
   "source": [
    "alg = \"lgb\""
   ]
  },
  {
   "cell_type": "code",
   "execution_count": 5,
   "metadata": {},
   "outputs": [],
   "source": [
    "docs = \"../docs/\"\n",
    "finfo = docs + \"info/\" + \"ddl.csv\"\n",
    "\n",
    "data = \"../data/\"\n",
    "data_in, data_mid, data_out = [data + fld for fld in [\"in/\", \"mid/\", \"out/\"]]\n",
    "\n",
    "fin, ftest = data_in + \"train_data.csv\", data_in + \"test_data.csv\"\n",
    "fmid = data_mid + \"%s_%s.csv\"%(alg, uid)\n",
    "fout = data_out + \"%s_%s.csv\"%(alg, uid)\n",
    "\n",
    "models = \"../models/\"\n",
    "mout = models + \"%s_%s.pkl\"%(alg, uid)\n",
    "\n",
    "loader = LoadData(fin, ftest, finfo)"
   ]
  },
  {
   "cell_type": "code",
   "execution_count": 6,
   "metadata": {},
   "outputs": [],
   "source": [
    "X, y, test_X = loader.get_features_v1()"
   ]
  },
  {
   "cell_type": "code",
   "execution_count": 7,
   "metadata": {},
   "outputs": [],
   "source": [
    "y = y.astype(float)"
   ]
  },
  {
   "cell_type": "markdown",
   "metadata": {},
   "source": [
    "# modeling"
   ]
  },
  {
   "cell_type": "code",
   "execution_count": 8,
   "metadata": {},
   "outputs": [],
   "source": [
    "opt = CvEnsembleModeling()"
   ]
  },
  {
   "cell_type": "code",
   "execution_count": 9,
   "metadata": {
    "scrolled": true
   },
   "outputs": [
    {
     "name": "stderr",
     "output_type": "stream",
     "text": [
      "[I 2019-04-14 15:11:19,285] Finished trial#0 resulted in value: 0.24561410647219506. Current best value is 0.24561410647219506 with parameters: {'num_leaves': 481, 'learning_rate': 0.20283955241701276, 'feature_fraction': 0.3870762819285266}.\n",
      "[I 2019-04-14 15:11:19,641] Finished trial#1 resulted in value: 0.2270117212543057. Current best value is 0.2270117212543057 with parameters: {'num_leaves': 72, 'learning_rate': 1.0216570061307609e-05, 'feature_fraction': 0.38235154108827485}.\n",
      "[I 2019-04-14 15:11:20,079] Finished trial#2 resulted in value: 0.2198307807672505. Current best value is 0.2198307807672505 with parameters: {'num_leaves': 116, 'learning_rate': 5.34398624512123e-05, 'feature_fraction': 0.7553879012148553}.\n",
      "[I 2019-04-14 15:11:20,427] Finished trial#3 resulted in value: 0.22315180943662793. Current best value is 0.2198307807672505 with parameters: {'num_leaves': 116, 'learning_rate': 5.34398624512123e-05, 'feature_fraction': 0.7553879012148553}.\n",
      "[I 2019-04-14 15:11:20,833] Finished trial#4 resulted in value: 0.2607953280121186. Current best value is 0.2198307807672505 with parameters: {'num_leaves': 116, 'learning_rate': 5.34398624512123e-05, 'feature_fraction': 0.7553879012148553}.\n",
      "[I 2019-04-14 15:11:21,218] Finished trial#5 resulted in value: 0.23594437931974888. Current best value is 0.2198307807672505 with parameters: {'num_leaves': 116, 'learning_rate': 5.34398624512123e-05, 'feature_fraction': 0.7553879012148553}.\n",
      "[I 2019-04-14 15:11:21,600] Finished trial#6 resulted in value: 0.2694643005296735. Current best value is 0.2198307807672505 with parameters: {'num_leaves': 116, 'learning_rate': 5.34398624512123e-05, 'feature_fraction': 0.7553879012148553}.\n",
      "[I 2019-04-14 15:11:23,823] Finished trial#7 resulted in value: 0.22051356457209492. Current best value is 0.2198307807672505 with parameters: {'num_leaves': 116, 'learning_rate': 5.34398624512123e-05, 'feature_fraction': 0.7553879012148553}.\n",
      "[I 2019-04-14 15:11:24,266] Finished trial#8 resulted in value: 0.22535716142954276. Current best value is 0.2198307807672505 with parameters: {'num_leaves': 116, 'learning_rate': 5.34398624512123e-05, 'feature_fraction': 0.7553879012148553}.\n",
      "[I 2019-04-14 15:11:24,674] Finished trial#9 resulted in value: 0.2304611688544197. Current best value is 0.2198307807672505 with parameters: {'num_leaves': 116, 'learning_rate': 5.34398624512123e-05, 'feature_fraction': 0.7553879012148553}.\n",
      "[I 2019-04-14 15:11:25,023] Finished trial#10 resulted in value: 0.23354461257775094. Current best value is 0.2198307807672505 with parameters: {'num_leaves': 116, 'learning_rate': 5.34398624512123e-05, 'feature_fraction': 0.7553879012148553}.\n",
      "[I 2019-04-14 15:11:25,318] Finished trial#11 resulted in value: 0.2294047395517208. Current best value is 0.2198307807672505 with parameters: {'num_leaves': 116, 'learning_rate': 5.34398624512123e-05, 'feature_fraction': 0.7553879012148553}.\n",
      "[I 2019-04-14 15:11:25,649] Finished trial#12 resulted in value: 0.35585878125472636. Current best value is 0.2198307807672505 with parameters: {'num_leaves': 116, 'learning_rate': 5.34398624512123e-05, 'feature_fraction': 0.7553879012148553}.\n",
      "[I 2019-04-14 15:11:25,998] Finished trial#13 resulted in value: 0.22677562493574088. Current best value is 0.2198307807672505 with parameters: {'num_leaves': 116, 'learning_rate': 5.34398624512123e-05, 'feature_fraction': 0.7553879012148553}.\n",
      "[I 2019-04-14 15:11:26,541] Finished trial#14 resulted in value: 0.22272675666974584. Current best value is 0.2198307807672505 with parameters: {'num_leaves': 116, 'learning_rate': 5.34398624512123e-05, 'feature_fraction': 0.7553879012148553}.\n",
      "[I 2019-04-14 15:11:27,095] Finished trial#15 resulted in value: 0.22688092051959852. Current best value is 0.2198307807672505 with parameters: {'num_leaves': 116, 'learning_rate': 5.34398624512123e-05, 'feature_fraction': 0.7553879012148553}.\n",
      "[I 2019-04-14 15:11:27,653] Finished trial#16 resulted in value: 0.22087798057956431. Current best value is 0.2198307807672505 with parameters: {'num_leaves': 116, 'learning_rate': 5.34398624512123e-05, 'feature_fraction': 0.7553879012148553}.\n",
      "[I 2019-04-14 15:11:28,345] Finished trial#17 resulted in value: 0.22606951930035302. Current best value is 0.2198307807672505 with parameters: {'num_leaves': 116, 'learning_rate': 5.34398624512123e-05, 'feature_fraction': 0.7553879012148553}.\n",
      "[I 2019-04-14 15:11:28,932] Finished trial#18 resulted in value: 0.2495165930358434. Current best value is 0.2198307807672505 with parameters: {'num_leaves': 116, 'learning_rate': 5.34398624512123e-05, 'feature_fraction': 0.7553879012148553}.\n",
      "[I 2019-04-14 15:11:30,209] Finished trial#19 resulted in value: 0.22198065657602184. Current best value is 0.2198307807672505 with parameters: {'num_leaves': 116, 'learning_rate': 5.34398624512123e-05, 'feature_fraction': 0.7553879012148553}.\n",
      "[I 2019-04-14 15:11:31,506] Finished trial#0 resulted in value: 0.22401860711109933. Current best value is 0.22401860711109933 with parameters: {'num_leaves': 498, 'learning_rate': 0.00026242464077200683, 'feature_fraction': 0.8869649127416939}.\n",
      "[I 2019-04-14 15:11:31,862] Finished trial#1 resulted in value: 0.24331948447875407. Current best value is 0.22401860711109933 with parameters: {'num_leaves': 498, 'learning_rate': 0.00026242464077200683, 'feature_fraction': 0.8869649127416939}.\n",
      "[I 2019-04-14 15:11:32,299] Finished trial#2 resulted in value: 0.22322378860905068. Current best value is 0.22322378860905068 with parameters: {'num_leaves': 205, 'learning_rate': 0.11193476941772235, 'feature_fraction': 0.23576809481396033}.\n",
      "[I 2019-04-14 15:11:32,857] Finished trial#3 resulted in value: 0.23169490404901805. Current best value is 0.22322378860905068 with parameters: {'num_leaves': 205, 'learning_rate': 0.11193476941772235, 'feature_fraction': 0.23576809481396033}.\n",
      "[I 2019-04-14 15:11:33,163] Finished trial#4 resulted in value: 0.23769014049834047. Current best value is 0.22322378860905068 with parameters: {'num_leaves': 205, 'learning_rate': 0.11193476941772235, 'feature_fraction': 0.23576809481396033}.\n",
      "[I 2019-04-14 15:11:33,510] Finished trial#5 resulted in value: 0.21237993098668462. Current best value is 0.21237993098668462 with parameters: {'num_leaves': 49, 'learning_rate': 0.008999255161976557, 'feature_fraction': 0.5389141282626404}.\n",
      "[I 2019-04-14 15:11:34,407] Finished trial#6 resulted in value: 0.21472815460157912. Current best value is 0.21237993098668462 with parameters: {'num_leaves': 49, 'learning_rate': 0.008999255161976557, 'feature_fraction': 0.5389141282626404}.\n",
      "[I 2019-04-14 15:11:34,912] Finished trial#7 resulted in value: 0.21376269878155618. Current best value is 0.21237993098668462 with parameters: {'num_leaves': 49, 'learning_rate': 0.008999255161976557, 'feature_fraction': 0.5389141282626404}.\n",
      "[I 2019-04-14 15:11:35,655] Finished trial#8 resulted in value: 0.2193324834886805. Current best value is 0.21237993098668462 with parameters: {'num_leaves': 49, 'learning_rate': 0.008999255161976557, 'feature_fraction': 0.5389141282626404}.\n",
      "[I 2019-04-14 15:11:36,168] Finished trial#9 resulted in value: 0.2322632980471111. Current best value is 0.21237993098668462 with parameters: {'num_leaves': 49, 'learning_rate': 0.008999255161976557, 'feature_fraction': 0.5389141282626404}.\n",
      "[I 2019-04-14 15:11:36,581] Finished trial#10 resulted in value: 0.22503379492431896. Current best value is 0.21237993098668462 with parameters: {'num_leaves': 49, 'learning_rate': 0.008999255161976557, 'feature_fraction': 0.5389141282626404}.\n",
      "[I 2019-04-14 15:11:36,934] Finished trial#11 resulted in value: 0.23747225282355622. Current best value is 0.21237993098668462 with parameters: {'num_leaves': 49, 'learning_rate': 0.008999255161976557, 'feature_fraction': 0.5389141282626404}.\n",
      "[I 2019-04-14 15:11:37,356] Finished trial#12 resulted in value: 0.21272805493906177. Current best value is 0.21237993098668462 with parameters: {'num_leaves': 49, 'learning_rate': 0.008999255161976557, 'feature_fraction': 0.5389141282626404}.\n"
     ]
    },
    {
     "name": "stderr",
     "output_type": "stream",
     "text": [
      "[I 2019-04-14 15:11:37,822] Finished trial#13 resulted in value: 0.21064963483216892. Current best value is 0.21064963483216892 with parameters: {'num_leaves': 110, 'learning_rate': 0.008028706425629976, 'feature_fraction': 0.6647864421986172}.\n",
      "[I 2019-04-14 15:11:38,341] Finished trial#14 resulted in value: 0.21114625990594804. Current best value is 0.21064963483216892 with parameters: {'num_leaves': 110, 'learning_rate': 0.008028706425629976, 'feature_fraction': 0.6647864421986172}.\n",
      "[I 2019-04-14 15:11:38,833] Finished trial#15 resulted in value: 0.2101168771325942. Current best value is 0.2101168771325942 with parameters: {'num_leaves': 131, 'learning_rate': 0.0012489279279280477, 'feature_fraction': 0.6568682641928606}.\n",
      "[I 2019-04-14 15:11:39,249] Finished trial#16 resulted in value: 0.23248783650741256. Current best value is 0.2101168771325942 with parameters: {'num_leaves': 131, 'learning_rate': 0.0012489279279280477, 'feature_fraction': 0.6568682641928606}.\n",
      "[I 2019-04-14 15:11:40,019] Finished trial#17 resulted in value: 0.21049765941982523. Current best value is 0.2101168771325942 with parameters: {'num_leaves': 131, 'learning_rate': 0.0012489279279280477, 'feature_fraction': 0.6568682641928606}.\n",
      "[I 2019-04-14 15:11:40,645] Finished trial#18 resulted in value: 0.21030260279980195. Current best value is 0.2101168771325942 with parameters: {'num_leaves': 131, 'learning_rate': 0.0012489279279280477, 'feature_fraction': 0.6568682641928606}.\n",
      "[I 2019-04-14 15:11:41,249] Finished trial#19 resulted in value: 0.21291169603170457. Current best value is 0.2101168771325942 with parameters: {'num_leaves': 131, 'learning_rate': 0.0012489279279280477, 'feature_fraction': 0.6568682641928606}.\n",
      "[I 2019-04-14 15:11:42,149] Finished trial#0 resulted in value: 0.25178514031866994. Current best value is 0.25178514031866994 with parameters: {'num_leaves': 399, 'learning_rate': 0.2512335315522761, 'feature_fraction': 0.5840256084204767}.\n",
      "[I 2019-04-14 15:11:43,111] Finished trial#1 resulted in value: 0.22373053875928894. Current best value is 0.22373053875928894 with parameters: {'num_leaves': 306, 'learning_rate': 0.0010046306511542064, 'feature_fraction': 0.5819056398334338}.\n",
      "[I 2019-04-14 15:11:43,903] Finished trial#2 resulted in value: 0.2303372504143837. Current best value is 0.22373053875928894 with parameters: {'num_leaves': 306, 'learning_rate': 0.0010046306511542064, 'feature_fraction': 0.5819056398334338}.\n",
      "[I 2019-04-14 15:11:44,277] Finished trial#3 resulted in value: 0.28286346691750375. Current best value is 0.22373053875928894 with parameters: {'num_leaves': 306, 'learning_rate': 0.0010046306511542064, 'feature_fraction': 0.5819056398334338}.\n",
      "[I 2019-04-14 15:11:44,900] Finished trial#4 resulted in value: 0.23008898751022178. Current best value is 0.22373053875928894 with parameters: {'num_leaves': 306, 'learning_rate': 0.0010046306511542064, 'feature_fraction': 0.5819056398334338}.\n",
      "[I 2019-04-14 15:11:45,950] Finished trial#5 resulted in value: 0.2242404654041028. Current best value is 0.22373053875928894 with parameters: {'num_leaves': 306, 'learning_rate': 0.0010046306511542064, 'feature_fraction': 0.5819056398334338}.\n",
      "[I 2019-04-14 15:11:46,641] Finished trial#6 resulted in value: 0.23250590282031036. Current best value is 0.22373053875928894 with parameters: {'num_leaves': 306, 'learning_rate': 0.0010046306511542064, 'feature_fraction': 0.5819056398334338}.\n",
      "[I 2019-04-14 15:11:47,059] Finished trial#7 resulted in value: 0.22382831523293922. Current best value is 0.22373053875928894 with parameters: {'num_leaves': 306, 'learning_rate': 0.0010046306511542064, 'feature_fraction': 0.5819056398334338}.\n",
      "[I 2019-04-14 15:11:47,647] Finished trial#8 resulted in value: 0.23860715477608796. Current best value is 0.22373053875928894 with parameters: {'num_leaves': 306, 'learning_rate': 0.0010046306511542064, 'feature_fraction': 0.5819056398334338}.\n",
      "[I 2019-04-14 15:11:48,207] Finished trial#9 resulted in value: 0.22204133850334284. Current best value is 0.22204133850334284 with parameters: {'num_leaves': 231, 'learning_rate': 1.922067626821242e-05, 'feature_fraction': 0.39734061849394864}.\n",
      "[I 2019-04-14 15:11:48,610] Finished trial#10 resulted in value: 0.22396301845602906. Current best value is 0.22204133850334284 with parameters: {'num_leaves': 231, 'learning_rate': 1.922067626821242e-05, 'feature_fraction': 0.39734061849394864}.\n",
      "[I 2019-04-14 15:11:48,901] Finished trial#11 resulted in value: 0.3086182864042657. Current best value is 0.22204133850334284 with parameters: {'num_leaves': 231, 'learning_rate': 1.922067626821242e-05, 'feature_fraction': 0.39734061849394864}.\n",
      "[I 2019-04-14 15:11:49,208] Finished trial#12 resulted in value: 0.2307065179087786. Current best value is 0.22204133850334284 with parameters: {'num_leaves': 231, 'learning_rate': 1.922067626821242e-05, 'feature_fraction': 0.39734061849394864}.\n",
      "[I 2019-04-14 15:11:50,600] Finished trial#13 resulted in value: 0.227311540065821. Current best value is 0.22204133850334284 with parameters: {'num_leaves': 231, 'learning_rate': 1.922067626821242e-05, 'feature_fraction': 0.39734061849394864}.\n",
      "[I 2019-04-14 15:11:51,038] Finished trial#14 resulted in value: 0.22758074798108952. Current best value is 0.22204133850334284 with parameters: {'num_leaves': 231, 'learning_rate': 1.922067626821242e-05, 'feature_fraction': 0.39734061849394864}.\n",
      "[I 2019-04-14 15:11:51,455] Finished trial#15 resulted in value: 0.2379019729803401. Current best value is 0.22204133850334284 with parameters: {'num_leaves': 231, 'learning_rate': 1.922067626821242e-05, 'feature_fraction': 0.39734061849394864}.\n",
      "[I 2019-04-14 15:11:52,097] Finished trial#16 resulted in value: 0.2279983577523046. Current best value is 0.22204133850334284 with parameters: {'num_leaves': 231, 'learning_rate': 1.922067626821242e-05, 'feature_fraction': 0.39734061849394864}.\n",
      "[I 2019-04-14 15:11:52,856] Finished trial#17 resulted in value: 0.22895954515774175. Current best value is 0.22204133850334284 with parameters: {'num_leaves': 231, 'learning_rate': 1.922067626821242e-05, 'feature_fraction': 0.39734061849394864}.\n",
      "[I 2019-04-14 15:11:53,643] Finished trial#18 resulted in value: 0.22681858781389475. Current best value is 0.22204133850334284 with parameters: {'num_leaves': 231, 'learning_rate': 1.922067626821242e-05, 'feature_fraction': 0.39734061849394864}.\n",
      "[I 2019-04-14 15:11:54,300] Finished trial#19 resulted in value: 0.2260128501117431. Current best value is 0.22204133850334284 with parameters: {'num_leaves': 231, 'learning_rate': 1.922067626821242e-05, 'feature_fraction': 0.39734061849394864}.\n",
      "[I 2019-04-14 15:11:55,482] Finished trial#0 resulted in value: 0.22957568583992172. Current best value is 0.22957568583992172 with parameters: {'num_leaves': 306, 'learning_rate': 0.07245256123548893, 'feature_fraction': 0.9408908798028237}.\n",
      "[I 2019-04-14 15:11:55,989] Finished trial#1 resulted in value: 0.23489462674104167. Current best value is 0.22957568583992172 with parameters: {'num_leaves': 306, 'learning_rate': 0.07245256123548893, 'feature_fraction': 0.9408908798028237}.\n",
      "[I 2019-04-14 15:11:56,568] Finished trial#2 resulted in value: 0.2260549386648676. Current best value is 0.2260549386648676 with parameters: {'num_leaves': 150, 'learning_rate': 0.006095073591579315, 'feature_fraction': 0.8982545983650675}.\n",
      "[I 2019-04-14 15:11:56,908] Finished trial#3 resulted in value: 0.25218428671516513. Current best value is 0.2260549386648676 with parameters: {'num_leaves': 150, 'learning_rate': 0.006095073591579315, 'feature_fraction': 0.8982545983650675}.\n",
      "[I 2019-04-14 15:11:57,382] Finished trial#4 resulted in value: 0.221529724345786. Current best value is 0.221529724345786 with parameters: {'num_leaves': 158, 'learning_rate': 1.8926638609312714e-05, 'feature_fraction': 0.7000674284135379}.\n",
      "[I 2019-04-14 15:11:57,648] Finished trial#5 resulted in value: 0.30419015370064595. Current best value is 0.221529724345786 with parameters: {'num_leaves': 158, 'learning_rate': 1.8926638609312714e-05, 'feature_fraction': 0.7000674284135379}.\n"
     ]
    },
    {
     "name": "stderr",
     "output_type": "stream",
     "text": [
      "[I 2019-04-14 15:11:57,917] Finished trial#6 resulted in value: 0.2534380094179094. Current best value is 0.221529724345786 with parameters: {'num_leaves': 158, 'learning_rate': 1.8926638609312714e-05, 'feature_fraction': 0.7000674284135379}.\n",
      "[I 2019-04-14 15:11:59,326] Finished trial#7 resulted in value: 0.2198754655301698. Current best value is 0.2198754655301698 with parameters: {'num_leaves': 365, 'learning_rate': 0.004948894693502531, 'feature_fraction': 0.35220158481258623}.\n",
      "[I 2019-04-14 15:11:59,766] Finished trial#8 resulted in value: 0.24581462096776285. Current best value is 0.2198754655301698 with parameters: {'num_leaves': 365, 'learning_rate': 0.004948894693502531, 'feature_fraction': 0.35220158481258623}.\n",
      "[I 2019-04-14 15:12:00,092] Finished trial#9 resulted in value: 0.2411704866330131. Current best value is 0.2198754655301698 with parameters: {'num_leaves': 365, 'learning_rate': 0.004948894693502531, 'feature_fraction': 0.35220158481258623}.\n",
      "[I 2019-04-14 15:12:00,841] Finished trial#10 resulted in value: 0.22425108680783934. Current best value is 0.2198754655301698 with parameters: {'num_leaves': 365, 'learning_rate': 0.004948894693502531, 'feature_fraction': 0.35220158481258623}.\n",
      "[I 2019-04-14 15:12:01,529] Finished trial#11 resulted in value: 0.22498714016024224. Current best value is 0.2198754655301698 with parameters: {'num_leaves': 365, 'learning_rate': 0.004948894693502531, 'feature_fraction': 0.35220158481258623}.\n",
      "[I 2019-04-14 15:12:02,227] Finished trial#12 resulted in value: 0.22361003049633332. Current best value is 0.2198754655301698 with parameters: {'num_leaves': 365, 'learning_rate': 0.004948894693502531, 'feature_fraction': 0.35220158481258623}.\n",
      "[I 2019-04-14 15:12:02,833] Finished trial#13 resulted in value: 0.22904124062760378. Current best value is 0.2198754655301698 with parameters: {'num_leaves': 365, 'learning_rate': 0.004948894693502531, 'feature_fraction': 0.35220158481258623}.\n",
      "[I 2019-04-14 15:12:03,648] Finished trial#14 resulted in value: 0.22074513018565223. Current best value is 0.2198754655301698 with parameters: {'num_leaves': 365, 'learning_rate': 0.004948894693502531, 'feature_fraction': 0.35220158481258623}.\n",
      "[I 2019-04-14 15:12:04,239] Finished trial#15 resulted in value: 0.22231620454957413. Current best value is 0.2198754655301698 with parameters: {'num_leaves': 365, 'learning_rate': 0.004948894693502531, 'feature_fraction': 0.35220158481258623}.\n",
      "[I 2019-04-14 15:12:04,868] Finished trial#16 resulted in value: 0.2251106263868624. Current best value is 0.2198754655301698 with parameters: {'num_leaves': 365, 'learning_rate': 0.004948894693502531, 'feature_fraction': 0.35220158481258623}.\n",
      "[I 2019-04-14 15:12:05,551] Finished trial#17 resulted in value: 0.22025972210834266. Current best value is 0.2198754655301698 with parameters: {'num_leaves': 365, 'learning_rate': 0.004948894693502531, 'feature_fraction': 0.35220158481258623}.\n",
      "[I 2019-04-14 15:12:06,263] Finished trial#18 resulted in value: 0.2212891048816964. Current best value is 0.2198754655301698 with parameters: {'num_leaves': 365, 'learning_rate': 0.004948894693502531, 'feature_fraction': 0.35220158481258623}.\n",
      "[I 2019-04-14 15:12:06,938] Finished trial#19 resulted in value: 0.22129267843809386. Current best value is 0.2198754655301698 with parameters: {'num_leaves': 365, 'learning_rate': 0.004948894693502531, 'feature_fraction': 0.35220158481258623}.\n",
      "[I 2019-04-14 15:12:08,712] Finished trial#0 resulted in value: 0.23556697487163203. Current best value is 0.23556697487163203 with parameters: {'num_leaves': 269, 'learning_rate': 0.12712840120972624, 'feature_fraction': 0.6737741116008404}.\n",
      "[I 2019-04-14 15:12:09,053] Finished trial#1 resulted in value: 0.36900199451676774. Current best value is 0.23556697487163203 with parameters: {'num_leaves': 269, 'learning_rate': 0.12712840120972624, 'feature_fraction': 0.6737741116008404}.\n",
      "[I 2019-04-14 15:12:09,401] Finished trial#2 resulted in value: 0.23099238236861486. Current best value is 0.23099238236861486 with parameters: {'num_leaves': 244, 'learning_rate': 0.00441419376611182, 'feature_fraction': 0.16225437855907188}.\n",
      "[I 2019-04-14 15:12:09,734] Finished trial#3 resulted in value: 0.22998439436671214. Current best value is 0.22998439436671214 with parameters: {'num_leaves': 73, 'learning_rate': 0.0001222407491264906, 'feature_fraction': 0.27970257815407107}.\n",
      "[I 2019-04-14 15:12:10,510] Finished trial#4 resulted in value: 0.23316880590081301. Current best value is 0.22998439436671214 with parameters: {'num_leaves': 73, 'learning_rate': 0.0001222407491264906, 'feature_fraction': 0.27970257815407107}.\n",
      "[I 2019-04-14 15:12:11,335] Finished trial#5 resulted in value: 0.22900889326374707. Current best value is 0.22900889326374707 with parameters: {'num_leaves': 420, 'learning_rate': 2.2197516680806532e-05, 'feature_fraction': 0.8855562479037005}.\n",
      "[I 2019-04-14 15:12:11,838] Finished trial#6 resulted in value: 0.23470314127449576. Current best value is 0.22900889326374707 with parameters: {'num_leaves': 420, 'learning_rate': 2.2197516680806532e-05, 'feature_fraction': 0.8855562479037005}.\n",
      "[I 2019-04-14 15:12:12,231] Finished trial#7 resulted in value: 0.369000404943731. Current best value is 0.22900889326374707 with parameters: {'num_leaves': 420, 'learning_rate': 2.2197516680806532e-05, 'feature_fraction': 0.8855562479037005}.\n",
      "[I 2019-04-14 15:12:13,388] Finished trial#8 resulted in value: 0.22660108750639307. Current best value is 0.22660108750639307 with parameters: {'num_leaves': 458, 'learning_rate': 0.0033002607965877816, 'feature_fraction': 0.7438595993108857}.\n",
      "[I 2019-04-14 15:12:13,906] Finished trial#9 resulted in value: 0.23671842184009784. Current best value is 0.22660108750639307 with parameters: {'num_leaves': 458, 'learning_rate': 0.0033002607965877816, 'feature_fraction': 0.7438595993108857}.\n",
      "[I 2019-04-14 15:12:14,316] Finished trial#10 resulted in value: 0.22579507462846715. Current best value is 0.22579507462846715 with parameters: {'num_leaves': 190, 'learning_rate': 0.023243845395250644, 'feature_fraction': 0.4301965366097328}.\n",
      "[I 2019-04-14 15:12:14,640] Finished trial#11 resulted in value: 0.2539073692208589. Current best value is 0.22579507462846715 with parameters: {'num_leaves': 190, 'learning_rate': 0.023243845395250644, 'feature_fraction': 0.4301965366097328}.\n",
      "[I 2019-04-14 15:12:14,964] Finished trial#12 resulted in value: 0.23175488068466088. Current best value is 0.22579507462846715 with parameters: {'num_leaves': 190, 'learning_rate': 0.023243845395250644, 'feature_fraction': 0.4301965366097328}.\n",
      "[I 2019-04-14 15:12:15,358] Finished trial#13 resulted in value: 0.229855539602424. Current best value is 0.22579507462846715 with parameters: {'num_leaves': 190, 'learning_rate': 0.023243845395250644, 'feature_fraction': 0.4301965366097328}.\n",
      "[I 2019-04-14 15:12:15,673] Finished trial#14 resulted in value: 0.26141233961704813. Current best value is 0.22579507462846715 with parameters: {'num_leaves': 190, 'learning_rate': 0.023243845395250644, 'feature_fraction': 0.4301965366097328}.\n",
      "[I 2019-04-14 15:12:16,140] Finished trial#15 resulted in value: 0.2215728705980251. Current best value is 0.2215728705980251 with parameters: {'num_leaves': 75, 'learning_rate': 0.022289214872859387, 'feature_fraction': 0.8079974561047254}.\n",
      "[I 2019-04-14 15:12:16,790] Finished trial#16 resulted in value: 0.22111606704660103. Current best value is 0.22111606704660103 with parameters: {'num_leaves': 62, 'learning_rate': 0.0007118894753684304, 'feature_fraction': 0.8545824220151033}.\n",
      "[I 2019-04-14 15:12:17,455] Finished trial#17 resulted in value: 0.2212013079006947. Current best value is 0.22111606704660103 with parameters: {'num_leaves': 62, 'learning_rate': 0.0007118894753684304, 'feature_fraction': 0.8545824220151033}.\n",
      "[I 2019-04-14 15:12:17,888] Finished trial#18 resulted in value: 0.22159562136211308. Current best value is 0.22111606704660103 with parameters: {'num_leaves': 62, 'learning_rate': 0.0007118894753684304, 'feature_fraction': 0.8545824220151033}.\n"
     ]
    },
    {
     "name": "stderr",
     "output_type": "stream",
     "text": [
      "[I 2019-04-14 15:12:18,180] Finished trial#19 resulted in value: 0.2364547514126336. Current best value is 0.22111606704660103 with parameters: {'num_leaves': 62, 'learning_rate': 0.0007118894753684304, 'feature_fraction': 0.8545824220151033}.\n"
     ]
    }
   ],
   "source": [
    "models, best_scores = opt.opt_fit(X=X, y=y, n_trials=20)"
   ]
  },
  {
   "cell_type": "code",
   "execution_count": 10,
   "metadata": {},
   "outputs": [],
   "source": [
    "w = 1 - np.array(best_scores)"
   ]
  },
  {
   "cell_type": "code",
   "execution_count": 11,
   "metadata": {},
   "outputs": [],
   "source": [
    "def predict(X, models, weight):\n",
    "    preds = []\n",
    "    X = np.array(X)\n",
    "    for model, w in zip(models, weight):\n",
    "        preds.append(model.predict(X)*w)\n",
    "    preds = np.array(preds)\n",
    "    return preds.sum(0)/sum(weight)\n"
   ]
  },
  {
   "cell_type": "code",
   "execution_count": 12,
   "metadata": {},
   "outputs": [],
   "source": [
    "from sklearn.metrics import roc_auc_score"
   ]
  },
  {
   "cell_type": "code",
   "execution_count": 13,
   "metadata": {},
   "outputs": [],
   "source": [
    "p = predict(X, models, w)"
   ]
  },
  {
   "cell_type": "code",
   "execution_count": 14,
   "metadata": {},
   "outputs": [
    {
     "data": {
      "text/plain": [
       "0.8741774757397277"
      ]
     },
     "execution_count": 14,
     "metadata": {},
     "output_type": "execute_result"
    }
   ],
   "source": [
    "roc_auc_score(y_true=y, y_score=p)"
   ]
  },
  {
   "cell_type": "code",
   "execution_count": 15,
   "metadata": {
    "scrolled": true
   },
   "outputs": [
    {
     "name": "stdout",
     "output_type": "stream",
     "text": [
      "0 0.222\n",
      "1 0.222\n",
      "2 0.222\n",
      "3 0.222\n",
      "4 0.222\n",
      "5 0.222\n",
      "6 0.222\n",
      "7 0.222\n",
      "8 0.222\n",
      "9 0.222\n",
      "10 0.222\n",
      "11 0.222\n",
      "12 0.222\n",
      "13 0.222\n",
      "14 0.222\n",
      "15 0.222\n",
      "16 0.222\n",
      "17 0.222\n",
      "18 0.222\n",
      "19 0.222\n",
      "20 0.222\n",
      "21 0.222\n",
      "22 0.7697037037037037\n",
      "23 0.840925925925926\n",
      "24 0.8387407407407408\n",
      "25 0.801962962962963\n",
      "26 0.7788148148148148\n",
      "27 0.778\n",
      "28 0.778\n",
      "29 0.778\n",
      "30 0.778\n",
      "31 0.778\n",
      "32 0.778\n",
      "33 0.778\n",
      "34 0.778\n",
      "35 0.778\n",
      "36 0.778\n",
      "37 0.778\n",
      "38 0.778\n",
      "39 0.778\n",
      "40 0.778\n",
      "41 0.778\n",
      "42 0.778\n",
      "43 0.778\n",
      "44 0.778\n",
      "45 0.778\n",
      "46 0.778\n",
      "47 0.778\n",
      "48 0.778\n",
      "49 0.778\n",
      "50 0.778\n",
      "51 0.778\n",
      "52 0.778\n",
      "53 0.778\n",
      "54 0.778\n",
      "55 0.778\n",
      "56 0.778\n",
      "57 0.778\n",
      "58 0.778\n",
      "59 0.778\n",
      "60 0.778\n",
      "61 0.778\n",
      "62 0.778\n",
      "63 0.778\n",
      "64 0.778\n",
      "65 0.778\n",
      "66 0.778\n",
      "67 0.778\n",
      "68 0.778\n",
      "69 0.778\n",
      "70 0.778\n",
      "71 0.778\n",
      "72 0.778\n",
      "73 0.778\n",
      "74 0.778\n",
      "75 0.778\n",
      "76 0.778\n",
      "77 0.778\n",
      "78 0.778\n",
      "79 0.778\n",
      "80 0.778\n",
      "81 0.778\n",
      "82 0.778\n",
      "83 0.778\n",
      "84 0.778\n",
      "85 0.778\n",
      "86 0.778\n",
      "87 0.778\n",
      "88 0.778\n",
      "89 0.778\n",
      "90 0.778\n",
      "91 0.778\n",
      "92 0.778\n",
      "93 0.778\n",
      "94 0.778\n",
      "95 0.778\n",
      "96 0.778\n",
      "97 0.778\n",
      "98 0.778\n",
      "99 0.778\n"
     ]
    }
   ],
   "source": [
    "best_thre, max_acc = 0,0\n",
    "for thre in range(100):\n",
    "    b = p >= thre/100\n",
    "    b = np.vectorize(int)(b)\n",
    "    acc = sum(b == y)/len(y)\n",
    "    if acc > max_acc:\n",
    "        best_thre = thre/100\n",
    "        max_acc = acc\n",
    "    print(thre, acc)"
   ]
  },
  {
   "cell_type": "code",
   "execution_count": 16,
   "metadata": {},
   "outputs": [],
   "source": [
    "p = predict(test_X, models, w)"
   ]
  },
  {
   "cell_type": "code",
   "execution_count": 17,
   "metadata": {},
   "outputs": [],
   "source": [
    "b = p >= best_thre\n",
    "Y = np.vectorize(int)(b)"
   ]
  },
  {
   "cell_type": "code",
   "execution_count": 18,
   "metadata": {},
   "outputs": [],
   "source": [
    "test_X[\"Y\"] = Y"
   ]
  },
  {
   "cell_type": "code",
   "execution_count": 19,
   "metadata": {},
   "outputs": [],
   "source": [
    "test_X[\"ID\"] = test_X.index"
   ]
  },
  {
   "cell_type": "code",
   "execution_count": 20,
   "metadata": {},
   "outputs": [],
   "source": [
    "test_X[[\"ID\", \"Y\"]].to_csv(fout, index=False)"
   ]
  },
  {
   "cell_type": "code",
   "execution_count": 21,
   "metadata": {
    "scrolled": true
   },
   "outputs": [
    {
     "data": {
      "text/plain": [
       "['../models/lgb_0f23c9cc-5e7c-11e9-aca4-f06e0bb794dc.pkl']"
      ]
     },
     "execution_count": 21,
     "metadata": {},
     "output_type": "execute_result"
    }
   ],
   "source": [
    "joblib.dump(models, mout)"
   ]
  },
  {
   "cell_type": "code",
   "execution_count": null,
   "metadata": {},
   "outputs": [],
   "source": []
  },
  {
   "cell_type": "code",
   "execution_count": null,
   "metadata": {},
   "outputs": [],
   "source": []
  },
  {
   "cell_type": "code",
   "execution_count": null,
   "metadata": {},
   "outputs": [],
   "source": []
  },
  {
   "cell_type": "code",
   "execution_count": 34,
   "metadata": {},
   "outputs": [
    {
     "data": {
      "text/plain": [
       "<matplotlib.axes._subplots.AxesSubplot at 0x1cff0ef1898>"
      ]
     },
     "execution_count": 34,
     "metadata": {},
     "output_type": "execute_result"
    },
    {
     "data": {
      "image/png": "[encoded data removed]",
      "text/plain": [
       "<Figure size 432x288 with 1 Axes>"
      ]
     },
     "metadata": {},
     "output_type": "display_data"
    }
   ],
   "source": [
    "X[y==1][fmid].hist()"
   ]
  },
  {
   "cell_type": "code",
   "execution_count": 35,
   "metadata": {},
   "outputs": [
    {
     "data": {
      "text/plain": [
       "<matplotlib.axes._subplots.AxesSubplot at 0x1cff0fb4cc0>"
      ]
     },
     "execution_count": 35,
     "metadata": {},
     "output_type": "execute_result"
    },
    {
     "data": {
      "image/png": "[encoded data removed]",
      "text/plain": [
       "<Figure size 432x288 with 1 Axes>"
      ]
     },
     "metadata": {},
     "output_type": "display_data"
    }
   ],
   "source": [
    "X[y==0][fmid].hist()"
   ]
  },
  {
   "cell_type": "code",
   "execution_count": null,
   "metadata": {},
   "outputs": [],
   "source": []
  }
 ],
 "metadata": {
  "hide_input": false,
  "kernelspec": {
   "display_name": "Python 3",
   "language": "python",
   "name": "python3"
  },
  "language_info": {
   "codemirror_mode": {
    "name": "ipython",
    "version": 3
   },
   "file_extension": ".py",
   "mimetype": "text/x-python",
   "name": "python",
   "nbconvert_exporter": "python",
   "pygments_lexer": "ipython3",
   "version": "3.6.5"
  },
  "toc": {
   "base_numbering": 1,
   "nav_menu": {},
   "number_sections": true,
   "sideBar": true,
   "skip_h1_title": false,
   "title_cell": "Table of Contents",
   "title_sidebar": "Contents",
   "toc_cell": true,
   "toc_position": {},
   "toc_section_display": true,
   "toc_window_display": true
  }
 },
 "nbformat": 4,
 "nbformat_minor": 2
}
