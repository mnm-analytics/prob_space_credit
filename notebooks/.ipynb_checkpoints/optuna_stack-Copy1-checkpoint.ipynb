{
 "cells": [
  {
   "cell_type": "markdown",
   "metadata": {
    "toc": true
   },
   "source": [
    "<h1>Table of Contents<span class=\"tocSkip\"></span></h1>\n",
    "<div class=\"toc\"><ul class=\"toc-item\"><li><span><a href=\"#modeling\" data-toc-modified-id=\"modeling-1\"><span class=\"toc-item-num\">1&nbsp;&nbsp;</span>modeling</a></span></li></ul></div>"
   ]
  },
  {
   "cell_type": "code",
   "execution_count": 1,
   "metadata": {},
   "outputs": [],
   "source": [
    "import sys\n",
    "import os\n",
    "sys.path.append(os.path.abspath(\"../src/\"))"
   ]
  },
  {
   "cell_type": "code",
   "execution_count": 2,
   "metadata": {},
   "outputs": [],
   "source": [
    "from load_data import LoadData\n",
    "import optuna\n",
    "from sklearn.ensemble import RandomForestClassifier\n",
    "from sklearn.externals import joblib\n",
    "from nklearn.lgbm_util.modeling import CvEnsembleModeling\n",
    "import numpy as np\n",
    "import pandas as pd\n",
    "import uuid"
   ]
  },
  {
   "cell_type": "code",
   "execution_count": 3,
   "metadata": {},
   "outputs": [],
   "source": [
    "uid = uuid.uuid1()"
   ]
  },
  {
   "cell_type": "code",
   "execution_count": 4,
   "metadata": {},
   "outputs": [],
   "source": [
    "alg = \"stack\""
   ]
  },
  {
   "cell_type": "code",
   "execution_count": 5,
   "metadata": {},
   "outputs": [],
   "source": [
    "docs = \"../docs/\"\n",
    "finfo = docs + \"info/\" + \"ddl.csv\"\n",
    "\n",
    "data = \"../data/\"\n",
    "data_in, data_mid, data_out = [data + fld for fld in [\"in/\", \"mid/\", \"out/\"]]\n",
    "\n",
    "fin, ftest = data_in + \"train_data.csv\", data_in + \"test_data.csv\"\n",
    "fmid = data_mid + \"%s_%s.csv\"%(alg, uid)\n",
    "fout = data_out + \"%s_%s.csv\"%(alg, uid)\n",
    "\n",
    "models = \"../models/\"\n",
    "mout = models + \"%s_%s.pkl\"%(alg, uid)\n",
    "\n",
    "loader = LoadData(fin, ftest, finfo)"
   ]
  },
  {
   "cell_type": "code",
   "execution_count": 6,
   "metadata": {},
   "outputs": [],
   "source": [
    "X, y, test_X = loader.get_features_v1()"
   ]
  },
  {
   "cell_type": "code",
   "execution_count": 7,
   "metadata": {},
   "outputs": [],
   "source": [
    "y = y.astype(float)"
   ]
  },
  {
   "cell_type": "code",
   "execution_count": 8,
   "metadata": {},
   "outputs": [],
   "source": [
    "scores = {}\n",
    "for p in os.listdir(data_mid)[1:]:\n",
    "    scores[p] = np.loadtxt(data_mid+p)\n",
    "df_score = pd.DataFrame(scores)"
   ]
  },
  {
   "cell_type": "code",
   "execution_count": 9,
   "metadata": {},
   "outputs": [],
   "source": [
    "from sklearn.externals import joblib"
   ]
  },
  {
   "cell_type": "code",
   "execution_count": 10,
   "metadata": {},
   "outputs": [],
   "source": [
    "scores = {}\n",
    "for p in os.listdir(data_mid)[1:]:\n",
    "    m = joblib.load(\"../models/\" + p.split(\".\")[-2] + \".pkl\")\n",
    "#     print(p.split(\".\")[-2].split(\"_\")[0])\n",
    "    if p.split(\".\")[-2].split(\"_\")[0] != \"svc\":\n",
    "        scores[p] = m.predict_proba(test_X)[:,1]\n",
    "    else:\n",
    "        scores[p] = m.predict(test_X)\n",
    "        \n",
    "df_score_test = pd.DataFrame(scores)"
   ]
  },
  {
   "cell_type": "code",
   "execution_count": 11,
   "metadata": {},
   "outputs": [],
   "source": [
    "X = pd.concat([df_score],1)"
   ]
  },
  {
   "cell_type": "code",
   "execution_count": 12,
   "metadata": {},
   "outputs": [],
   "source": [
    "test_X = pd.concat([df_score_test],1)"
   ]
  },
  {
   "cell_type": "markdown",
   "metadata": {},
   "source": [
    "# modeling"
   ]
  },
  {
   "cell_type": "code",
   "execution_count": 14,
   "metadata": {},
   "outputs": [],
   "source": [
    "opt = CvEnsembleModeling()"
   ]
  },
  {
   "cell_type": "code",
   "execution_count": 15,
   "metadata": {
    "scrolled": true
   },
   "outputs": [
    {
     "name": "stderr",
     "output_type": "stream",
     "text": [
      "[I 2019-04-14 15:16:34,213] Finished trial#0 resulted in value: 0.12886690836684067. Current best value is 0.12886690836684067 with parameters: {'num_leaves': 354, 'learning_rate': 0.6748430141704855, 'feature_fraction': 0.05366176188657845}.\n",
      "[I 2019-04-14 15:16:34,378] Finished trial#1 resulted in value: 0.14713981070215976. Current best value is 0.12886690836684067 with parameters: {'num_leaves': 354, 'learning_rate': 0.6748430141704855, 'feature_fraction': 0.05366176188657845}.\n",
      "[I 2019-04-14 15:16:34,532] Finished trial#2 resulted in value: 0.1462029678071406. Current best value is 0.12886690836684067 with parameters: {'num_leaves': 354, 'learning_rate': 0.6748430141704855, 'feature_fraction': 0.05366176188657845}.\n",
      "[I 2019-04-14 15:16:34,682] Finished trial#3 resulted in value: 0.14620634202943195. Current best value is 0.12886690836684067 with parameters: {'num_leaves': 354, 'learning_rate': 0.6748430141704855, 'feature_fraction': 0.05366176188657845}.\n",
      "[I 2019-04-14 15:16:34,803] Finished trial#4 resulted in value: 0.13693209357790237. Current best value is 0.12886690836684067 with parameters: {'num_leaves': 354, 'learning_rate': 0.6748430141704855, 'feature_fraction': 0.05366176188657845}.\n",
      "[I 2019-04-14 15:16:34,952] Finished trial#5 resulted in value: 0.14620634202943195. Current best value is 0.12886690836684067 with parameters: {'num_leaves': 354, 'learning_rate': 0.6748430141704855, 'feature_fraction': 0.05366176188657845}.\n",
      "[I 2019-04-14 15:16:35,059] Finished trial#6 resulted in value: 0.1473733267330899. Current best value is 0.12886690836684067 with parameters: {'num_leaves': 354, 'learning_rate': 0.6748430141704855, 'feature_fraction': 0.05366176188657845}.\n",
      "[I 2019-04-14 15:16:35,203] Finished trial#7 resulted in value: 0.1462051511274468. Current best value is 0.12886690836684067 with parameters: {'num_leaves': 354, 'learning_rate': 0.6748430141704855, 'feature_fraction': 0.05366176188657845}.\n",
      "[I 2019-04-14 15:16:35,365] Finished trial#8 resulted in value: 0.14713931449299922. Current best value is 0.12886690836684067 with parameters: {'num_leaves': 354, 'learning_rate': 0.6748430141704855, 'feature_fraction': 0.05366176188657845}.\n",
      "[I 2019-04-14 15:16:35,444] Finished trial#9 resulted in value: 0.14126578590202288. Current best value is 0.12886690836684067 with parameters: {'num_leaves': 354, 'learning_rate': 0.6748430141704855, 'feature_fraction': 0.05366176188657845}.\n",
      "[I 2019-04-14 15:16:35,624] Finished trial#10 resulted in value: 0.0910475332648697. Current best value is 0.0910475332648697 with parameters: {'num_leaves': 493, 'learning_rate': 3.2724815077996627e-05, 'feature_fraction': 0.9096916193364337}.\n",
      "[I 2019-04-14 15:16:35,815] Finished trial#11 resulted in value: 0.09114419480933467. Current best value is 0.0910475332648697 with parameters: {'num_leaves': 493, 'learning_rate': 3.2724815077996627e-05, 'feature_fraction': 0.9096916193364337}.\n",
      "[I 2019-04-14 15:16:35,954] Finished trial#12 resulted in value: 0.08404929699070973. Current best value is 0.08404929699070973 with parameters: {'num_leaves': 200, 'learning_rate': 8.126814001597686e-05, 'feature_fraction': 0.8161089628130367}.\n",
      "[I 2019-04-14 15:16:36,107] Finished trial#13 resulted in value: 0.08403143346093189. Current best value is 0.08403143346093189 with parameters: {'num_leaves': 201, 'learning_rate': 7.583049781566003e-05, 'feature_fraction': 0.7767137114792535}.\n",
      "[I 2019-04-14 15:16:36,248] Finished trial#14 resulted in value: 0.084004737408097. Current best value is 0.084004737408097 with parameters: {'num_leaves': 190, 'learning_rate': 0.009168010212659292, 'feature_fraction': 0.7844290754093924}.\n",
      "[I 2019-04-14 15:16:36,372] Finished trial#15 resulted in value: 0.08020724870280993. Current best value is 0.08020724870280993 with parameters: {'num_leaves': 101, 'learning_rate': 0.010310928978734113, 'feature_fraction': 0.6809976114660516}.\n",
      "[I 2019-04-14 15:16:36,490] Finished trial#16 resulted in value: 0.14611047441962388. Current best value is 0.08020724870280993 with parameters: {'num_leaves': 101, 'learning_rate': 0.010310928978734113, 'feature_fraction': 0.6809976114660516}.\n",
      "[I 2019-04-14 15:16:36,633] Finished trial#17 resulted in value: 0.08345672401124382. Current best value is 0.08020724870280993 with parameters: {'num_leaves': 101, 'learning_rate': 0.010310928978734113, 'feature_fraction': 0.6809976114660516}.\n",
      "[I 2019-04-14 15:16:36,766] Finished trial#18 resulted in value: 0.08341355381428028. Current best value is 0.08020724870280993 with parameters: {'num_leaves': 101, 'learning_rate': 0.010310928978734113, 'feature_fraction': 0.6809976114660516}.\n",
      "[I 2019-04-14 15:16:36,875] Finished trial#19 resulted in value: 0.14459207438850163. Current best value is 0.08020724870280993 with parameters: {'num_leaves': 101, 'learning_rate': 0.010310928978734113, 'feature_fraction': 0.6809976114660516}.\n",
      "[I 2019-04-14 15:16:37,011] Finished trial#20 resulted in value: 0.08335063449272928. Current best value is 0.08020724870280993 with parameters: {'num_leaves': 101, 'learning_rate': 0.010310928978734113, 'feature_fraction': 0.6809976114660516}.\n",
      "[I 2019-04-14 15:16:37,110] Finished trial#21 resulted in value: 0.08516408049068336. Current best value is 0.08020724870280993 with parameters: {'num_leaves': 101, 'learning_rate': 0.010310928978734113, 'feature_fraction': 0.6809976114660516}.\n",
      "[I 2019-04-14 15:16:37,265] Finished trial#22 resulted in value: 0.14620812838240982. Current best value is 0.08020724870280993 with parameters: {'num_leaves': 101, 'learning_rate': 0.010310928978734113, 'feature_fraction': 0.6809976114660516}.\n",
      "[I 2019-04-14 15:16:37,407] Finished trial#23 resulted in value: 0.14620683823859237. Current best value is 0.08020724870280993 with parameters: {'num_leaves': 101, 'learning_rate': 0.010310928978734113, 'feature_fraction': 0.6809976114660516}.\n",
      "[I 2019-04-14 15:16:37,519] Finished trial#24 resulted in value: 0.08010721293605372. Current best value is 0.08010721293605372 with parameters: {'num_leaves': 71, 'learning_rate': 0.20961726026963692, 'feature_fraction': 0.8744557575333219}.\n",
      "[I 2019-04-14 15:16:37,626] Finished trial#25 resulted in value: 0.07772650062581898. Current best value is 0.07772650062581898 with parameters: {'num_leaves': 58, 'learning_rate': 0.28275676514355735, 'feature_fraction': 0.8923763851395977}.\n",
      "[I 2019-04-14 15:16:37,837] Finished trial#26 resulted in value: 0.07305895877851554. Current best value is 0.07305895877851554 with parameters: {'num_leaves': 10, 'learning_rate': 0.27756047278015394, 'feature_fraction': 0.8891838803685546}.\n",
      "[I 2019-04-14 15:16:37,951] Finished trial#27 resulted in value: 0.08196432534013165. Current best value is 0.07305895877851554 with parameters: {'num_leaves': 10, 'learning_rate': 0.27756047278015394, 'feature_fraction': 0.8891838803685546}.\n",
      "[I 2019-04-14 15:16:38,065] Finished trial#28 resulted in value: 0.09136143517980033. Current best value is 0.07305895877851554 with parameters: {'num_leaves': 10, 'learning_rate': 0.27756047278015394, 'feature_fraction': 0.8891838803685546}.\n",
      "[I 2019-04-14 15:16:38,174] Finished trial#29 resulted in value: 0.0806894647649814. Current best value is 0.07305895877851554 with parameters: {'num_leaves': 10, 'learning_rate': 0.27756047278015394, 'feature_fraction': 0.8891838803685546}.\n",
      "[I 2019-04-14 15:16:38,262] Finished trial#30 resulted in value: 0.08506106746896402. Current best value is 0.07305895877851554 with parameters: {'num_leaves': 10, 'learning_rate': 0.27756047278015394, 'feature_fraction': 0.8891838803685546}.\n",
      "[I 2019-04-14 15:16:38,447] Finished trial#31 resulted in value: 0.08462539582604722. Current best value is 0.07305895877851554 with parameters: {'num_leaves': 10, 'learning_rate': 0.27756047278015394, 'feature_fraction': 0.8891838803685546}.\n",
      "[I 2019-04-14 15:16:38,629] Finished trial#32 resulted in value: 0.09362206487319469. Current best value is 0.07305895877851554 with parameters: {'num_leaves': 10, 'learning_rate': 0.27756047278015394, 'feature_fraction': 0.8891838803685546}.\n"
     ]
    },
    {
     "name": "stderr",
     "output_type": "stream",
     "text": [
      "[I 2019-04-14 15:16:38,783] Finished trial#33 resulted in value: 0.14725145776327175. Current best value is 0.07305895877851554 with parameters: {'num_leaves': 10, 'learning_rate': 0.27756047278015394, 'feature_fraction': 0.8891838803685546}.\n",
      "[I 2019-04-14 15:16:38,965] Finished trial#34 resulted in value: 0.08468543713446763. Current best value is 0.07305895877851554 with parameters: {'num_leaves': 10, 'learning_rate': 0.27756047278015394, 'feature_fraction': 0.8891838803685546}.\n",
      "[I 2019-04-14 15:16:39,095] Finished trial#35 resulted in value: 0.1482802978366471. Current best value is 0.07305895877851554 with parameters: {'num_leaves': 10, 'learning_rate': 0.27756047278015394, 'feature_fraction': 0.8891838803685546}.\n",
      "[I 2019-04-14 15:16:39,294] Finished trial#36 resulted in value: 0.1467144602097814. Current best value is 0.07305895877851554 with parameters: {'num_leaves': 10, 'learning_rate': 0.27756047278015394, 'feature_fraction': 0.8891838803685546}.\n",
      "[I 2019-04-14 15:16:39,443] Finished trial#37 resulted in value: 0.08127340370505487. Current best value is 0.07305895877851554 with parameters: {'num_leaves': 10, 'learning_rate': 0.27756047278015394, 'feature_fraction': 0.8891838803685546}.\n",
      "[I 2019-04-14 15:16:39,645] Finished trial#38 resulted in value: 0.1439813401537613. Current best value is 0.07305895877851554 with parameters: {'num_leaves': 10, 'learning_rate': 0.27756047278015394, 'feature_fraction': 0.8891838803685546}.\n",
      "[I 2019-04-14 15:16:39,878] Finished trial#39 resulted in value: 0.14678412797591522. Current best value is 0.07305895877851554 with parameters: {'num_leaves': 10, 'learning_rate': 0.27756047278015394, 'feature_fraction': 0.8891838803685546}.\n",
      "[I 2019-04-14 15:16:39,997] Finished trial#40 resulted in value: 0.1467874029563745. Current best value is 0.07305895877851554 with parameters: {'num_leaves': 10, 'learning_rate': 0.27756047278015394, 'feature_fraction': 0.8891838803685546}.\n",
      "[I 2019-04-14 15:16:40,108] Finished trial#41 resulted in value: 0.14454801101504944. Current best value is 0.07305895877851554 with parameters: {'num_leaves': 10, 'learning_rate': 0.27756047278015394, 'feature_fraction': 0.8891838803685546}.\n",
      "[I 2019-04-14 15:16:40,303] Finished trial#42 resulted in value: 0.08708798264776418. Current best value is 0.07305895877851554 with parameters: {'num_leaves': 10, 'learning_rate': 0.27756047278015394, 'feature_fraction': 0.8891838803685546}.\n",
      "[I 2019-04-14 15:16:40,464] Finished trial#43 resulted in value: 0.08779766098910757. Current best value is 0.07305895877851554 with parameters: {'num_leaves': 10, 'learning_rate': 0.27756047278015394, 'feature_fraction': 0.8891838803685546}.\n",
      "[I 2019-04-14 15:16:40,616] Finished trial#44 resulted in value: 0.08690835493166416. Current best value is 0.07305895877851554 with parameters: {'num_leaves': 10, 'learning_rate': 0.27756047278015394, 'feature_fraction': 0.8891838803685546}.\n",
      "[I 2019-04-14 15:16:40,736] Finished trial#45 resulted in value: 0.14499430153400095. Current best value is 0.07305895877851554 with parameters: {'num_leaves': 10, 'learning_rate': 0.27756047278015394, 'feature_fraction': 0.8891838803685546}.\n",
      "[I 2019-04-14 15:16:40,941] Finished trial#46 resulted in value: 0.1472715046133557. Current best value is 0.07305895877851554 with parameters: {'num_leaves': 10, 'learning_rate': 0.27756047278015394, 'feature_fraction': 0.8891838803685546}.\n",
      "[I 2019-04-14 15:16:41,190] Finished trial#47 resulted in value: 0.14621011321905164. Current best value is 0.07305895877851554 with parameters: {'num_leaves': 10, 'learning_rate': 0.27756047278015394, 'feature_fraction': 0.8891838803685546}.\n",
      "[I 2019-04-14 15:16:41,339] Finished trial#48 resulted in value: 0.0829840351649539. Current best value is 0.07305895877851554 with parameters: {'num_leaves': 10, 'learning_rate': 0.27756047278015394, 'feature_fraction': 0.8891838803685546}.\n",
      "[I 2019-04-14 15:16:41,519] Finished trial#49 resulted in value: 0.08810838716541114. Current best value is 0.07305895877851554 with parameters: {'num_leaves': 10, 'learning_rate': 0.27756047278015394, 'feature_fraction': 0.8891838803685546}.\n",
      "[I 2019-04-14 15:16:41,778] Finished trial#0 resulted in value: 0.14951690480780322. Current best value is 0.14951690480780322 with parameters: {'num_leaves': 316, 'learning_rate': 1.4296416683060446e-05, 'feature_fraction': 0.1133028420823956}.\n",
      "[I 2019-04-14 15:16:41,986] Finished trial#1 resulted in value: 0.14952027983328953. Current best value is 0.14951690480780322 with parameters: {'num_leaves': 316, 'learning_rate': 1.4296416683060446e-05, 'feature_fraction': 0.1133028420823956}.\n",
      "[I 2019-04-14 15:16:42,138] Finished trial#2 resulted in value: 0.15177241448727707. Current best value is 0.14951690480780322 with parameters: {'num_leaves': 316, 'learning_rate': 1.4296416683060446e-05, 'feature_fraction': 0.1133028420823956}.\n",
      "[I 2019-04-14 15:16:42,285] Finished trial#3 resulted in value: 0.1507269507101351. Current best value is 0.14951690480780322 with parameters: {'num_leaves': 316, 'learning_rate': 1.4296416683060446e-05, 'feature_fraction': 0.1133028420823956}.\n",
      "[I 2019-04-14 15:16:42,514] Finished trial#4 resulted in value: 0.14951750040053613. Current best value is 0.14951690480780322 with parameters: {'num_leaves': 316, 'learning_rate': 1.4296416683060446e-05, 'feature_fraction': 0.1133028420823956}.\n",
      "[I 2019-04-14 15:16:42,668] Finished trial#5 resulted in value: 0.09710663035668665. Current best value is 0.09710663035668665 with parameters: {'num_leaves': 409, 'learning_rate': 2.0377143362023148e-05, 'feature_fraction': 0.9890719832224977}.\n",
      "[I 2019-04-14 15:16:42,801] Finished trial#6 resulted in value: 0.09473805732341822. Current best value is 0.09473805732341822 with parameters: {'num_leaves': 434, 'learning_rate': 0.8286819828720183, 'feature_fraction': 0.7716074968387491}.\n",
      "[I 2019-04-14 15:16:42,924] Finished trial#7 resulted in value: 0.1495178974623581. Current best value is 0.09473805732341822 with parameters: {'num_leaves': 434, 'learning_rate': 0.8286819828720183, 'feature_fraction': 0.7716074968387491}.\n",
      "[I 2019-04-14 15:16:43,062] Finished trial#8 resulted in value: 0.15052881686099218. Current best value is 0.09473805732341822 with parameters: {'num_leaves': 434, 'learning_rate': 0.8286819828720183, 'feature_fraction': 0.7716074968387491}.\n",
      "[I 2019-04-14 15:16:43,182] Finished trial#9 resulted in value: 0.102785507799386. Current best value is 0.09473805732341822 with parameters: {'num_leaves': 434, 'learning_rate': 0.8286819828720183, 'feature_fraction': 0.7716074968387491}.\n",
      "[I 2019-04-14 15:16:43,274] Finished trial#10 resulted in value: 0.1470028086167975. Current best value is 0.09473805732341822 with parameters: {'num_leaves': 434, 'learning_rate': 0.8286819828720183, 'feature_fraction': 0.7716074968387491}.\n",
      "[I 2019-04-14 15:16:43,347] Finished trial#11 resulted in value: 0.10222257340134466. Current best value is 0.09473805732341822 with parameters: {'num_leaves': 434, 'learning_rate': 0.8286819828720183, 'feature_fraction': 0.7716074968387491}.\n",
      "[I 2019-04-14 15:16:43,508] Finished trial#12 resulted in value: 0.1495032061749466. Current best value is 0.09473805732341822 with parameters: {'num_leaves': 434, 'learning_rate': 0.8286819828720183, 'feature_fraction': 0.7716074968387491}.\n",
      "[I 2019-04-14 15:16:43,667] Finished trial#13 resulted in value: 0.15000548937968816. Current best value is 0.09473805732341822 with parameters: {'num_leaves': 434, 'learning_rate': 0.8286819828720183, 'feature_fraction': 0.7716074968387491}.\n",
      "[I 2019-04-14 15:16:43,783] Finished trial#14 resulted in value: 0.11187643674338621. Current best value is 0.09473805732341822 with parameters: {'num_leaves': 434, 'learning_rate': 0.8286819828720183, 'feature_fraction': 0.7716074968387491}.\n",
      "[I 2019-04-14 15:16:43,942] Finished trial#15 resulted in value: 0.1495124378623065. Current best value is 0.09473805732341822 with parameters: {'num_leaves': 434, 'learning_rate': 0.8286819828720183, 'feature_fraction': 0.7716074968387491}.\n"
     ]
    },
    {
     "name": "stderr",
     "output_type": "stream",
     "text": [
      "[I 2019-04-14 15:16:44,093] Finished trial#16 resulted in value: 0.1499735259030227. Current best value is 0.09473805732341822 with parameters: {'num_leaves': 434, 'learning_rate': 0.8286819828720183, 'feature_fraction': 0.7716074968387491}.\n",
      "[I 2019-04-14 15:16:44,268] Finished trial#17 resulted in value: 0.09679344784463928. Current best value is 0.09473805732341822 with parameters: {'num_leaves': 434, 'learning_rate': 0.8286819828720183, 'feature_fraction': 0.7716074968387491}.\n",
      "[I 2019-04-14 15:16:44,429] Finished trial#18 resulted in value: 0.09777419054480663. Current best value is 0.09473805732341822 with parameters: {'num_leaves': 434, 'learning_rate': 0.8286819828720183, 'feature_fraction': 0.7716074968387491}.\n",
      "[I 2019-04-14 15:16:44,588] Finished trial#19 resulted in value: 0.09567055701222094. Current best value is 0.09473805732341822 with parameters: {'num_leaves': 434, 'learning_rate': 0.8286819828720183, 'feature_fraction': 0.7716074968387491}.\n",
      "[I 2019-04-14 15:16:44,742] Finished trial#20 resulted in value: 0.09483513893888007. Current best value is 0.09473805732341822 with parameters: {'num_leaves': 434, 'learning_rate': 0.8286819828720183, 'feature_fraction': 0.7716074968387491}.\n",
      "[I 2019-04-14 15:16:44,929] Finished trial#21 resulted in value: 0.09839886805615805. Current best value is 0.09473805732341822 with parameters: {'num_leaves': 434, 'learning_rate': 0.8286819828720183, 'feature_fraction': 0.7716074968387491}.\n",
      "[I 2019-04-14 15:16:45,093] Finished trial#22 resulted in value: 0.0951004755013849. Current best value is 0.09473805732341822 with parameters: {'num_leaves': 434, 'learning_rate': 0.8286819828720183, 'feature_fraction': 0.7716074968387491}.\n",
      "[I 2019-04-14 15:16:45,220] Finished trial#23 resulted in value: 0.08802870518735462. Current best value is 0.08802870518735462 with parameters: {'num_leaves': 228, 'learning_rate': 0.6252629365638809, 'feature_fraction': 0.7462239308232527}.\n",
      "[I 2019-04-14 15:16:45,376] Finished trial#24 resulted in value: 0.14680189533490084. Current best value is 0.08802870518735462 with parameters: {'num_leaves': 228, 'learning_rate': 0.6252629365638809, 'feature_fraction': 0.7462239308232527}.\n",
      "[I 2019-04-14 15:16:45,513] Finished trial#25 resulted in value: 0.08921135382397327. Current best value is 0.08802870518735462 with parameters: {'num_leaves': 228, 'learning_rate': 0.6252629365638809, 'feature_fraction': 0.7462239308232527}.\n",
      "[I 2019-04-14 15:16:45,638] Finished trial#26 resulted in value: 0.08904965039699242. Current best value is 0.08802870518735462 with parameters: {'num_leaves': 228, 'learning_rate': 0.6252629365638809, 'feature_fraction': 0.7462239308232527}.\n",
      "[I 2019-04-14 15:16:45,746] Finished trial#27 resulted in value: 0.1475973094296822. Current best value is 0.08802870518735462 with parameters: {'num_leaves': 228, 'learning_rate': 0.6252629365638809, 'feature_fraction': 0.7462239308232527}.\n",
      "[I 2019-04-14 15:16:45,884] Finished trial#28 resulted in value: 0.1510485707858985. Current best value is 0.08802870518735462 with parameters: {'num_leaves': 228, 'learning_rate': 0.6252629365638809, 'feature_fraction': 0.7462239308232527}.\n",
      "[I 2019-04-14 15:16:46,030] Finished trial#29 resulted in value: 0.1495260372297076. Current best value is 0.08802870518735462 with parameters: {'num_leaves': 228, 'learning_rate': 0.6252629365638809, 'feature_fraction': 0.7462239308232527}.\n",
      "[I 2019-04-14 15:16:46,132] Finished trial#30 resulted in value: 0.08615655869695438. Current best value is 0.08615655869695438 with parameters: {'num_leaves': 70, 'learning_rate': 0.43704389859232057, 'feature_fraction': 0.9004595322012827}.\n",
      "[I 2019-04-14 15:16:46,236] Finished trial#31 resulted in value: 0.08650676722389661. Current best value is 0.08615655869695438 with parameters: {'num_leaves': 70, 'learning_rate': 0.43704389859232057, 'feature_fraction': 0.9004595322012827}.\n",
      "[I 2019-04-14 15:16:46,366] Finished trial#32 resulted in value: 0.08481925448069372. Current best value is 0.08481925448069372 with parameters: {'num_leaves': 57, 'learning_rate': 0.33323248503927433, 'feature_fraction': 0.9024339369939143}.\n",
      "[I 2019-04-14 15:16:46,503] Finished trial#33 resulted in value: 0.08522991567002491. Current best value is 0.08481925448069372 with parameters: {'num_leaves': 57, 'learning_rate': 0.33323248503927433, 'feature_fraction': 0.9024339369939143}.\n",
      "[I 2019-04-14 15:16:46,618] Finished trial#34 resulted in value: 0.08736908623567319. Current best value is 0.08481925448069372 with parameters: {'num_leaves': 57, 'learning_rate': 0.33323248503927433, 'feature_fraction': 0.9024339369939143}.\n",
      "[I 2019-04-14 15:16:46,737] Finished trial#35 resulted in value: 0.14529415233157694. Current best value is 0.08481925448069372 with parameters: {'num_leaves': 57, 'learning_rate': 0.33323248503927433, 'feature_fraction': 0.9024339369939143}.\n",
      "[I 2019-04-14 15:16:46,900] Finished trial#36 resulted in value: 0.08796467896856841. Current best value is 0.08481925448069372 with parameters: {'num_leaves': 57, 'learning_rate': 0.33323248503927433, 'feature_fraction': 0.9024339369939143}.\n",
      "[I 2019-04-14 15:16:47,000] Finished trial#37 resulted in value: 0.14518426547235752. Current best value is 0.08481925448069372 with parameters: {'num_leaves': 57, 'learning_rate': 0.33323248503927433, 'feature_fraction': 0.9024339369939143}.\n",
      "[I 2019-04-14 15:16:47,121] Finished trial#38 resulted in value: 0.09038318252594457. Current best value is 0.08481925448069372 with parameters: {'num_leaves': 57, 'learning_rate': 0.33323248503927433, 'feature_fraction': 0.9024339369939143}.\n",
      "[I 2019-04-14 15:16:47,223] Finished trial#39 resulted in value: 0.08882858622763279. Current best value is 0.08481925448069372 with parameters: {'num_leaves': 57, 'learning_rate': 0.33323248503927433, 'feature_fraction': 0.9024339369939143}.\n",
      "[I 2019-04-14 15:16:47,354] Finished trial#40 resulted in value: 0.09160593440657816. Current best value is 0.08481925448069372 with parameters: {'num_leaves': 57, 'learning_rate': 0.33323248503927433, 'feature_fraction': 0.9024339369939143}.\n",
      "[I 2019-04-14 15:16:47,480] Finished trial#41 resulted in value: 0.15085589653680698. Current best value is 0.08481925448069372 with parameters: {'num_leaves': 57, 'learning_rate': 0.33323248503927433, 'feature_fraction': 0.9024339369939143}.\n",
      "[I 2019-04-14 15:16:47,588] Finished trial#42 resulted in value: 0.08719040841580472. Current best value is 0.08481925448069372 with parameters: {'num_leaves': 57, 'learning_rate': 0.33323248503927433, 'feature_fraction': 0.9024339369939143}.\n",
      "[I 2019-04-14 15:16:47,715] Finished trial#43 resulted in value: 0.1501353285954593. Current best value is 0.08481925448069372 with parameters: {'num_leaves': 57, 'learning_rate': 0.33323248503927433, 'feature_fraction': 0.9024339369939143}.\n",
      "[I 2019-04-14 15:16:47,812] Finished trial#44 resulted in value: 0.14352087423483728. Current best value is 0.08481925448069372 with parameters: {'num_leaves': 57, 'learning_rate': 0.33323248503927433, 'feature_fraction': 0.9024339369939143}.\n",
      "[I 2019-04-14 15:16:47,970] Finished trial#45 resulted in value: 0.1490388423741994. Current best value is 0.08481925448069372 with parameters: {'num_leaves': 57, 'learning_rate': 0.33323248503927433, 'feature_fraction': 0.9024339369939143}.\n",
      "[I 2019-04-14 15:16:48,114] Finished trial#46 resulted in value: 0.09125890237421119. Current best value is 0.08481925448069372 with parameters: {'num_leaves': 57, 'learning_rate': 0.33323248503927433, 'feature_fraction': 0.9024339369939143}.\n",
      "[I 2019-04-14 15:16:48,241] Finished trial#47 resulted in value: 0.08772634260995482. Current best value is 0.08481925448069372 with parameters: {'num_leaves': 57, 'learning_rate': 0.33323248503927433, 'feature_fraction': 0.9024339369939143}.\n",
      "[I 2019-04-14 15:16:48,388] Finished trial#48 resulted in value: 0.10628411877786759. Current best value is 0.08481925448069372 with parameters: {'num_leaves': 57, 'learning_rate': 0.33323248503927433, 'feature_fraction': 0.9024339369939143}.\n"
     ]
    },
    {
     "name": "stderr",
     "output_type": "stream",
     "text": [
      "[I 2019-04-14 15:16:48,538] Finished trial#49 resulted in value: 0.15145446723336664. Current best value is 0.08481925448069372 with parameters: {'num_leaves': 57, 'learning_rate': 0.33323248503927433, 'feature_fraction': 0.9024339369939143}.\n",
      "[I 2019-04-14 15:16:48,746] Finished trial#0 resulted in value: 0.15284805496288567. Current best value is 0.15284805496288567 with parameters: {'num_leaves': 275, 'learning_rate': 0.0018771161708983485, 'feature_fraction': 0.4339012250508767}.\n",
      "[I 2019-04-14 15:16:48,885] Finished trial#1 resulted in value: 0.09313134666097822. Current best value is 0.09313134666097822 with parameters: {'num_leaves': 118, 'learning_rate': 0.0006859385743382462, 'feature_fraction': 0.966508038134151}.\n",
      "[I 2019-04-14 15:16:49,058] Finished trial#2 resulted in value: 0.15311994304545218. Current best value is 0.09313134666097822 with parameters: {'num_leaves': 118, 'learning_rate': 0.0006859385743382462, 'feature_fraction': 0.966508038134151}.\n",
      "[I 2019-04-14 15:16:49,240] Finished trial#3 resulted in value: 0.10146984345242072. Current best value is 0.09313134666097822 with parameters: {'num_leaves': 118, 'learning_rate': 0.0006859385743382462, 'feature_fraction': 0.966508038134151}.\n",
      "[I 2019-04-14 15:16:49,399] Finished trial#4 resulted in value: 0.1527821427004452. Current best value is 0.09313134666097822 with parameters: {'num_leaves': 118, 'learning_rate': 0.0006859385743382462, 'feature_fraction': 0.966508038134151}.\n",
      "[I 2019-04-14 15:16:49,505] Finished trial#5 resulted in value: 0.1501182549371164. Current best value is 0.09313134666097822 with parameters: {'num_leaves': 118, 'learning_rate': 0.0006859385743382462, 'feature_fraction': 0.966508038134151}.\n",
      "[I 2019-04-14 15:16:49,719] Finished trial#6 resulted in value: 0.15340503343359813. Current best value is 0.09313134666097822 with parameters: {'num_leaves': 118, 'learning_rate': 0.0006859385743382462, 'feature_fraction': 0.966508038134151}.\n",
      "[I 2019-04-14 15:16:49,881] Finished trial#7 resulted in value: 0.15284467993739914. Current best value is 0.09313134666097822 with parameters: {'num_leaves': 118, 'learning_rate': 0.0006859385743382462, 'feature_fraction': 0.966508038134151}.\n",
      "[I 2019-04-14 15:16:50,039] Finished trial#8 resulted in value: 0.15285351456293716. Current best value is 0.09313134666097822 with parameters: {'num_leaves': 118, 'learning_rate': 0.0006859385743382462, 'feature_fraction': 0.966508038134151}.\n",
      "[I 2019-04-14 15:16:50,192] Finished trial#9 resulted in value: 0.09897669227252182. Current best value is 0.09313134666097822 with parameters: {'num_leaves': 118, 'learning_rate': 0.0006859385743382462, 'feature_fraction': 0.966508038134151}.\n",
      "[I 2019-04-14 15:16:50,277] Finished trial#10 resulted in value: 0.09490432696135143. Current best value is 0.09313134666097822 with parameters: {'num_leaves': 118, 'learning_rate': 0.0006859385743382462, 'feature_fraction': 0.966508038134151}.\n",
      "[I 2019-04-14 15:16:50,394] Finished trial#11 resulted in value: 0.09009948185417549. Current best value is 0.09009948185417549 with parameters: {'num_leaves': 138, 'learning_rate': 0.04754146837124568, 'feature_fraction': 0.8718843708659709}.\n",
      "[I 2019-04-14 15:16:50,560] Finished trial#12 resulted in value: 0.09204071710159167. Current best value is 0.09009948185417549 with parameters: {'num_leaves': 138, 'learning_rate': 0.04754146837124568, 'feature_fraction': 0.8718843708659709}.\n",
      "[I 2019-04-14 15:16:50,711] Finished trial#13 resulted in value: 0.11867006525115453. Current best value is 0.09009948185417549 with parameters: {'num_leaves': 138, 'learning_rate': 0.04754146837124568, 'feature_fraction': 0.8718843708659709}.\n",
      "[I 2019-04-14 15:16:50,829] Finished trial#14 resulted in value: 0.15395953026792353. Current best value is 0.09009948185417549 with parameters: {'num_leaves': 138, 'learning_rate': 0.04754146837124568, 'feature_fraction': 0.8718843708659709}.\n",
      "[I 2019-04-14 15:16:50,919] Finished trial#15 resulted in value: 0.09947282101902344. Current best value is 0.09009948185417549 with parameters: {'num_leaves': 138, 'learning_rate': 0.04754146837124568, 'feature_fraction': 0.8718843708659709}.\n",
      "[I 2019-04-14 15:16:51,070] Finished trial#16 resulted in value: 0.14174084608712456. Current best value is 0.09009948185417549 with parameters: {'num_leaves': 138, 'learning_rate': 0.04754146837124568, 'feature_fraction': 0.8718843708659709}.\n",
      "[I 2019-04-14 15:16:51,192] Finished trial#17 resulted in value: 0.09271433248249605. Current best value is 0.09009948185417549 with parameters: {'num_leaves': 138, 'learning_rate': 0.04754146837124568, 'feature_fraction': 0.8718843708659709}.\n",
      "[I 2019-04-14 15:16:51,338] Finished trial#18 resulted in value: 0.09161943450852383. Current best value is 0.09009948185417549 with parameters: {'num_leaves': 138, 'learning_rate': 0.04754146837124568, 'feature_fraction': 0.8718843708659709}.\n",
      "[I 2019-04-14 15:16:51,529] Finished trial#19 resulted in value: 0.09334188869205651. Current best value is 0.09009948185417549 with parameters: {'num_leaves': 138, 'learning_rate': 0.04754146837124568, 'feature_fraction': 0.8718843708659709}.\n",
      "[I 2019-04-14 15:16:51,685] Finished trial#20 resulted in value: 0.09287365353854549. Current best value is 0.09009948185417549 with parameters: {'num_leaves': 138, 'learning_rate': 0.04754146837124568, 'feature_fraction': 0.8718843708659709}.\n",
      "[I 2019-04-14 15:16:51,877] Finished trial#21 resulted in value: 0.09419954222742555. Current best value is 0.09009948185417549 with parameters: {'num_leaves': 138, 'learning_rate': 0.04754146837124568, 'feature_fraction': 0.8718843708659709}.\n",
      "[I 2019-04-14 15:16:52,017] Finished trial#22 resulted in value: 0.13962510216897006. Current best value is 0.09009948185417549 with parameters: {'num_leaves': 138, 'learning_rate': 0.04754146837124568, 'feature_fraction': 0.8718843708659709}.\n",
      "[I 2019-04-14 15:16:52,131] Finished trial#23 resulted in value: 0.08992884453620098. Current best value is 0.08992884453620098 with parameters: {'num_leaves': 76, 'learning_rate': 0.07085441193791177, 'feature_fraction': 0.7193447046091138}.\n",
      "[I 2019-04-14 15:16:52,232] Finished trial#24 resulted in value: 0.09125890237421141. Current best value is 0.08992884453620098 with parameters: {'num_leaves': 76, 'learning_rate': 0.07085441193791177, 'feature_fraction': 0.7193447046091138}.\n",
      "[I 2019-04-14 15:16:52,348] Finished trial#25 resulted in value: 0.09115199347865666. Current best value is 0.08992884453620098 with parameters: {'num_leaves': 76, 'learning_rate': 0.07085441193791177, 'feature_fraction': 0.7193447046091138}.\n",
      "[I 2019-04-14 15:16:52,465] Finished trial#26 resulted in value: 0.15027936277136444. Current best value is 0.08992884453620098 with parameters: {'num_leaves': 76, 'learning_rate': 0.07085441193791177, 'feature_fraction': 0.7193447046091138}.\n",
      "[I 2019-04-14 15:16:52,604] Finished trial#27 resulted in value: 0.15313999466745976. Current best value is 0.08992884453620098 with parameters: {'num_leaves': 76, 'learning_rate': 0.07085441193791177, 'feature_fraction': 0.7193447046091138}.\n",
      "[I 2019-04-14 15:16:52,740] Finished trial#28 resulted in value: 0.1525643542911166. Current best value is 0.08992884453620098 with parameters: {'num_leaves': 76, 'learning_rate': 0.07085441193791177, 'feature_fraction': 0.7193447046091138}.\n",
      "[I 2019-04-14 15:16:52,875] Finished trial#29 resulted in value: 0.09309233533697348. Current best value is 0.08992884453620098 with parameters: {'num_leaves': 76, 'learning_rate': 0.07085441193791177, 'feature_fraction': 0.7193447046091138}.\n",
      "[I 2019-04-14 15:16:53,026] Finished trial#30 resulted in value: 0.09738109934109573. Current best value is 0.08992884453620098 with parameters: {'num_leaves': 76, 'learning_rate': 0.07085441193791177, 'feature_fraction': 0.7193447046091138}.\n",
      "[I 2019-04-14 15:16:53,117] Finished trial#31 resulted in value: 0.15082502498015193. Current best value is 0.08992884453620098 with parameters: {'num_leaves': 76, 'learning_rate': 0.07085441193791177, 'feature_fraction': 0.7193447046091138}.\n"
     ]
    },
    {
     "name": "stderr",
     "output_type": "stream",
     "text": [
      "[I 2019-04-14 15:16:53,285] Finished trial#32 resulted in value: 0.09456523616542312. Current best value is 0.08992884453620098 with parameters: {'num_leaves': 76, 'learning_rate': 0.07085441193791177, 'feature_fraction': 0.7193447046091138}.\n",
      "[I 2019-04-14 15:16:53,404] Finished trial#33 resulted in value: 0.08638010450270095. Current best value is 0.08638010450270095 with parameters: {'num_leaves': 97, 'learning_rate': 0.3588095275831395, 'feature_fraction': 0.7219836049887209}.\n",
      "[I 2019-04-14 15:16:53,626] Finished trial#34 resulted in value: 0.1483509327677055. Current best value is 0.08638010450270095 with parameters: {'num_leaves': 97, 'learning_rate': 0.3588095275831395, 'feature_fraction': 0.7219836049887209}.\n",
      "[I 2019-04-14 15:16:53,758] Finished trial#35 resulted in value: 0.15150598600476184. Current best value is 0.08638010450270095 with parameters: {'num_leaves': 97, 'learning_rate': 0.3588095275831395, 'feature_fraction': 0.7219836049887209}.\n",
      "[I 2019-04-14 15:16:53,931] Finished trial#36 resulted in value: 0.10043807830813545. Current best value is 0.08638010450270095 with parameters: {'num_leaves': 97, 'learning_rate': 0.3588095275831395, 'feature_fraction': 0.7219836049887209}.\n",
      "[I 2019-04-14 15:16:54,135] Finished trial#37 resulted in value: 0.11978779427988773. Current best value is 0.08638010450270095 with parameters: {'num_leaves': 97, 'learning_rate': 0.3588095275831395, 'feature_fraction': 0.7219836049887209}.\n",
      "[I 2019-04-14 15:16:54,274] Finished trial#38 resulted in value: 0.15292022094902136. Current best value is 0.08638010450270095 with parameters: {'num_leaves': 97, 'learning_rate': 0.3588095275831395, 'feature_fraction': 0.7219836049887209}.\n",
      "[I 2019-04-14 15:16:54,410] Finished trial#39 resulted in value: 0.13946647597110895. Current best value is 0.08638010450270095 with parameters: {'num_leaves': 97, 'learning_rate': 0.3588095275831395, 'feature_fraction': 0.7219836049887209}.\n",
      "[I 2019-04-14 15:16:54,573] Finished trial#40 resulted in value: 0.1558488496821222. Current best value is 0.08638010450270095 with parameters: {'num_leaves': 97, 'learning_rate': 0.3588095275831395, 'feature_fraction': 0.7219836049887209}.\n",
      "[I 2019-04-14 15:16:54,749] Finished trial#41 resulted in value: 0.1528585771011668. Current best value is 0.08638010450270095 with parameters: {'num_leaves': 97, 'learning_rate': 0.3588095275831395, 'feature_fraction': 0.7219836049887209}.\n",
      "[I 2019-04-14 15:16:54,870] Finished trial#42 resulted in value: 0.08928669630468467. Current best value is 0.08638010450270095 with parameters: {'num_leaves': 97, 'learning_rate': 0.3588095275831395, 'feature_fraction': 0.7219836049887209}.\n",
      "[I 2019-04-14 15:16:55,048] Finished trial#43 resulted in value: 0.09670261995287266. Current best value is 0.08638010450270095 with parameters: {'num_leaves': 97, 'learning_rate': 0.3588095275831395, 'feature_fraction': 0.7219836049887209}.\n",
      "[I 2019-04-14 15:16:55,172] Finished trial#44 resulted in value: 0.15294593070199136. Current best value is 0.08638010450270095 with parameters: {'num_leaves': 97, 'learning_rate': 0.3588095275831395, 'feature_fraction': 0.7219836049887209}.\n",
      "[I 2019-04-14 15:16:55,309] Finished trial#45 resulted in value: 0.09121363732651111. Current best value is 0.08638010450270095 with parameters: {'num_leaves': 97, 'learning_rate': 0.3588095275831395, 'feature_fraction': 0.7219836049887209}.\n",
      "[I 2019-04-14 15:16:55,479] Finished trial#46 resulted in value: 0.09594800396029457. Current best value is 0.08638010450270095 with parameters: {'num_leaves': 97, 'learning_rate': 0.3588095275831395, 'feature_fraction': 0.7219836049887209}.\n",
      "[I 2019-04-14 15:16:55,587] Finished trial#47 resulted in value: 0.15034507650289386. Current best value is 0.08638010450270095 with parameters: {'num_leaves': 97, 'learning_rate': 0.3588095275831395, 'feature_fraction': 0.7219836049887209}.\n",
      "[I 2019-04-14 15:16:55,734] Finished trial#48 resulted in value: 0.09098304367342525. Current best value is 0.08638010450270095 with parameters: {'num_leaves': 97, 'learning_rate': 0.3588095275831395, 'feature_fraction': 0.7219836049887209}.\n",
      "[I 2019-04-14 15:16:55,849] Finished trial#49 resulted in value: 0.09092993665474225. Current best value is 0.08638010450270095 with parameters: {'num_leaves': 97, 'learning_rate': 0.3588095275831395, 'feature_fraction': 0.7219836049887209}.\n",
      "[I 2019-04-14 15:16:56,012] Finished trial#0 resulted in value: 0.1441936954920976. Current best value is 0.1441936954920976 with parameters: {'num_leaves': 57, 'learning_rate': 0.0001535642303965243, 'feature_fraction': 0.041323502583331506}.\n",
      "[I 2019-04-14 15:16:56,164] Finished trial#1 resulted in value: 0.09119586880997999. Current best value is 0.09119586880997999 with parameters: {'num_leaves': 422, 'learning_rate': 0.05660544475049322, 'feature_fraction': 0.8354092834001067}.\n",
      "[I 2019-04-14 15:16:56,318] Finished trial#2 resulted in value: 0.09378431482714211. Current best value is 0.09119586880997999 with parameters: {'num_leaves': 422, 'learning_rate': 0.05660544475049322, 'feature_fraction': 0.8354092834001067}.\n",
      "[I 2019-04-14 15:16:56,481] Finished trial#3 resulted in value: 0.09432957997410751. Current best value is 0.09119586880997999 with parameters: {'num_leaves': 422, 'learning_rate': 0.05660544475049322, 'feature_fraction': 0.8354092834001067}.\n",
      "[I 2019-04-14 15:16:56,561] Finished trial#4 resulted in value: 0.12613165100886448. Current best value is 0.09119586880997999 with parameters: {'num_leaves': 422, 'learning_rate': 0.05660544475049322, 'feature_fraction': 0.8354092834001067}.\n",
      "[I 2019-04-14 15:16:56,673] Finished trial#5 resulted in value: 0.08531002289259937. Current best value is 0.08531002289259937 with parameters: {'num_leaves': 138, 'learning_rate': 0.0003085504261163053, 'feature_fraction': 0.975753869761475}.\n",
      "[I 2019-04-14 15:16:56,825] Finished trial#6 resulted in value: 0.14555492268312942. Current best value is 0.08531002289259937 with parameters: {'num_leaves': 138, 'learning_rate': 0.0003085504261163053, 'feature_fraction': 0.975753869761475}.\n",
      "[I 2019-04-14 15:16:56,975] Finished trial#7 resulted in value: 0.08942209438596271. Current best value is 0.08531002289259937 with parameters: {'num_leaves': 138, 'learning_rate': 0.0003085504261163053, 'feature_fraction': 0.975753869761475}.\n",
      "[I 2019-04-14 15:16:57,099] Finished trial#8 resulted in value: 0.14582800195116186. Current best value is 0.08531002289259937 with parameters: {'num_leaves': 138, 'learning_rate': 0.0003085504261163053, 'feature_fraction': 0.975753869761475}.\n",
      "[I 2019-04-14 15:16:57,257] Finished trial#9 resulted in value: 0.09440392980026402. Current best value is 0.08531002289259937 with parameters: {'num_leaves': 138, 'learning_rate': 0.0003085504261163053, 'feature_fraction': 0.975753869761475}.\n",
      "[I 2019-04-14 15:16:57,384] Finished trial#10 resulted in value: 0.14549893696623717. Current best value is 0.08531002289259937 with parameters: {'num_leaves': 138, 'learning_rate': 0.0003085504261163053, 'feature_fraction': 0.975753869761475}.\n",
      "[I 2019-04-14 15:16:57,494] Finished trial#11 resulted in value: 0.14552176802099837. Current best value is 0.08531002289259937 with parameters: {'num_leaves': 138, 'learning_rate': 0.0003085504261163053, 'feature_fraction': 0.975753869761475}.\n",
      "[I 2019-04-14 15:16:57,653] Finished trial#12 resulted in value: 0.14552514304648467. Current best value is 0.08531002289259937 with parameters: {'num_leaves': 138, 'learning_rate': 0.0003085504261163053, 'feature_fraction': 0.975753869761475}.\n",
      "[I 2019-04-14 15:16:57,768] Finished trial#13 resulted in value: 0.08534297902381971. Current best value is 0.08531002289259937 with parameters: {'num_leaves': 138, 'learning_rate': 0.0003085504261163053, 'feature_fraction': 0.975753869761475}.\n",
      "[I 2019-04-14 15:16:57,897] Finished trial#14 resulted in value: 0.14553050338108076. Current best value is 0.08531002289259937 with parameters: {'num_leaves': 138, 'learning_rate': 0.0003085504261163053, 'feature_fraction': 0.975753869761475}.\n"
     ]
    },
    {
     "name": "stderr",
     "output_type": "stream",
     "text": [
      "[I 2019-04-14 15:16:58,017] Finished trial#15 resulted in value: 0.14572198644470657. Current best value is 0.08531002289259937 with parameters: {'num_leaves': 138, 'learning_rate': 0.0003085504261163053, 'feature_fraction': 0.975753869761475}.\n",
      "[I 2019-04-14 15:16:58,123] Finished trial#16 resulted in value: 0.08415487078714912. Current best value is 0.08415487078714912 with parameters: {'num_leaves': 58, 'learning_rate': 0.17032174510517323, 'feature_fraction': 0.8757974767893316}.\n",
      "[I 2019-04-14 15:16:58,213] Finished trial#17 resulted in value: 0.0833623353905768. Current best value is 0.0833623353905768 with parameters: {'num_leaves': 54, 'learning_rate': 0.15608338416189207, 'feature_fraction': 0.9771361520084548}.\n",
      "[I 2019-04-14 15:16:58,302] Finished trial#18 resulted in value: 0.08349832906458798. Current best value is 0.0833623353905768 with parameters: {'num_leaves': 54, 'learning_rate': 0.15608338416189207, 'feature_fraction': 0.9771361520084548}.\n",
      "[I 2019-04-14 15:16:58,388] Finished trial#19 resulted in value: 0.08150041324209112. Current best value is 0.08150041324209112 with parameters: {'num_leaves': 52, 'learning_rate': 0.3188644449233758, 'feature_fraction': 0.7330718259859639}.\n",
      "[I 2019-04-14 15:16:58,515] Finished trial#20 resulted in value: 0.07415407467819635. Current best value is 0.07415407467819635 with parameters: {'num_leaves': 14, 'learning_rate': 0.2541624796022483, 'feature_fraction': 0.7307798622654951}.\n",
      "[I 2019-04-14 15:16:58,660] Finished trial#21 resulted in value: 0.08614444831138546. Current best value is 0.07415407467819635 with parameters: {'num_leaves': 14, 'learning_rate': 0.2541624796022483, 'feature_fraction': 0.7307798622654951}.\n",
      "[I 2019-04-14 15:16:58,745] Finished trial#22 resulted in value: 0.14218009572763468. Current best value is 0.07415407467819635 with parameters: {'num_leaves': 14, 'learning_rate': 0.2541624796022483, 'feature_fraction': 0.7307798622654951}.\n",
      "[I 2019-04-14 15:16:58,838] Finished trial#23 resulted in value: 0.07648998937661089. Current best value is 0.07415407467819635 with parameters: {'num_leaves': 14, 'learning_rate': 0.2541624796022483, 'feature_fraction': 0.7307798622654951}.\n",
      "[I 2019-04-14 15:16:58,967] Finished trial#24 resulted in value: 0.14567096400058843. Current best value is 0.07415407467819635 with parameters: {'num_leaves': 14, 'learning_rate': 0.2541624796022483, 'feature_fraction': 0.7307798622654951}.\n",
      "[I 2019-04-14 15:16:59,224] Finished trial#25 resulted in value: 0.11792150445136074. Current best value is 0.07415407467819635 with parameters: {'num_leaves': 14, 'learning_rate': 0.2541624796022483, 'feature_fraction': 0.7307798622654951}.\n",
      "[I 2019-04-14 15:16:59,306] Finished trial#26 resulted in value: 0.10194463012599364. Current best value is 0.07415407467819635 with parameters: {'num_leaves': 14, 'learning_rate': 0.2541624796022483, 'feature_fraction': 0.7307798622654951}.\n",
      "[I 2019-04-14 15:16:59,418] Finished trial#27 resulted in value: 0.13597411871632292. Current best value is 0.07415407467819635 with parameters: {'num_leaves': 14, 'learning_rate': 0.2541624796022483, 'feature_fraction': 0.7307798622654951}.\n",
      "[I 2019-04-14 15:16:59,554] Finished trial#28 resulted in value: 0.08973021435978046. Current best value is 0.07415407467819635 with parameters: {'num_leaves': 14, 'learning_rate': 0.2541624796022483, 'feature_fraction': 0.7307798622654951}.\n",
      "[I 2019-04-14 15:16:59,695] Finished trial#29 resulted in value: 0.14551412458092605. Current best value is 0.07415407467819635 with parameters: {'num_leaves': 14, 'learning_rate': 0.2541624796022483, 'feature_fraction': 0.7307798622654951}.\n",
      "[I 2019-04-14 15:16:59,890] Finished trial#30 resulted in value: 0.0934332129111004. Current best value is 0.07415407467819635 with parameters: {'num_leaves': 14, 'learning_rate': 0.2541624796022483, 'feature_fraction': 0.7307798622654951}.\n",
      "[I 2019-04-14 15:17:00,112] Finished trial#31 resulted in value: 0.12122337129707594. Current best value is 0.07415407467819635 with parameters: {'num_leaves': 14, 'learning_rate': 0.2541624796022483, 'feature_fraction': 0.7307798622654951}.\n",
      "[I 2019-04-14 15:17:00,289] Finished trial#32 resulted in value: 0.09059700031705387. Current best value is 0.07415407467819635 with parameters: {'num_leaves': 14, 'learning_rate': 0.2541624796022483, 'feature_fraction': 0.7307798622654951}.\n",
      "[I 2019-04-14 15:17:00,452] Finished trial#33 resulted in value: 0.08961506643142081. Current best value is 0.07415407467819635 with parameters: {'num_leaves': 14, 'learning_rate': 0.2541624796022483, 'feature_fraction': 0.7307798622654951}.\n",
      "[I 2019-04-14 15:17:00,633] Finished trial#34 resulted in value: 0.0927665461120798. Current best value is 0.07415407467819635 with parameters: {'num_leaves': 14, 'learning_rate': 0.2541624796022483, 'feature_fraction': 0.7307798622654951}.\n",
      "[I 2019-04-14 15:17:00,805] Finished trial#35 resulted in value: 0.14428313366748735. Current best value is 0.07415407467819635 with parameters: {'num_leaves': 14, 'learning_rate': 0.2541624796022483, 'feature_fraction': 0.7307798622654951}.\n",
      "[I 2019-04-14 15:17:00,951] Finished trial#36 resulted in value: 0.13545138682775204. Current best value is 0.07415407467819635 with parameters: {'num_leaves': 14, 'learning_rate': 0.2541624796022483, 'feature_fraction': 0.7307798622654951}.\n",
      "[I 2019-04-14 15:17:01,089] Finished trial#37 resulted in value: 0.1080860845912417. Current best value is 0.07415407467819635 with parameters: {'num_leaves': 14, 'learning_rate': 0.2541624796022483, 'feature_fraction': 0.7307798622654951}.\n",
      "[I 2019-04-14 15:17:01,251] Finished trial#38 resulted in value: 0.145542315970283. Current best value is 0.07415407467819635 with parameters: {'num_leaves': 14, 'learning_rate': 0.2541624796022483, 'feature_fraction': 0.7307798622654951}.\n",
      "[I 2019-04-14 15:17:01,353] Finished trial#39 resulted in value: 0.14277112224957755. Current best value is 0.07415407467819635 with parameters: {'num_leaves': 14, 'learning_rate': 0.2541624796022483, 'feature_fraction': 0.7307798622654951}.\n",
      "[I 2019-04-14 15:17:01,491] Finished trial#40 resulted in value: 0.08966191972640847. Current best value is 0.07415407467819635 with parameters: {'num_leaves': 14, 'learning_rate': 0.2541624796022483, 'feature_fraction': 0.7307798622654951}.\n",
      "[I 2019-04-14 15:17:01,601] Finished trial#41 resulted in value: 0.08324272051672044. Current best value is 0.07415407467819635 with parameters: {'num_leaves': 14, 'learning_rate': 0.2541624796022483, 'feature_fraction': 0.7307798622654951}.\n",
      "[I 2019-04-14 15:17:01,727] Finished trial#42 resulted in value: 0.14572565926655934. Current best value is 0.07415407467819635 with parameters: {'num_leaves': 14, 'learning_rate': 0.2541624796022483, 'feature_fraction': 0.7307798622654951}.\n",
      "[I 2019-04-14 15:17:01,903] Finished trial#43 resulted in value: 0.1458938149481468. Current best value is 0.07415407467819635 with parameters: {'num_leaves': 14, 'learning_rate': 0.2541624796022483, 'feature_fraction': 0.7307798622654951}.\n",
      "[I 2019-04-14 15:17:02,081] Finished trial#44 resulted in value: 0.1455455917303139. Current best value is 0.07415407467819635 with parameters: {'num_leaves': 14, 'learning_rate': 0.2541624796022483, 'feature_fraction': 0.7307798622654951}.\n",
      "[I 2019-04-14 15:17:02,257] Finished trial#45 resulted in value: 0.0814155412776536. Current best value is 0.07415407467819635 with parameters: {'num_leaves': 14, 'learning_rate': 0.2541624796022483, 'feature_fraction': 0.7307798622654951}.\n",
      "[I 2019-04-14 15:17:02,374] Finished trial#46 resulted in value: 0.1421929009713917. Current best value is 0.07415407467819635 with parameters: {'num_leaves': 14, 'learning_rate': 0.2541624796022483, 'feature_fraction': 0.7307798622654951}.\n",
      "[I 2019-04-14 15:17:02,490] Finished trial#47 resulted in value: 0.14491088840795885. Current best value is 0.07415407467819635 with parameters: {'num_leaves': 14, 'learning_rate': 0.2541624796022483, 'feature_fraction': 0.7307798622654951}.\n"
     ]
    },
    {
     "name": "stderr",
     "output_type": "stream",
     "text": [
      "[I 2019-04-14 15:17:02,663] Finished trial#48 resulted in value: 0.14554301082847143. Current best value is 0.07415407467819635 with parameters: {'num_leaves': 14, 'learning_rate': 0.2541624796022483, 'feature_fraction': 0.7307798622654951}.\n",
      "[I 2019-04-14 15:17:02,846] Finished trial#49 resulted in value: 0.14617414059442924. Current best value is 0.07415407467819635 with parameters: {'num_leaves': 14, 'learning_rate': 0.2541624796022483, 'feature_fraction': 0.7307798622654951}.\n",
      "[I 2019-04-14 15:17:03,049] Finished trial#0 resulted in value: 0.08647386602840001. Current best value is 0.08647386602840001 with parameters: {'num_leaves': 188, 'learning_rate': 0.12230051235418211, 'feature_fraction': 0.7451554283509835}.\n",
      "[I 2019-04-14 15:17:03,174] Finished trial#1 resulted in value: 0.14708428591809164. Current best value is 0.08647386602840001 with parameters: {'num_leaves': 188, 'learning_rate': 0.12230051235418211, 'feature_fraction': 0.7451554283509835}.\n",
      "[I 2019-04-14 15:17:03,305] Finished trial#2 resulted in value: 0.14706372081692942. Current best value is 0.08647386602840001 with parameters: {'num_leaves': 188, 'learning_rate': 0.12230051235418211, 'feature_fraction': 0.7451554283509835}.\n",
      "[I 2019-04-14 15:17:03,381] Finished trial#3 resulted in value: 0.09715867793620991. Current best value is 0.08647386602840001 with parameters: {'num_leaves': 188, 'learning_rate': 0.12230051235418211, 'feature_fraction': 0.7451554283509835}.\n",
      "[I 2019-04-14 15:17:03,470] Finished trial#4 resulted in value: 0.14549908420723412. Current best value is 0.08647386602840001 with parameters: {'num_leaves': 188, 'learning_rate': 0.12230051235418211, 'feature_fraction': 0.7451554283509835}.\n",
      "[I 2019-04-14 15:17:03,603] Finished trial#5 resulted in value: 0.1470614358056891. Current best value is 0.08647386602840001 with parameters: {'num_leaves': 188, 'learning_rate': 0.12230051235418211, 'feature_fraction': 0.7451554283509835}.\n",
      "[I 2019-04-14 15:17:03,757] Finished trial#6 resulted in value: 0.09317371768149663. Current best value is 0.08647386602840001 with parameters: {'num_leaves': 188, 'learning_rate': 0.12230051235418211, 'feature_fraction': 0.7451554283509835}.\n",
      "[I 2019-04-14 15:17:03,908] Finished trial#7 resulted in value: 0.1470642175585033. Current best value is 0.08647386602840001 with parameters: {'num_leaves': 188, 'learning_rate': 0.12230051235418211, 'feature_fraction': 0.7451554283509835}.\n",
      "[I 2019-04-14 15:17:04,059] Finished trial#8 resulted in value: 0.1470515009742096. Current best value is 0.08647386602840001 with parameters: {'num_leaves': 188, 'learning_rate': 0.12230051235418211, 'feature_fraction': 0.7451554283509835}.\n",
      "[I 2019-04-14 15:17:04,197] Finished trial#9 resulted in value: 0.1384688000591321. Current best value is 0.08647386602840001 with parameters: {'num_leaves': 188, 'learning_rate': 0.12230051235418211, 'feature_fraction': 0.7451554283509835}.\n",
      "[I 2019-04-14 15:17:04,305] Finished trial#10 resulted in value: 0.14686681245700695. Current best value is 0.08647386602840001 with parameters: {'num_leaves': 188, 'learning_rate': 0.12230051235418211, 'feature_fraction': 0.7451554283509835}.\n",
      "[I 2019-04-14 15:17:04,419] Finished trial#11 resulted in value: 0.08710592000712136. Current best value is 0.08647386602840001 with parameters: {'num_leaves': 188, 'learning_rate': 0.12230051235418211, 'feature_fraction': 0.7451554283509835}.\n",
      "[I 2019-04-14 15:17:04,528] Finished trial#12 resulted in value: 0.0871176431082672. Current best value is 0.08647386602840001 with parameters: {'num_leaves': 188, 'learning_rate': 0.12230051235418211, 'feature_fraction': 0.7451554283509835}.\n",
      "[I 2019-04-14 15:17:04,670] Finished trial#13 resulted in value: 0.08889369293184424. Current best value is 0.08647386602840001 with parameters: {'num_leaves': 188, 'learning_rate': 0.12230051235418211, 'feature_fraction': 0.7451554283509835}.\n",
      "[I 2019-04-14 15:17:04,789] Finished trial#14 resulted in value: 0.14659946614189567. Current best value is 0.08647386602840001 with parameters: {'num_leaves': 188, 'learning_rate': 0.12230051235418211, 'feature_fraction': 0.7451554283509835}.\n",
      "[I 2019-04-14 15:17:04,939] Finished trial#15 resulted in value: 0.08947259556215048. Current best value is 0.08647386602840001 with parameters: {'num_leaves': 188, 'learning_rate': 0.12230051235418211, 'feature_fraction': 0.7451554283509835}.\n",
      "[I 2019-04-14 15:17:05,038] Finished trial#16 resulted in value: 0.14578769106171152. Current best value is 0.08647386602840001 with parameters: {'num_leaves': 188, 'learning_rate': 0.12230051235418211, 'feature_fraction': 0.7451554283509835}.\n",
      "[I 2019-04-14 15:17:05,157] Finished trial#17 resulted in value: 0.08724063632198231. Current best value is 0.08647386602840001 with parameters: {'num_leaves': 188, 'learning_rate': 0.12230051235418211, 'feature_fraction': 0.7451554283509835}.\n",
      "[I 2019-04-14 15:17:05,281] Finished trial#18 resulted in value: 0.08972285396711732. Current best value is 0.08647386602840001 with parameters: {'num_leaves': 188, 'learning_rate': 0.12230051235418211, 'feature_fraction': 0.7451554283509835}.\n",
      "[I 2019-04-14 15:17:05,396] Finished trial#19 resulted in value: 0.14030793606260372. Current best value is 0.08647386602840001 with parameters: {'num_leaves': 188, 'learning_rate': 0.12230051235418211, 'feature_fraction': 0.7451554283509835}.\n",
      "[I 2019-04-14 15:17:05,549] Finished trial#20 resulted in value: 0.08814798448099848. Current best value is 0.08647386602840001 with parameters: {'num_leaves': 188, 'learning_rate': 0.12230051235418211, 'feature_fraction': 0.7451554283509835}.\n",
      "[I 2019-04-14 15:17:05,677] Finished trial#21 resulted in value: 0.08845636165011983. Current best value is 0.08647386602840001 with parameters: {'num_leaves': 188, 'learning_rate': 0.12230051235418211, 'feature_fraction': 0.7451554283509835}.\n",
      "[I 2019-04-14 15:17:05,791] Finished trial#22 resulted in value: 0.08687463713028021. Current best value is 0.08647386602840001 with parameters: {'num_leaves': 188, 'learning_rate': 0.12230051235418211, 'feature_fraction': 0.7451554283509835}.\n",
      "[I 2019-04-14 15:17:05,891] Finished trial#23 resulted in value: 0.14562823701646677. Current best value is 0.08647386602840001 with parameters: {'num_leaves': 188, 'learning_rate': 0.12230051235418211, 'feature_fraction': 0.7451554283509835}.\n",
      "[I 2019-04-14 15:17:06,004] Finished trial#24 resulted in value: 0.08617860283683154. Current best value is 0.08617860283683154 with parameters: {'num_leaves': 113, 'learning_rate': 0.06781218938592389, 'feature_fraction': 0.7851019174454442}.\n",
      "[I 2019-04-14 15:17:06,215] Finished trial#25 resulted in value: 0.08132305329957612. Current best value is 0.08132305329957612 with parameters: {'num_leaves': 15, 'learning_rate': 0.09091146965680962, 'feature_fraction': 0.7354776659275737}.\n",
      "[I 2019-04-14 15:17:06,303] Finished trial#26 resulted in value: 0.14068088963634162. Current best value is 0.08132305329957612 with parameters: {'num_leaves': 15, 'learning_rate': 0.09091146965680962, 'feature_fraction': 0.7354776659275737}.\n",
      "[I 2019-04-14 15:17:06,405] Finished trial#27 resulted in value: 0.12460374924644313. Current best value is 0.08132305329957612 with parameters: {'num_leaves': 15, 'learning_rate': 0.09091146965680962, 'feature_fraction': 0.7354776659275737}.\n",
      "[I 2019-04-14 15:17:06,512] Finished trial#28 resulted in value: 0.08782758616578679. Current best value is 0.08132305329957612 with parameters: {'num_leaves': 15, 'learning_rate': 0.09091146965680962, 'feature_fraction': 0.7354776659275737}.\n",
      "[I 2019-04-14 15:17:06,631] Finished trial#29 resulted in value: 0.08566407791451214. Current best value is 0.08132305329957612 with parameters: {'num_leaves': 15, 'learning_rate': 0.09091146965680962, 'feature_fraction': 0.7354776659275737}.\n",
      "[I 2019-04-14 15:17:06,864] Finished trial#30 resulted in value: 0.08388246458530624. Current best value is 0.08132305329957612 with parameters: {'num_leaves': 15, 'learning_rate': 0.09091146965680962, 'feature_fraction': 0.7354776659275737}.\n"
     ]
    },
    {
     "name": "stderr",
     "output_type": "stream",
     "text": [
      "[I 2019-04-14 15:17:07,030] Finished trial#31 resulted in value: 0.14393862022676052. Current best value is 0.08132305329957612 with parameters: {'num_leaves': 15, 'learning_rate': 0.09091146965680962, 'feature_fraction': 0.7354776659275737}.\n",
      "[I 2019-04-14 15:17:07,188] Finished trial#32 resulted in value: 0.14878850691007262. Current best value is 0.08132305329957612 with parameters: {'num_leaves': 15, 'learning_rate': 0.09091146965680962, 'feature_fraction': 0.7354776659275737}.\n",
      "[I 2019-04-14 15:17:07,323] Finished trial#33 resulted in value: 0.11381621118113627. Current best value is 0.08132305329957612 with parameters: {'num_leaves': 15, 'learning_rate': 0.09091146965680962, 'feature_fraction': 0.7354776659275737}.\n",
      "[I 2019-04-14 15:17:07,501] Finished trial#34 resulted in value: 0.09178532498224645. Current best value is 0.08132305329957612 with parameters: {'num_leaves': 15, 'learning_rate': 0.09091146965680962, 'feature_fraction': 0.7354776659275737}.\n",
      "[I 2019-04-14 15:17:07,672] Finished trial#35 resulted in value: 0.14740041225576705. Current best value is 0.08132305329957612 with parameters: {'num_leaves': 15, 'learning_rate': 0.09091146965680962, 'feature_fraction': 0.7354776659275737}.\n",
      "[I 2019-04-14 15:17:07,824] Finished trial#36 resulted in value: 0.08939460713503711. Current best value is 0.08132305329957612 with parameters: {'num_leaves': 15, 'learning_rate': 0.09091146965680962, 'feature_fraction': 0.7354776659275737}.\n",
      "[I 2019-04-14 15:17:07,986] Finished trial#37 resulted in value: 0.1470668006146878. Current best value is 0.08132305329957612 with parameters: {'num_leaves': 15, 'learning_rate': 0.09091146965680962, 'feature_fraction': 0.7354776659275737}.\n",
      "[I 2019-04-14 15:17:08,159] Finished trial#38 resulted in value: 0.147060442322541. Current best value is 0.08132305329957612 with parameters: {'num_leaves': 15, 'learning_rate': 0.09091146965680962, 'feature_fraction': 0.7354776659275737}.\n",
      "[I 2019-04-14 15:17:08,328] Finished trial#39 resulted in value: 0.14705209706409839. Current best value is 0.08132305329957612 with parameters: {'num_leaves': 15, 'learning_rate': 0.09091146965680962, 'feature_fraction': 0.7354776659275737}.\n",
      "[I 2019-04-14 15:17:08,568] Finished trial#40 resulted in value: 0.08579631052150316. Current best value is 0.08132305329957612 with parameters: {'num_leaves': 15, 'learning_rate': 0.09091146965680962, 'feature_fraction': 0.7354776659275737}.\n",
      "[I 2019-04-14 15:17:08,743] Finished trial#41 resulted in value: 0.0871631446364427. Current best value is 0.08132305329957612 with parameters: {'num_leaves': 15, 'learning_rate': 0.09091146965680962, 'feature_fraction': 0.7354776659275737}.\n",
      "[I 2019-04-14 15:17:08,929] Finished trial#42 resulted in value: 0.12942701058139017. Current best value is 0.08132305329957612 with parameters: {'num_leaves': 15, 'learning_rate': 0.09091146965680962, 'feature_fraction': 0.7354776659275737}.\n",
      "[I 2019-04-14 15:17:09,112] Finished trial#43 resulted in value: 0.14706342277198492. Current best value is 0.08132305329957612 with parameters: {'num_leaves': 15, 'learning_rate': 0.09091146965680962, 'feature_fraction': 0.7354776659275737}.\n",
      "[I 2019-04-14 15:17:09,262] Finished trial#44 resulted in value: 0.08910351657268967. Current best value is 0.08132305329957612 with parameters: {'num_leaves': 15, 'learning_rate': 0.09091146965680962, 'feature_fraction': 0.7354776659275737}.\n",
      "[I 2019-04-14 15:17:09,431] Finished trial#45 resulted in value: 0.14706282668209603. Current best value is 0.08132305329957612 with parameters: {'num_leaves': 15, 'learning_rate': 0.09091146965680962, 'feature_fraction': 0.7354776659275737}.\n",
      "[I 2019-04-14 15:17:09,550] Finished trial#46 resulted in value: 0.14651611290578337. Current best value is 0.08132305329957612 with parameters: {'num_leaves': 15, 'learning_rate': 0.09091146965680962, 'feature_fraction': 0.7354776659275737}.\n",
      "[I 2019-04-14 15:17:09,684] Finished trial#47 resulted in value: 0.1467168958499825. Current best value is 0.08132305329957612 with parameters: {'num_leaves': 15, 'learning_rate': 0.09091146965680962, 'feature_fraction': 0.7354776659275737}.\n",
      "[I 2019-04-14 15:17:09,891] Finished trial#48 resulted in value: 0.08647217710704846. Current best value is 0.08132305329957612 with parameters: {'num_leaves': 15, 'learning_rate': 0.09091146965680962, 'feature_fraction': 0.7354776659275737}.\n",
      "[I 2019-04-14 15:17:09,995] Finished trial#49 resulted in value: 0.08901142068487555. Current best value is 0.08132305329957612 with parameters: {'num_leaves': 15, 'learning_rate': 0.09091146965680962, 'feature_fraction': 0.7354776659275737}.\n"
     ]
    }
   ],
   "source": [
    "models, best_scores = opt.opt_fit(X=X, y=y, n_trials=50)"
   ]
  },
  {
   "cell_type": "code",
   "execution_count": 16,
   "metadata": {},
   "outputs": [],
   "source": [
    "w = 1 - np.array(best_scores)"
   ]
  },
  {
   "cell_type": "code",
   "execution_count": 18,
   "metadata": {},
   "outputs": [],
   "source": [
    "def predict(X, models, weight):\n",
    "    preds = []\n",
    "    X = np.array(X)\n",
    "    for model, w in zip(models, weight):\n",
    "        preds.append(model.predict(X)*w)\n",
    "    preds = np.array(preds)\n",
    "    return preds.sum(0)/sum(weight)\n"
   ]
  },
  {
   "cell_type": "code",
   "execution_count": 19,
   "metadata": {},
   "outputs": [],
   "source": [
    "from sklearn.metrics import roc_auc_score"
   ]
  },
  {
   "cell_type": "code",
   "execution_count": 20,
   "metadata": {},
   "outputs": [],
   "source": [
    "p = predict(X, models, w)"
   ]
  },
  {
   "cell_type": "code",
   "execution_count": 22,
   "metadata": {
    "scrolled": true
   },
   "outputs": [
    {
     "name": "stdout",
     "output_type": "stream",
     "text": [
      "0 0.222\n",
      "1 0.222\n",
      "2 0.222\n",
      "3 0.222\n",
      "4 0.32096296296296295\n",
      "5 0.3844074074074074\n",
      "6 0.4146666666666667\n",
      "7 0.4918888888888889\n",
      "8 0.578037037037037\n",
      "9 0.6497407407407407\n",
      "10 0.7012222222222222\n",
      "11 0.7414814814814815\n",
      "12 0.766962962962963\n",
      "13 0.7834074074074074\n",
      "14 0.7941111111111111\n",
      "15 0.803074074074074\n",
      "16 0.8136666666666666\n",
      "17 0.8235925925925925\n",
      "18 0.8357777777777777\n",
      "19 0.8429629629629629\n",
      "20 0.8491851851851852\n",
      "21 0.8560740740740741\n",
      "22 0.8624814814814815\n",
      "23 0.8672962962962963\n",
      "24 0.8733333333333333\n",
      "25 0.877\n",
      "26 0.8801481481481481\n",
      "27 0.8837407407407407\n",
      "28 0.8864444444444445\n",
      "29 0.8892962962962963\n",
      "30 0.8919259259259259\n",
      "31 0.8942222222222223\n",
      "32 0.8956296296296297\n",
      "33 0.8965555555555556\n",
      "34 0.897962962962963\n",
      "35 0.8992222222222223\n",
      "36 0.9\n",
      "37 0.9010370370370371\n",
      "38 0.9013333333333333\n",
      "39 0.9021481481481481\n",
      "40 0.9026296296296297\n",
      "41 0.9027037037037037\n",
      "42 0.9027037037037037\n",
      "43 0.9035185185185185\n",
      "44 0.9034444444444445\n",
      "45 0.9033333333333333\n",
      "46 0.9030370370370371\n",
      "47 0.9037407407407407\n",
      "48 0.9037407407407407\n",
      "49 0.9034444444444445\n",
      "50 0.9031481481481481\n",
      "51 0.9031111111111111\n",
      "52 0.9023703703703704\n",
      "53 0.9021851851851852\n",
      "54 0.9015185185185185\n",
      "55 0.9001851851851852\n",
      "56 0.8988518518518519\n",
      "57 0.8976296296296297\n",
      "58 0.8968518518518519\n",
      "59 0.8962592592592593\n",
      "60 0.895\n",
      "61 0.8937407407407407\n",
      "62 0.8924444444444445\n",
      "63 0.8915555555555555\n",
      "64 0.8911111111111111\n",
      "65 0.8903333333333333\n",
      "66 0.8891851851851852\n",
      "67 0.8884814814814814\n",
      "68 0.8873703703703704\n",
      "69 0.8857777777777778\n",
      "70 0.8841481481481481\n",
      "71 0.8820740740740741\n",
      "72 0.8807777777777778\n",
      "73 0.8787407407407407\n",
      "74 0.8774814814814815\n",
      "75 0.8763703703703704\n",
      "76 0.8747037037037036\n",
      "77 0.8732962962962963\n",
      "78 0.8713333333333333\n",
      "79 0.8688518518518519\n",
      "80 0.8658888888888889\n",
      "81 0.8639259259259259\n",
      "82 0.8618148148148148\n",
      "83 0.8588148148148148\n",
      "84 0.8542962962962963\n",
      "85 0.8497407407407407\n",
      "86 0.8427037037037037\n",
      "87 0.836\n",
      "88 0.8197777777777778\n",
      "89 0.8003703703703704\n",
      "90 0.7914074074074074\n",
      "91 0.7887777777777778\n",
      "92 0.7843333333333333\n",
      "93 0.7804814814814814\n",
      "94 0.7786296296296297\n",
      "95 0.7780370370370371\n",
      "96 0.778\n",
      "97 0.778\n",
      "98 0.778\n",
      "99 0.778\n"
     ]
    }
   ],
   "source": [
    "best_thre, max_acc = 0,0\n",
    "for thre in range(100):\n",
    "    b = p >= thre/100\n",
    "    b = np.vectorize(int)(b)\n",
    "    acc = sum(b == y)/len(y)\n",
    "    if acc > max_acc:\n",
    "        best_thre = thre/100\n",
    "        max_acc = acc\n",
    "    print(thre, acc)"
   ]
  },
  {
   "cell_type": "code",
   "execution_count": 35,
   "metadata": {},
   "outputs": [
    {
     "data": {
      "text/plain": [
       "0.47"
      ]
     },
     "execution_count": 35,
     "metadata": {},
     "output_type": "execute_result"
    }
   ],
   "source": [
    "best_thre"
   ]
  },
  {
   "cell_type": "code",
   "execution_count": 23,
   "metadata": {},
   "outputs": [],
   "source": [
    "p = predict(test_X, models, w)"
   ]
  },
  {
   "cell_type": "code",
   "execution_count": 36,
   "metadata": {},
   "outputs": [],
   "source": [
    "b = p >= 0.8\n",
    "Y = np.vectorize(int)(b)"
   ]
  },
  {
   "cell_type": "code",
   "execution_count": 37,
   "metadata": {},
   "outputs": [],
   "source": [
    "test_X[\"Y\"] = Y"
   ]
  },
  {
   "cell_type": "code",
   "execution_count": 38,
   "metadata": {},
   "outputs": [],
   "source": [
    "test_X[\"ID\"] = test_X.index"
   ]
  },
  {
   "cell_type": "code",
   "execution_count": 39,
   "metadata": {},
   "outputs": [],
   "source": [
    "test_X[[\"ID\", \"Y\"]].to_csv(fout, index=False)"
   ]
  },
  {
   "cell_type": "code",
   "execution_count": 40,
   "metadata": {},
   "outputs": [
    {
     "data": {
      "text/plain": [
       "['../models/stack_c153171a-5e7c-11e9-b6e4-f06e0bb794dc.pkl']"
      ]
     },
     "execution_count": 40,
     "metadata": {},
     "output_type": "execute_result"
    }
   ],
   "source": [
    "joblib.dump(models, mout)"
   ]
  },
  {
   "cell_type": "code",
   "execution_count": 32,
   "metadata": {},
   "outputs": [],
   "source": [
    "import matplotlib.pyplot as plt\n",
    "import seaborn as sns"
   ]
  },
  {
   "cell_type": "code",
   "execution_count": 33,
   "metadata": {},
   "outputs": [
    {
     "name": "stderr",
     "output_type": "stream",
     "text": [
      "C:\\Users\\keisu\\Anaconda3\\lib\\site-packages\\matplotlib\\axes\\_axes.py:6462: UserWarning: The 'normed' kwarg is deprecated, and has been replaced by the 'density' kwarg.\n",
      "  warnings.warn(\"The 'normed' kwarg is deprecated, and has been \"\n"
     ]
    },
    {
     "data": {
      "text/plain": [
       "<matplotlib.axes._subplots.AxesSubplot at 0x1e880f167f0>"
      ]
     },
     "execution_count": 33,
     "metadata": {},
     "output_type": "execute_result"
    },
    {
     "data": {
      "image/png": "[encoded data removed]",
      "text/plain": [
       "<Figure size 432x288 with 1 Axes>"
      ]
     },
     "metadata": {},
     "output_type": "display_data"
    }
   ],
   "source": [
    "sns.distplot(p)"
   ]
  },
  {
   "cell_type": "code",
   "execution_count": 41,
   "metadata": {},
   "outputs": [
    {
     "data": {
      "text/plain": [
       "<matplotlib.axes._subplots.AxesSubplot at 0x1e881020748>"
      ]
     },
     "execution_count": 41,
     "metadata": {},
     "output_type": "execute_result"
    },
    {
     "data": {
      "image/png": "[encoded data removed]",
      "text/plain": [
       "<Figure size 432x288 with 1 Axes>"
      ]
     },
     "metadata": {},
     "output_type": "display_data"
    }
   ],
   "source": [
    "test_X[\"Y\"].hist()"
   ]
  },
  {
   "cell_type": "code",
   "execution_count": null,
   "metadata": {},
   "outputs": [],
   "source": []
  },
  {
   "cell_type": "code",
   "execution_count": null,
   "metadata": {},
   "outputs": [],
   "source": []
  },
  {
   "cell_type": "code",
   "execution_count": 34,
   "metadata": {},
   "outputs": [
    {
     "data": {
      "text/plain": [
       "<matplotlib.axes._subplots.AxesSubplot at 0x1cff0ef1898>"
      ]
     },
     "execution_count": 34,
     "metadata": {},
     "output_type": "execute_result"
    },
    {
     "data": {
      "image/png": "[encoded data removed]",
      "text/plain": [
       "<Figure size 432x288 with 1 Axes>"
      ]
     },
     "metadata": {},
     "output_type": "display_data"
    }
   ],
   "source": [
    "X[y==1][fmid].hist()"
   ]
  },
  {
   "cell_type": "code",
   "execution_count": 35,
   "metadata": {},
   "outputs": [
    {
     "data": {
      "text/plain": [
       "<matplotlib.axes._subplots.AxesSubplot at 0x1cff0fb4cc0>"
      ]
     },
     "execution_count": 35,
     "metadata": {},
     "output_type": "execute_result"
    },
    {
     "data": {
      "image/png": "[encoded data removed]",
      "text/plain": [
       "<Figure size 432x288 with 1 Axes>"
      ]
     },
     "metadata": {},
     "output_type": "display_data"
    }
   ],
   "source": [
    "X[y==0][fmid].hist()"
   ]
  },
  {
   "cell_type": "code",
   "execution_count": null,
   "metadata": {},
   "outputs": [],
   "source": []
  }
 ],
 "metadata": {
  "hide_input": false,
  "kernelspec": {
   "display_name": "Python 3",
   "language": "python",
   "name": "python3"
  },
  "language_info": {
   "codemirror_mode": {
    "name": "ipython",
    "version": 3
   },
   "file_extension": ".py",
   "mimetype": "text/x-python",
   "name": "python",
   "nbconvert_exporter": "python",
   "pygments_lexer": "ipython3",
   "version": "3.6.5"
  },
  "toc": {
   "base_numbering": 1,
   "nav_menu": {},
   "number_sections": true,
   "sideBar": true,
   "skip_h1_title": false,
   "title_cell": "Table of Contents",
   "title_sidebar": "Contents",
   "toc_cell": true,
   "toc_position": {},
   "toc_section_display": true,
   "toc_window_display": true
  }
 },
 "nbformat": 4,
 "nbformat_minor": 2
}
