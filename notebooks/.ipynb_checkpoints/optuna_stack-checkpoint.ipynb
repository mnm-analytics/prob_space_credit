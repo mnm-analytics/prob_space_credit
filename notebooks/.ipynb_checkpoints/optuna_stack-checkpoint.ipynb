{
 "cells": [
  {
   "cell_type": "markdown",
   "metadata": {
    "toc": true
   },
   "source": [
    "<h1>Table of Contents<span class=\"tocSkip\"></span></h1>\n",
    "<div class=\"toc\"><ul class=\"toc-item\"><li><span><a href=\"#modeling\" data-toc-modified-id=\"modeling-1\"><span class=\"toc-item-num\">1&nbsp;&nbsp;</span>modeling</a></span></li></ul></div>"
   ]
  },
  {
   "cell_type": "code",
   "execution_count": 1,
   "metadata": {},
   "outputs": [],
   "source": [
    "import sys\n",
    "import os\n",
    "sys.path.append(os.path.abspath(\"../src/\"))"
   ]
  },
  {
   "cell_type": "code",
   "execution_count": 2,
   "metadata": {},
   "outputs": [],
   "source": [
    "from load_data import LoadData\n",
    "import optuna\n",
    "from sklearn.ensemble import RandomForestClassifier\n",
    "from sklearn.externals import joblib\n",
    "from nklearn.lgbm_util.modeling import CvEnsembleModeling\n",
    "import numpy as np\n",
    "import pandas as pd\n",
    "import uuid"
   ]
  },
  {
   "cell_type": "code",
   "execution_count": 3,
   "metadata": {},
   "outputs": [],
   "source": [
    "uid = uuid.uuid1()"
   ]
  },
  {
   "cell_type": "code",
   "execution_count": 4,
   "metadata": {},
   "outputs": [],
   "source": [
    "alg = \"test\""
   ]
  },
  {
   "cell_type": "code",
   "execution_count": 5,
   "metadata": {},
   "outputs": [],
   "source": [
    "docs = \"../docs/\"\n",
    "finfo = docs + \"info/\" + \"ddl.csv\"\n",
    "\n",
    "data = \"../data/\"\n",
    "data_in, data_mid, data_out = [data + fld for fld in [\"in/\", \"mid/\", \"out/\"]]\n",
    "\n",
    "fin, ftest = data_in + \"train_data.csv\", data_in + \"test_data.csv\"\n",
    "fmid = data_mid + \"%s_%s.csv\"%(alg, uid)\n",
    "fout = data_out + \"%s_%s.csv\"%(alg, uid)\n",
    "\n",
    "models = \"../models/\"\n",
    "mout = models + \"%s_%s.pkl\"%(alg, uid)\n",
    "\n",
    "loader = LoadData(fin, ftest, finfo)"
   ]
  },
  {
   "cell_type": "code",
   "execution_count": 6,
   "metadata": {},
   "outputs": [],
   "source": [
    "X, y, test_X = loader.get_features_v1()"
   ]
  },
  {
   "cell_type": "code",
   "execution_count": 7,
   "metadata": {},
   "outputs": [],
   "source": [
    "y = y.astype(float)"
   ]
  },
  {
   "cell_type": "markdown",
   "metadata": {},
   "source": [
    "# modeling"
   ]
  },
  {
   "cell_type": "code",
   "execution_count": 8,
   "metadata": {},
   "outputs": [],
   "source": [
    "opt = CvEnsembleModeling()"
   ]
  },
  {
   "cell_type": "code",
   "execution_count": 9,
   "metadata": {},
   "outputs": [
    {
     "name": "stderr",
     "output_type": "stream",
     "text": [
      "[W 2019-04-14 13:38:03,500] Setting status of trial#0 as TrialState.FAIL because of the following error: AttributeError(\"'NoneType' object has no attribute 'astype'\",)\n",
      "Traceback (most recent call last):\n",
      "  File \"C:\\Users\\keisu\\Anaconda3\\lib\\site-packages\\optuna\\study.py\", line 398, in _run_trial\n",
      "    result = func(trial)\n",
      "  File \"C:\\Users\\keisu\\Anaconda3\\lib\\site-packages\\nklearn\\lgbm_util\\modeling.py\", line 74, in objective\n",
      "    val_X, val_y = v.data.astype(float), v.label\n",
      "AttributeError: 'NoneType' object has no attribute 'astype'\n",
      "[W 2019-04-14 13:38:03,731] Setting status of trial#1 as TrialState.FAIL because of the following error: AttributeError(\"'NoneType' object has no attribute 'astype'\",)\n",
      "Traceback (most recent call last):\n",
      "  File \"C:\\Users\\keisu\\Anaconda3\\lib\\site-packages\\optuna\\study.py\", line 398, in _run_trial\n",
      "    result = func(trial)\n",
      "  File \"C:\\Users\\keisu\\Anaconda3\\lib\\site-packages\\nklearn\\lgbm_util\\modeling.py\", line 74, in objective\n",
      "    val_X, val_y = v.data.astype(float), v.label\n",
      "AttributeError: 'NoneType' object has no attribute 'astype'\n",
      "[W 2019-04-14 13:38:03,983] Setting status of trial#2 as TrialState.FAIL because of the following error: AttributeError(\"'NoneType' object has no attribute 'astype'\",)\n",
      "Traceback (most recent call last):\n",
      "  File \"C:\\Users\\keisu\\Anaconda3\\lib\\site-packages\\optuna\\study.py\", line 398, in _run_trial\n",
      "    result = func(trial)\n",
      "  File \"C:\\Users\\keisu\\Anaconda3\\lib\\site-packages\\nklearn\\lgbm_util\\modeling.py\", line 74, in objective\n",
      "    val_X, val_y = v.data.astype(float), v.label\n",
      "AttributeError: 'NoneType' object has no attribute 'astype'\n",
      "[W 2019-04-14 13:38:04,151] Setting status of trial#3 as TrialState.FAIL because of the following error: AttributeError(\"'NoneType' object has no attribute 'astype'\",)\n",
      "Traceback (most recent call last):\n",
      "  File \"C:\\Users\\keisu\\Anaconda3\\lib\\site-packages\\optuna\\study.py\", line 398, in _run_trial\n",
      "    result = func(trial)\n",
      "  File \"C:\\Users\\keisu\\Anaconda3\\lib\\site-packages\\nklearn\\lgbm_util\\modeling.py\", line 74, in objective\n",
      "    val_X, val_y = v.data.astype(float), v.label\n",
      "AttributeError: 'NoneType' object has no attribute 'astype'\n",
      "[W 2019-04-14 13:38:04,487] Setting status of trial#4 as TrialState.FAIL because of the following error: AttributeError(\"'NoneType' object has no attribute 'astype'\",)\n",
      "Traceback (most recent call last):\n",
      "  File \"C:\\Users\\keisu\\Anaconda3\\lib\\site-packages\\optuna\\study.py\", line 398, in _run_trial\n",
      "    result = func(trial)\n",
      "  File \"C:\\Users\\keisu\\Anaconda3\\lib\\site-packages\\nklearn\\lgbm_util\\modeling.py\", line 74, in objective\n",
      "    val_X, val_y = v.data.astype(float), v.label\n",
      "AttributeError: 'NoneType' object has no attribute 'astype'\n",
      "[W 2019-04-14 13:38:04,932] Setting status of trial#5 as TrialState.FAIL because of the following error: AttributeError(\"'NoneType' object has no attribute 'astype'\",)\n",
      "Traceback (most recent call last):\n",
      "  File \"C:\\Users\\keisu\\Anaconda3\\lib\\site-packages\\optuna\\study.py\", line 398, in _run_trial\n",
      "    result = func(trial)\n",
      "  File \"C:\\Users\\keisu\\Anaconda3\\lib\\site-packages\\nklearn\\lgbm_util\\modeling.py\", line 74, in objective\n",
      "    val_X, val_y = v.data.astype(float), v.label\n",
      "AttributeError: 'NoneType' object has no attribute 'astype'\n",
      "[W 2019-04-14 13:38:05,242] Setting status of trial#6 as TrialState.FAIL because of the following error: AttributeError(\"'NoneType' object has no attribute 'astype'\",)\n",
      "Traceback (most recent call last):\n",
      "  File \"C:\\Users\\keisu\\Anaconda3\\lib\\site-packages\\optuna\\study.py\", line 398, in _run_trial\n",
      "    result = func(trial)\n",
      "  File \"C:\\Users\\keisu\\Anaconda3\\lib\\site-packages\\nklearn\\lgbm_util\\modeling.py\", line 74, in objective\n",
      "    val_X, val_y = v.data.astype(float), v.label\n",
      "AttributeError: 'NoneType' object has no attribute 'astype'\n",
      "[W 2019-04-14 13:38:05,494] Setting status of trial#7 as TrialState.FAIL because of the following error: AttributeError(\"'NoneType' object has no attribute 'astype'\",)\n",
      "Traceback (most recent call last):\n",
      "  File \"C:\\Users\\keisu\\Anaconda3\\lib\\site-packages\\optuna\\study.py\", line 398, in _run_trial\n",
      "    result = func(trial)\n",
      "  File \"C:\\Users\\keisu\\Anaconda3\\lib\\site-packages\\nklearn\\lgbm_util\\modeling.py\", line 74, in objective\n",
      "    val_X, val_y = v.data.astype(float), v.label\n",
      "AttributeError: 'NoneType' object has no attribute 'astype'\n",
      "[W 2019-04-14 13:38:06,293] Setting status of trial#8 as TrialState.FAIL because of the following error: AttributeError(\"'NoneType' object has no attribute 'astype'\",)\n",
      "Traceback (most recent call last):\n",
      "  File \"C:\\Users\\keisu\\Anaconda3\\lib\\site-packages\\optuna\\study.py\", line 398, in _run_trial\n",
      "    result = func(trial)\n",
      "  File \"C:\\Users\\keisu\\Anaconda3\\lib\\site-packages\\nklearn\\lgbm_util\\modeling.py\", line 74, in objective\n",
      "    val_X, val_y = v.data.astype(float), v.label\n",
      "AttributeError: 'NoneType' object has no attribute 'astype'\n",
      "[W 2019-04-14 13:38:06,415] Setting status of trial#9 as TrialState.FAIL because of the following error: AttributeError(\"'NoneType' object has no attribute 'astype'\",)\n",
      "Traceback (most recent call last):\n",
      "  File \"C:\\Users\\keisu\\Anaconda3\\lib\\site-packages\\optuna\\study.py\", line 398, in _run_trial\n",
      "    result = func(trial)\n",
      "  File \"C:\\Users\\keisu\\Anaconda3\\lib\\site-packages\\nklearn\\lgbm_util\\modeling.py\", line 74, in objective\n",
      "    val_X, val_y = v.data.astype(float), v.label\n",
      "AttributeError: 'NoneType' object has no attribute 'astype'\n",
      "[W 2019-04-14 13:38:06,756] Setting status of trial#0 as TrialState.FAIL because of the following error: AttributeError(\"'NoneType' object has no attribute 'astype'\",)\n",
      "Traceback (most recent call last):\n",
      "  File \"C:\\Users\\keisu\\Anaconda3\\lib\\site-packages\\optuna\\study.py\", line 398, in _run_trial\n",
      "    result = func(trial)\n",
      "  File \"C:\\Users\\keisu\\Anaconda3\\lib\\site-packages\\nklearn\\lgbm_util\\modeling.py\", line 74, in objective\n",
      "    val_X, val_y = v.data.astype(float), v.label\n",
      "AttributeError: 'NoneType' object has no attribute 'astype'\n",
      "[W 2019-04-14 13:38:06,986] Setting status of trial#1 as TrialState.FAIL because of the following error: AttributeError(\"'NoneType' object has no attribute 'astype'\",)\n",
      "Traceback (most recent call last):\n",
      "  File \"C:\\Users\\keisu\\Anaconda3\\lib\\site-packages\\optuna\\study.py\", line 398, in _run_trial\n",
      "    result = func(trial)\n",
      "  File \"C:\\Users\\keisu\\Anaconda3\\lib\\site-packages\\nklearn\\lgbm_util\\modeling.py\", line 74, in objective\n",
      "    val_X, val_y = v.data.astype(float), v.label\n",
      "AttributeError: 'NoneType' object has no attribute 'astype'\n",
      "[W 2019-04-14 13:38:07,269] Setting status of trial#2 as TrialState.FAIL because of the following error: AttributeError(\"'NoneType' object has no attribute 'astype'\",)\n",
      "Traceback (most recent call last):\n",
      "  File \"C:\\Users\\keisu\\Anaconda3\\lib\\site-packages\\optuna\\study.py\", line 398, in _run_trial\n",
      "    result = func(trial)\n",
      "  File \"C:\\Users\\keisu\\Anaconda3\\lib\\site-packages\\nklearn\\lgbm_util\\modeling.py\", line 74, in objective\n",
      "    val_X, val_y = v.data.astype(float), v.label\n",
      "AttributeError: 'NoneType' object has no attribute 'astype'\n",
      "[W 2019-04-14 13:38:07,510] Setting status of trial#3 as TrialState.FAIL because of the following error: AttributeError(\"'NoneType' object has no attribute 'astype'\",)\n",
      "Traceback (most recent call last):\n",
      "  File \"C:\\Users\\keisu\\Anaconda3\\lib\\site-packages\\optuna\\study.py\", line 398, in _run_trial\n",
      "    result = func(trial)\n",
      "  File \"C:\\Users\\keisu\\Anaconda3\\lib\\site-packages\\nklearn\\lgbm_util\\modeling.py\", line 74, in objective\n",
      "    val_X, val_y = v.data.astype(float), v.label\n",
      "AttributeError: 'NoneType' object has no attribute 'astype'\n",
      "[W 2019-04-14 13:38:08,138] Setting status of trial#4 as TrialState.FAIL because of the following error: AttributeError(\"'NoneType' object has no attribute 'astype'\",)\n",
      "Traceback (most recent call last):\n",
      "  File \"C:\\Users\\keisu\\Anaconda3\\lib\\site-packages\\optuna\\study.py\", line 398, in _run_trial\n",
      "    result = func(trial)\n",
      "  File \"C:\\Users\\keisu\\Anaconda3\\lib\\site-packages\\nklearn\\lgbm_util\\modeling.py\", line 74, in objective\n",
      "    val_X, val_y = v.data.astype(float), v.label\n",
      "AttributeError: 'NoneType' object has no attribute 'astype'\n",
      "[W 2019-04-14 13:38:08,361] Setting status of trial#5 as TrialState.FAIL because of the following error: AttributeError(\"'NoneType' object has no attribute 'astype'\",)\n",
      "Traceback (most recent call last):\n",
      "  File \"C:\\Users\\keisu\\Anaconda3\\lib\\site-packages\\optuna\\study.py\", line 398, in _run_trial\n",
      "    result = func(trial)\n",
      "  File \"C:\\Users\\keisu\\Anaconda3\\lib\\site-packages\\nklearn\\lgbm_util\\modeling.py\", line 74, in objective\n",
      "    val_X, val_y = v.data.astype(float), v.label\n"
     ]
    },
    {
     "name": "stderr",
     "output_type": "stream",
     "text": [
      "AttributeError: 'NoneType' object has no attribute 'astype'\n",
      "[W 2019-04-14 13:38:08,721] Setting status of trial#6 as TrialState.FAIL because of the following error: AttributeError(\"'NoneType' object has no attribute 'astype'\",)\n",
      "Traceback (most recent call last):\n",
      "  File \"C:\\Users\\keisu\\Anaconda3\\lib\\site-packages\\optuna\\study.py\", line 398, in _run_trial\n",
      "    result = func(trial)\n",
      "  File \"C:\\Users\\keisu\\Anaconda3\\lib\\site-packages\\nklearn\\lgbm_util\\modeling.py\", line 74, in objective\n",
      "    val_X, val_y = v.data.astype(float), v.label\n",
      "AttributeError: 'NoneType' object has no attribute 'astype'\n",
      "[W 2019-04-14 13:38:09,541] Setting status of trial#7 as TrialState.FAIL because of the following error: AttributeError(\"'NoneType' object has no attribute 'astype'\",)\n",
      "Traceback (most recent call last):\n",
      "  File \"C:\\Users\\keisu\\Anaconda3\\lib\\site-packages\\optuna\\study.py\", line 398, in _run_trial\n",
      "    result = func(trial)\n",
      "  File \"C:\\Users\\keisu\\Anaconda3\\lib\\site-packages\\nklearn\\lgbm_util\\modeling.py\", line 74, in objective\n",
      "    val_X, val_y = v.data.astype(float), v.label\n",
      "AttributeError: 'NoneType' object has no attribute 'astype'\n",
      "[W 2019-04-14 13:38:09,836] Setting status of trial#8 as TrialState.FAIL because of the following error: AttributeError(\"'NoneType' object has no attribute 'astype'\",)\n",
      "Traceback (most recent call last):\n",
      "  File \"C:\\Users\\keisu\\Anaconda3\\lib\\site-packages\\optuna\\study.py\", line 398, in _run_trial\n",
      "    result = func(trial)\n",
      "  File \"C:\\Users\\keisu\\Anaconda3\\lib\\site-packages\\nklearn\\lgbm_util\\modeling.py\", line 74, in objective\n",
      "    val_X, val_y = v.data.astype(float), v.label\n",
      "AttributeError: 'NoneType' object has no attribute 'astype'\n",
      "[W 2019-04-14 13:38:10,310] Setting status of trial#9 as TrialState.FAIL because of the following error: AttributeError(\"'NoneType' object has no attribute 'astype'\",)\n",
      "Traceback (most recent call last):\n",
      "  File \"C:\\Users\\keisu\\Anaconda3\\lib\\site-packages\\optuna\\study.py\", line 398, in _run_trial\n",
      "    result = func(trial)\n",
      "  File \"C:\\Users\\keisu\\Anaconda3\\lib\\site-packages\\nklearn\\lgbm_util\\modeling.py\", line 74, in objective\n",
      "    val_X, val_y = v.data.astype(float), v.label\n",
      "AttributeError: 'NoneType' object has no attribute 'astype'\n",
      "[W 2019-04-14 13:38:10,825] Setting status of trial#0 as TrialState.FAIL because of the following error: AttributeError(\"'NoneType' object has no attribute 'astype'\",)\n",
      "Traceback (most recent call last):\n",
      "  File \"C:\\Users\\keisu\\Anaconda3\\lib\\site-packages\\optuna\\study.py\", line 398, in _run_trial\n",
      "    result = func(trial)\n",
      "  File \"C:\\Users\\keisu\\Anaconda3\\lib\\site-packages\\nklearn\\lgbm_util\\modeling.py\", line 74, in objective\n",
      "    val_X, val_y = v.data.astype(float), v.label\n",
      "AttributeError: 'NoneType' object has no attribute 'astype'\n",
      "[W 2019-04-14 13:38:11,001] Setting status of trial#1 as TrialState.FAIL because of the following error: AttributeError(\"'NoneType' object has no attribute 'astype'\",)\n",
      "Traceback (most recent call last):\n",
      "  File \"C:\\Users\\keisu\\Anaconda3\\lib\\site-packages\\optuna\\study.py\", line 398, in _run_trial\n",
      "    result = func(trial)\n",
      "  File \"C:\\Users\\keisu\\Anaconda3\\lib\\site-packages\\nklearn\\lgbm_util\\modeling.py\", line 74, in objective\n",
      "    val_X, val_y = v.data.astype(float), v.label\n",
      "AttributeError: 'NoneType' object has no attribute 'astype'\n",
      "[W 2019-04-14 13:38:12,189] Setting status of trial#2 as TrialState.FAIL because of the following error: AttributeError(\"'NoneType' object has no attribute 'astype'\",)\n",
      "Traceback (most recent call last):\n",
      "  File \"C:\\Users\\keisu\\Anaconda3\\lib\\site-packages\\optuna\\study.py\", line 398, in _run_trial\n",
      "    result = func(trial)\n",
      "  File \"C:\\Users\\keisu\\Anaconda3\\lib\\site-packages\\nklearn\\lgbm_util\\modeling.py\", line 74, in objective\n",
      "    val_X, val_y = v.data.astype(float), v.label\n",
      "AttributeError: 'NoneType' object has no attribute 'astype'\n",
      "[W 2019-04-14 13:38:12,361] Setting status of trial#3 as TrialState.FAIL because of the following error: AttributeError(\"'NoneType' object has no attribute 'astype'\",)\n",
      "Traceback (most recent call last):\n",
      "  File \"C:\\Users\\keisu\\Anaconda3\\lib\\site-packages\\optuna\\study.py\", line 398, in _run_trial\n",
      "    result = func(trial)\n",
      "  File \"C:\\Users\\keisu\\Anaconda3\\lib\\site-packages\\nklearn\\lgbm_util\\modeling.py\", line 74, in objective\n",
      "    val_X, val_y = v.data.astype(float), v.label\n",
      "AttributeError: 'NoneType' object has no attribute 'astype'\n",
      "[W 2019-04-14 13:38:12,828] Setting status of trial#4 as TrialState.FAIL because of the following error: AttributeError(\"'NoneType' object has no attribute 'astype'\",)\n",
      "Traceback (most recent call last):\n",
      "  File \"C:\\Users\\keisu\\Anaconda3\\lib\\site-packages\\optuna\\study.py\", line 398, in _run_trial\n",
      "    result = func(trial)\n",
      "  File \"C:\\Users\\keisu\\Anaconda3\\lib\\site-packages\\nklearn\\lgbm_util\\modeling.py\", line 74, in objective\n",
      "    val_X, val_y = v.data.astype(float), v.label\n",
      "AttributeError: 'NoneType' object has no attribute 'astype'\n",
      "[W 2019-04-14 13:38:13,031] Setting status of trial#5 as TrialState.FAIL because of the following error: AttributeError(\"'NoneType' object has no attribute 'astype'\",)\n",
      "Traceback (most recent call last):\n",
      "  File \"C:\\Users\\keisu\\Anaconda3\\lib\\site-packages\\optuna\\study.py\", line 398, in _run_trial\n",
      "    result = func(trial)\n",
      "  File \"C:\\Users\\keisu\\Anaconda3\\lib\\site-packages\\nklearn\\lgbm_util\\modeling.py\", line 74, in objective\n",
      "    val_X, val_y = v.data.astype(float), v.label\n",
      "AttributeError: 'NoneType' object has no attribute 'astype'\n",
      "[W 2019-04-14 13:38:13,237] Setting status of trial#6 as TrialState.FAIL because of the following error: AttributeError(\"'NoneType' object has no attribute 'astype'\",)\n",
      "Traceback (most recent call last):\n",
      "  File \"C:\\Users\\keisu\\Anaconda3\\lib\\site-packages\\optuna\\study.py\", line 398, in _run_trial\n",
      "    result = func(trial)\n",
      "  File \"C:\\Users\\keisu\\Anaconda3\\lib\\site-packages\\nklearn\\lgbm_util\\modeling.py\", line 74, in objective\n",
      "    val_X, val_y = v.data.astype(float), v.label\n",
      "AttributeError: 'NoneType' object has no attribute 'astype'\n",
      "[W 2019-04-14 13:38:13,605] Setting status of trial#7 as TrialState.FAIL because of the following error: AttributeError(\"'NoneType' object has no attribute 'astype'\",)\n",
      "Traceback (most recent call last):\n",
      "  File \"C:\\Users\\keisu\\Anaconda3\\lib\\site-packages\\optuna\\study.py\", line 398, in _run_trial\n",
      "    result = func(trial)\n",
      "  File \"C:\\Users\\keisu\\Anaconda3\\lib\\site-packages\\nklearn\\lgbm_util\\modeling.py\", line 74, in objective\n",
      "    val_X, val_y = v.data.astype(float), v.label\n",
      "AttributeError: 'NoneType' object has no attribute 'astype'\n",
      "[W 2019-04-14 13:38:13,676] Setting status of trial#8 as TrialState.FAIL because of the following error: AttributeError(\"'NoneType' object has no attribute 'astype'\",)\n",
      "Traceback (most recent call last):\n",
      "  File \"C:\\Users\\keisu\\Anaconda3\\lib\\site-packages\\optuna\\study.py\", line 398, in _run_trial\n",
      "    result = func(trial)\n",
      "  File \"C:\\Users\\keisu\\Anaconda3\\lib\\site-packages\\nklearn\\lgbm_util\\modeling.py\", line 74, in objective\n",
      "    val_X, val_y = v.data.astype(float), v.label\n",
      "AttributeError: 'NoneType' object has no attribute 'astype'\n",
      "[W 2019-04-14 13:38:13,812] Setting status of trial#9 as TrialState.FAIL because of the following error: AttributeError(\"'NoneType' object has no attribute 'astype'\",)\n",
      "Traceback (most recent call last):\n",
      "  File \"C:\\Users\\keisu\\Anaconda3\\lib\\site-packages\\optuna\\study.py\", line 398, in _run_trial\n",
      "    result = func(trial)\n",
      "  File \"C:\\Users\\keisu\\Anaconda3\\lib\\site-packages\\nklearn\\lgbm_util\\modeling.py\", line 74, in objective\n",
      "    val_X, val_y = v.data.astype(float), v.label\n",
      "AttributeError: 'NoneType' object has no attribute 'astype'\n",
      "[W 2019-04-14 13:38:14,441] Setting status of trial#0 as TrialState.FAIL because of the following error: AttributeError(\"'NoneType' object has no attribute 'astype'\",)\n",
      "Traceback (most recent call last):\n",
      "  File \"C:\\Users\\keisu\\Anaconda3\\lib\\site-packages\\optuna\\study.py\", line 398, in _run_trial\n",
      "    result = func(trial)\n",
      "  File \"C:\\Users\\keisu\\Anaconda3\\lib\\site-packages\\nklearn\\lgbm_util\\modeling.py\", line 74, in objective\n",
      "    val_X, val_y = v.data.astype(float), v.label\n",
      "AttributeError: 'NoneType' object has no attribute 'astype'\n",
      "[W 2019-04-14 13:38:14,644] Setting status of trial#1 as TrialState.FAIL because of the following error: AttributeError(\"'NoneType' object has no attribute 'astype'\",)\n",
      "Traceback (most recent call last):\n",
      "  File \"C:\\Users\\keisu\\Anaconda3\\lib\\site-packages\\optuna\\study.py\", line 398, in _run_trial\n",
      "    result = func(trial)\n",
      "  File \"C:\\Users\\keisu\\Anaconda3\\lib\\site-packages\\nklearn\\lgbm_util\\modeling.py\", line 74, in objective\n",
      "    val_X, val_y = v.data.astype(float), v.label\n"
     ]
    },
    {
     "name": "stderr",
     "output_type": "stream",
     "text": [
      "AttributeError: 'NoneType' object has no attribute 'astype'\n",
      "[W 2019-04-14 13:38:14,925] Setting status of trial#2 as TrialState.FAIL because of the following error: AttributeError(\"'NoneType' object has no attribute 'astype'\",)\n",
      "Traceback (most recent call last):\n",
      "  File \"C:\\Users\\keisu\\Anaconda3\\lib\\site-packages\\optuna\\study.py\", line 398, in _run_trial\n",
      "    result = func(trial)\n",
      "  File \"C:\\Users\\keisu\\Anaconda3\\lib\\site-packages\\nklearn\\lgbm_util\\modeling.py\", line 74, in objective\n",
      "    val_X, val_y = v.data.astype(float), v.label\n",
      "AttributeError: 'NoneType' object has no attribute 'astype'\n",
      "[W 2019-04-14 13:38:14,984] Setting status of trial#3 as TrialState.FAIL because of the following error: AttributeError(\"'NoneType' object has no attribute 'astype'\",)\n",
      "Traceback (most recent call last):\n",
      "  File \"C:\\Users\\keisu\\Anaconda3\\lib\\site-packages\\optuna\\study.py\", line 398, in _run_trial\n",
      "    result = func(trial)\n",
      "  File \"C:\\Users\\keisu\\Anaconda3\\lib\\site-packages\\nklearn\\lgbm_util\\modeling.py\", line 74, in objective\n",
      "    val_X, val_y = v.data.astype(float), v.label\n",
      "AttributeError: 'NoneType' object has no attribute 'astype'\n",
      "[W 2019-04-14 13:38:15,861] Setting status of trial#4 as TrialState.FAIL because of the following error: AttributeError(\"'NoneType' object has no attribute 'astype'\",)\n",
      "Traceback (most recent call last):\n",
      "  File \"C:\\Users\\keisu\\Anaconda3\\lib\\site-packages\\optuna\\study.py\", line 398, in _run_trial\n",
      "    result = func(trial)\n",
      "  File \"C:\\Users\\keisu\\Anaconda3\\lib\\site-packages\\nklearn\\lgbm_util\\modeling.py\", line 74, in objective\n",
      "    val_X, val_y = v.data.astype(float), v.label\n",
      "AttributeError: 'NoneType' object has no attribute 'astype'\n",
      "[W 2019-04-14 13:38:16,003] Setting status of trial#5 as TrialState.FAIL because of the following error: AttributeError(\"'NoneType' object has no attribute 'astype'\",)\n",
      "Traceback (most recent call last):\n",
      "  File \"C:\\Users\\keisu\\Anaconda3\\lib\\site-packages\\optuna\\study.py\", line 398, in _run_trial\n",
      "    result = func(trial)\n",
      "  File \"C:\\Users\\keisu\\Anaconda3\\lib\\site-packages\\nklearn\\lgbm_util\\modeling.py\", line 74, in objective\n",
      "    val_X, val_y = v.data.astype(float), v.label\n",
      "AttributeError: 'NoneType' object has no attribute 'astype'\n",
      "[W 2019-04-14 13:38:16,145] Setting status of trial#6 as TrialState.FAIL because of the following error: AttributeError(\"'NoneType' object has no attribute 'astype'\",)\n",
      "Traceback (most recent call last):\n",
      "  File \"C:\\Users\\keisu\\Anaconda3\\lib\\site-packages\\optuna\\study.py\", line 398, in _run_trial\n",
      "    result = func(trial)\n",
      "  File \"C:\\Users\\keisu\\Anaconda3\\lib\\site-packages\\nklearn\\lgbm_util\\modeling.py\", line 74, in objective\n",
      "    val_X, val_y = v.data.astype(float), v.label\n",
      "AttributeError: 'NoneType' object has no attribute 'astype'\n",
      "[W 2019-04-14 13:38:16,921] Setting status of trial#7 as TrialState.FAIL because of the following error: AttributeError(\"'NoneType' object has no attribute 'astype'\",)\n",
      "Traceback (most recent call last):\n",
      "  File \"C:\\Users\\keisu\\Anaconda3\\lib\\site-packages\\optuna\\study.py\", line 398, in _run_trial\n",
      "    result = func(trial)\n",
      "  File \"C:\\Users\\keisu\\Anaconda3\\lib\\site-packages\\nklearn\\lgbm_util\\modeling.py\", line 74, in objective\n",
      "    val_X, val_y = v.data.astype(float), v.label\n",
      "AttributeError: 'NoneType' object has no attribute 'astype'\n",
      "[W 2019-04-14 13:38:17,093] Setting status of trial#8 as TrialState.FAIL because of the following error: AttributeError(\"'NoneType' object has no attribute 'astype'\",)\n",
      "Traceback (most recent call last):\n",
      "  File \"C:\\Users\\keisu\\Anaconda3\\lib\\site-packages\\optuna\\study.py\", line 398, in _run_trial\n",
      "    result = func(trial)\n",
      "  File \"C:\\Users\\keisu\\Anaconda3\\lib\\site-packages\\nklearn\\lgbm_util\\modeling.py\", line 74, in objective\n",
      "    val_X, val_y = v.data.astype(float), v.label\n",
      "AttributeError: 'NoneType' object has no attribute 'astype'\n",
      "[W 2019-04-14 13:38:17,499] Setting status of trial#9 as TrialState.FAIL because of the following error: AttributeError(\"'NoneType' object has no attribute 'astype'\",)\n",
      "Traceback (most recent call last):\n",
      "  File \"C:\\Users\\keisu\\Anaconda3\\lib\\site-packages\\optuna\\study.py\", line 398, in _run_trial\n",
      "    result = func(trial)\n",
      "  File \"C:\\Users\\keisu\\Anaconda3\\lib\\site-packages\\nklearn\\lgbm_util\\modeling.py\", line 74, in objective\n",
      "    val_X, val_y = v.data.astype(float), v.label\n",
      "AttributeError: 'NoneType' object has no attribute 'astype'\n",
      "[W 2019-04-14 13:38:17,746] Setting status of trial#0 as TrialState.FAIL because of the following error: AttributeError(\"'NoneType' object has no attribute 'astype'\",)\n",
      "Traceback (most recent call last):\n",
      "  File \"C:\\Users\\keisu\\Anaconda3\\lib\\site-packages\\optuna\\study.py\", line 398, in _run_trial\n",
      "    result = func(trial)\n",
      "  File \"C:\\Users\\keisu\\Anaconda3\\lib\\site-packages\\nklearn\\lgbm_util\\modeling.py\", line 74, in objective\n",
      "    val_X, val_y = v.data.astype(float), v.label\n",
      "AttributeError: 'NoneType' object has no attribute 'astype'\n",
      "[W 2019-04-14 13:38:17,986] Setting status of trial#1 as TrialState.FAIL because of the following error: AttributeError(\"'NoneType' object has no attribute 'astype'\",)\n",
      "Traceback (most recent call last):\n",
      "  File \"C:\\Users\\keisu\\Anaconda3\\lib\\site-packages\\optuna\\study.py\", line 398, in _run_trial\n",
      "    result = func(trial)\n",
      "  File \"C:\\Users\\keisu\\Anaconda3\\lib\\site-packages\\nklearn\\lgbm_util\\modeling.py\", line 74, in objective\n",
      "    val_X, val_y = v.data.astype(float), v.label\n",
      "AttributeError: 'NoneType' object has no attribute 'astype'\n",
      "[W 2019-04-14 13:38:18,309] Setting status of trial#2 as TrialState.FAIL because of the following error: AttributeError(\"'NoneType' object has no attribute 'astype'\",)\n",
      "Traceback (most recent call last):\n",
      "  File \"C:\\Users\\keisu\\Anaconda3\\lib\\site-packages\\optuna\\study.py\", line 398, in _run_trial\n",
      "    result = func(trial)\n",
      "  File \"C:\\Users\\keisu\\Anaconda3\\lib\\site-packages\\nklearn\\lgbm_util\\modeling.py\", line 74, in objective\n",
      "    val_X, val_y = v.data.astype(float), v.label\n",
      "AttributeError: 'NoneType' object has no attribute 'astype'\n",
      "[W 2019-04-14 13:38:18,724] Setting status of trial#3 as TrialState.FAIL because of the following error: AttributeError(\"'NoneType' object has no attribute 'astype'\",)\n",
      "Traceback (most recent call last):\n",
      "  File \"C:\\Users\\keisu\\Anaconda3\\lib\\site-packages\\optuna\\study.py\", line 398, in _run_trial\n",
      "    result = func(trial)\n",
      "  File \"C:\\Users\\keisu\\Anaconda3\\lib\\site-packages\\nklearn\\lgbm_util\\modeling.py\", line 74, in objective\n",
      "    val_X, val_y = v.data.astype(float), v.label\n",
      "AttributeError: 'NoneType' object has no attribute 'astype'\n",
      "[W 2019-04-14 13:38:20,021] Setting status of trial#4 as TrialState.FAIL because of the following error: AttributeError(\"'NoneType' object has no attribute 'astype'\",)\n",
      "Traceback (most recent call last):\n",
      "  File \"C:\\Users\\keisu\\Anaconda3\\lib\\site-packages\\optuna\\study.py\", line 398, in _run_trial\n",
      "    result = func(trial)\n",
      "  File \"C:\\Users\\keisu\\Anaconda3\\lib\\site-packages\\nklearn\\lgbm_util\\modeling.py\", line 74, in objective\n",
      "    val_X, val_y = v.data.astype(float), v.label\n",
      "AttributeError: 'NoneType' object has no attribute 'astype'\n",
      "[W 2019-04-14 13:38:20,370] Setting status of trial#5 as TrialState.FAIL because of the following error: AttributeError(\"'NoneType' object has no attribute 'astype'\",)\n",
      "Traceback (most recent call last):\n",
      "  File \"C:\\Users\\keisu\\Anaconda3\\lib\\site-packages\\optuna\\study.py\", line 398, in _run_trial\n",
      "    result = func(trial)\n",
      "  File \"C:\\Users\\keisu\\Anaconda3\\lib\\site-packages\\nklearn\\lgbm_util\\modeling.py\", line 74, in objective\n",
      "    val_X, val_y = v.data.astype(float), v.label\n",
      "AttributeError: 'NoneType' object has no attribute 'astype'\n",
      "[W 2019-04-14 13:38:20,463] Setting status of trial#6 as TrialState.FAIL because of the following error: AttributeError(\"'NoneType' object has no attribute 'astype'\",)\n",
      "Traceback (most recent call last):\n",
      "  File \"C:\\Users\\keisu\\Anaconda3\\lib\\site-packages\\optuna\\study.py\", line 398, in _run_trial\n",
      "    result = func(trial)\n",
      "  File \"C:\\Users\\keisu\\Anaconda3\\lib\\site-packages\\nklearn\\lgbm_util\\modeling.py\", line 74, in objective\n",
      "    val_X, val_y = v.data.astype(float), v.label\n",
      "AttributeError: 'NoneType' object has no attribute 'astype'\n",
      "[W 2019-04-14 13:38:20,821] Setting status of trial#7 as TrialState.FAIL because of the following error: AttributeError(\"'NoneType' object has no attribute 'astype'\",)\n",
      "Traceback (most recent call last):\n",
      "  File \"C:\\Users\\keisu\\Anaconda3\\lib\\site-packages\\optuna\\study.py\", line 398, in _run_trial\n",
      "    result = func(trial)\n",
      "  File \"C:\\Users\\keisu\\Anaconda3\\lib\\site-packages\\nklearn\\lgbm_util\\modeling.py\", line 74, in objective\n",
      "    val_X, val_y = v.data.astype(float), v.label\n"
     ]
    },
    {
     "name": "stderr",
     "output_type": "stream",
     "text": [
      "AttributeError: 'NoneType' object has no attribute 'astype'\n",
      "[W 2019-04-14 13:38:21,297] Setting status of trial#8 as TrialState.FAIL because of the following error: AttributeError(\"'NoneType' object has no attribute 'astype'\",)\n",
      "Traceback (most recent call last):\n",
      "  File \"C:\\Users\\keisu\\Anaconda3\\lib\\site-packages\\optuna\\study.py\", line 398, in _run_trial\n",
      "    result = func(trial)\n",
      "  File \"C:\\Users\\keisu\\Anaconda3\\lib\\site-packages\\nklearn\\lgbm_util\\modeling.py\", line 74, in objective\n",
      "    val_X, val_y = v.data.astype(float), v.label\n",
      "AttributeError: 'NoneType' object has no attribute 'astype'\n",
      "[W 2019-04-14 13:38:21,768] Setting status of trial#9 as TrialState.FAIL because of the following error: AttributeError(\"'NoneType' object has no attribute 'astype'\",)\n",
      "Traceback (most recent call last):\n",
      "  File \"C:\\Users\\keisu\\Anaconda3\\lib\\site-packages\\optuna\\study.py\", line 398, in _run_trial\n",
      "    result = func(trial)\n",
      "  File \"C:\\Users\\keisu\\Anaconda3\\lib\\site-packages\\nklearn\\lgbm_util\\modeling.py\", line 74, in objective\n",
      "    val_X, val_y = v.data.astype(float), v.label\n",
      "AttributeError: 'NoneType' object has no attribute 'astype'\n"
     ]
    },
    {
     "data": {
      "text/plain": [
       "[]"
      ]
     },
     "execution_count": 9,
     "metadata": {},
     "output_type": "execute_result"
    }
   ],
   "source": [
    "opt.opt_fit(X=X.astype(float), y=y, n_trials=10)"
   ]
  },
  {
   "cell_type": "code",
   "execution_count": 11,
   "metadata": {},
   "outputs": [],
   "source": [
    "t, v = opt.get_lgbd(X,y)"
   ]
  },
  {
   "cell_type": "code",
   "execution_count": 15,
   "metadata": {},
   "outputs": [
    {
     "data": {
      "text/plain": [
       "id\n",
       "0        1.0\n",
       "6        0.0\n",
       "17       0.0\n",
       "19       1.0\n",
       "20       0.0\n",
       "25       0.0\n",
       "27       0.0\n",
       "31       0.0\n",
       "32       1.0\n",
       "33       0.0\n",
       "42       0.0\n",
       "43       0.0\n",
       "47       0.0\n",
       "56       1.0\n",
       "62       0.0\n",
       "66       0.0\n",
       "72       1.0\n",
       "83       0.0\n",
       "95       1.0\n",
       "97       0.0\n",
       "103      0.0\n",
       "113      0.0\n",
       "116      0.0\n",
       "132      0.0\n",
       "133      0.0\n",
       "138      0.0\n",
       "140      0.0\n",
       "144      0.0\n",
       "153      0.0\n",
       "162      1.0\n",
       "        ... \n",
       "26826    0.0\n",
       "26828    0.0\n",
       "26841    0.0\n",
       "26854    1.0\n",
       "26860    0.0\n",
       "26871    0.0\n",
       "26885    0.0\n",
       "26894    0.0\n",
       "26896    0.0\n",
       "26904    1.0\n",
       "26915    0.0\n",
       "26919    0.0\n",
       "26920    0.0\n",
       "26921    0.0\n",
       "26927    0.0\n",
       "26932    0.0\n",
       "26936    0.0\n",
       "26943    0.0\n",
       "26945    0.0\n",
       "26946    0.0\n",
       "26947    1.0\n",
       "26949    1.0\n",
       "26951    0.0\n",
       "26970    0.0\n",
       "26971    0.0\n",
       "26972    0.0\n",
       "26979    1.0\n",
       "26988    0.0\n",
       "26990    0.0\n",
       "26995    0.0\n",
       "Name: y, Length: 5401, dtype: float64"
      ]
     },
     "execution_count": 15,
     "metadata": {},
     "output_type": "execute_result"
    }
   ],
   "source": [
    "v[0].label"
   ]
  },
  {
   "cell_type": "code",
   "execution_count": 21,
   "metadata": {},
   "outputs": [],
   "source": [
    "import lightgbm as lgb"
   ]
  },
  {
   "cell_type": "code",
   "execution_count": 17,
   "metadata": {},
   "outputs": [],
   "source": [
    "from sklearn.model_selection import train_test_split"
   ]
  },
  {
   "cell_type": "code",
   "execution_count": 30,
   "metadata": {},
   "outputs": [],
   "source": [
    "from sklearn.metrics import roc_auc_score"
   ]
  },
  {
   "cell_type": "code",
   "execution_count": 19,
   "metadata": {},
   "outputs": [],
   "source": [
    "t_X, v_X, t_y, v_y = train_test_split(X,y)"
   ]
  },
  {
   "cell_type": "code",
   "execution_count": 22,
   "metadata": {},
   "outputs": [],
   "source": [
    "t = lgb.Dataset(t_X,t_y)"
   ]
  },
  {
   "cell_type": "code",
   "execution_count": 23,
   "metadata": {},
   "outputs": [],
   "source": [
    "v = lgb.Dataset(v_X,v_y)"
   ]
  },
  {
   "cell_type": "code",
   "execution_count": 50,
   "metadata": {},
   "outputs": [],
   "source": [
    "def objective(trial):\n",
    "    params = {\n",
    "        'boosting_type': 'goss',\n",
    "        'objective': 'binary',\n",
    "        'metric': 'auc',\n",
    "        'num_leaves': trial.suggest_int(\"num_leaves\", 10, 500),\n",
    "        'learning_rate': trial.suggest_loguniform(\"learning_rate\", 1e-5, 1),\n",
    "        'feature_fraction': trial.suggest_uniform(\"feature_fraction\", 0.0, 1.0),\n",
    "#         'top_rate':trial.suggest_uniform('top_rate', 0.0, 1.0),\n",
    "        'other_rate':trial.suggest_uniform('other_rate', 0.0, 1.0 - params['top_rate']),\n",
    "        'verbose' : 0\n",
    "    }\n",
    "    # pruning_callback = optuna.integration.LightGBMPruningCallback(trial, \"binary_logloss\")\n",
    "    clf = lgb.train(params, t, num_boost_round=500, early_stopping_rounds=10,\n",
    "                    valid_sets=v, \n",
    "                    # callbacks=[pruning_callback],\n",
    "                    verbose_eval = False\n",
    "                    )\n",
    "    score = roc_auc_score(y_true=v_y, y_score=clf.predict(v_X))\n",
    "    return 1.0 - score\n"
   ]
  },
  {
   "cell_type": "code",
   "execution_count": 51,
   "metadata": {},
   "outputs": [
    {
     "name": "stderr",
     "output_type": "stream",
     "text": [
      "[I 2019-04-14 13:49:56,669] Finished trial#0 resulted in value: 0.23414186382057467. Current best value is 0.23414186382057467 with parameters: {'num_leaves': 387, 'learning_rate': 1.5620576028769425e-05, 'feature_fraction': 0.18824957902493122, 'top_rate': 0.5369572850959392}.\n",
      "[W 2019-04-14 13:49:56,719] Setting status of trial#1 as TrialState.FAIL because of the following error: LightGBMError('Check failed: config_->top_rate + config_->other_rate <= 1.0f at d:\\\\a\\\\1\\\\s\\\\python-package\\\\compile\\\\src\\\\boosting\\\\goss.hpp, line 60 .\\n',)\n",
      "Traceback (most recent call last):\n",
      "  File \"C:\\Users\\keisu\\Anaconda3\\lib\\site-packages\\optuna\\study.py\", line 398, in _run_trial\n",
      "    result = func(trial)\n",
      "  File \"<ipython-input-50-17c4730a23c4>\", line 17, in objective\n",
      "    verbose_eval = False\n",
      "  File \"C:\\Users\\keisu\\Anaconda3\\lib\\site-packages\\lightgbm\\engine.py\", line 195, in train\n",
      "    booster = Booster(params=params, train_set=train_set)\n",
      "  File \"C:\\Users\\keisu\\Anaconda3\\lib\\site-packages\\lightgbm\\basic.py\", line 1512, in __init__\n",
      "    ctypes.byref(self.handle)))\n",
      "  File \"C:\\Users\\keisu\\Anaconda3\\lib\\site-packages\\lightgbm\\basic.py\", line 46, in _safe_call\n",
      "    raise LightGBMError(decode_string(_LIB.LGBM_GetLastError()))\n",
      "lightgbm.basic.LightGBMError: Check failed: config_->top_rate + config_->other_rate <= 1.0f at d:\\a\\1\\s\\python-package\\compile\\src\\boosting\\goss.hpp, line 60 .\n",
      "\n",
      "[I 2019-04-14 13:49:57,019] Finished trial#2 resulted in value: 0.2718761526117732. Current best value is 0.23414186382057467 with parameters: {'num_leaves': 387, 'learning_rate': 1.5620576028769425e-05, 'feature_fraction': 0.18824957902493122, 'top_rate': 0.5369572850959392}.\n",
      "[I 2019-04-14 13:49:58,297] Finished trial#3 resulted in value: 0.23031220550512355. Current best value is 0.23031220550512355 with parameters: {'num_leaves': 490, 'learning_rate': 0.00019006886608895055, 'feature_fraction': 0.7237637986972596, 'top_rate': 0.7421192326207849}.\n",
      "[I 2019-04-14 13:49:58,893] Finished trial#4 resulted in value: 0.23801761080151418. Current best value is 0.23031220550512355 with parameters: {'num_leaves': 490, 'learning_rate': 0.00019006886608895055, 'feature_fraction': 0.7237637986972596, 'top_rate': 0.7421192326207849}.\n",
      "[I 2019-04-14 13:49:59,084] Finished trial#5 resulted in value: 0.2553717951781772. Current best value is 0.23031220550512355 with parameters: {'num_leaves': 490, 'learning_rate': 0.00019006886608895055, 'feature_fraction': 0.7237637986972596, 'top_rate': 0.7421192326207849}.\n",
      "[I 2019-04-14 13:49:59,370] Finished trial#6 resulted in value: 0.27087282322727124. Current best value is 0.23031220550512355 with parameters: {'num_leaves': 490, 'learning_rate': 0.00019006886608895055, 'feature_fraction': 0.7237637986972596, 'top_rate': 0.7421192326207849}.\n",
      "[I 2019-04-14 13:50:00,127] Finished trial#7 resulted in value: 0.24906864859308175. Current best value is 0.23031220550512355 with parameters: {'num_leaves': 490, 'learning_rate': 0.00019006886608895055, 'feature_fraction': 0.7237637986972596, 'top_rate': 0.7421192326207849}.\n",
      "[I 2019-04-14 13:50:01,451] Finished trial#8 resulted in value: 0.2288869972937293. Current best value is 0.2288869972937293 with parameters: {'num_leaves': 395, 'learning_rate': 4.688950306806086e-05, 'feature_fraction': 0.2530868308362595, 'top_rate': 0.10388661613989747}.\n",
      "[I 2019-04-14 13:50:02,318] Finished trial#9 resulted in value: 0.2251791673162703. Current best value is 0.2251791673162703 with parameters: {'num_leaves': 266, 'learning_rate': 0.003484286915888724, 'feature_fraction': 0.4572813635563834, 'top_rate': 0.7086795270283762}.\n"
     ]
    }
   ],
   "source": [
    "study = optuna.create_study()\n",
    "study.optimize(objective, n_trials=10)\n"
   ]
  },
  {
   "cell_type": "code",
   "execution_count": null,
   "metadata": {},
   "outputs": [],
   "source": []
  },
  {
   "cell_type": "code",
   "execution_count": null,
   "metadata": {},
   "outputs": [],
   "source": []
  },
  {
   "cell_type": "code",
   "execution_count": 10,
   "metadata": {},
   "outputs": [
    {
     "name": "stderr",
     "output_type": "stream",
     "text": [
      "[I 2019-04-14 12:15:11,003] Finished trial#0 resulted in value: 0.2335375665553121. Current best value is 0.2335375665553121 with parameters: {'C': 46.82498818370039, 'penalty': 'l1'}.\n",
      "[I 2019-04-14 12:15:33,644] Finished trial#1 resulted in value: 0.23330717895444386. Current best value is 0.23330717895444386 with parameters: {'C': 10.950939335702621, 'penalty': 'l1'}.\n",
      "[I 2019-04-14 12:15:47,465] Finished trial#2 resulted in value: 0.23236810437250155. Current best value is 0.23236810437250155 with parameters: {'C': 1.4038538037322044, 'penalty': 'l1'}.\n",
      "[I 2019-04-14 12:15:55,457] Finished trial#3 resulted in value: 0.2334887323859114. Current best value is 0.23236810437250155 with parameters: {'C': 1.4038538037322044, 'penalty': 'l1'}.\n",
      "[I 2019-04-14 12:15:59,483] Finished trial#4 resulted in value: 0.2326292973251587. Current best value is 0.23236810437250155 with parameters: {'C': 1.4038538037322044, 'penalty': 'l1'}.\n",
      "[I 2019-04-14 12:16:06,676] Finished trial#5 resulted in value: 0.23318560478215544. Current best value is 0.23236810437250155 with parameters: {'C': 1.4038538037322044, 'penalty': 'l1'}.\n",
      "[I 2019-04-14 12:16:11,911] Finished trial#6 resulted in value: 0.2328810205413404. Current best value is 0.23236810437250155 with parameters: {'C': 1.4038538037322044, 'penalty': 'l1'}.\n",
      "[I 2019-04-14 12:16:31,963] Finished trial#7 resulted in value: 0.23307932792944863. Current best value is 0.23236810437250155 with parameters: {'C': 1.4038538037322044, 'penalty': 'l1'}.\n",
      "[I 2019-04-14 12:16:36,900] Finished trial#8 resulted in value: 0.2328374671919322. Current best value is 0.23236810437250155 with parameters: {'C': 1.4038538037322044, 'penalty': 'l1'}.\n",
      "[I 2019-04-14 12:16:44,295] Finished trial#9 resulted in value: 0.23344632748492633. Current best value is 0.23236810437250155 with parameters: {'C': 1.4038538037322044, 'penalty': 'l1'}.\n"
     ]
    }
   ],
   "source": [
    "opt = ClfOpt()\n",
    "clf = opt.get_opt_logi(X, y, 10)"
   ]
  },
  {
   "cell_type": "code",
   "execution_count": 13,
   "metadata": {},
   "outputs": [],
   "source": [
    "train_p = clf.predict_proba(X)[:,1]"
   ]
  },
  {
   "cell_type": "code",
   "execution_count": 14,
   "metadata": {},
   "outputs": [],
   "source": [
    "X[fmid] = clf.predict_proba(X)[:,1]\n",
    "X[fmid].to_csv(fmid, index=False)"
   ]
  },
  {
   "cell_type": "code",
   "execution_count": 22,
   "metadata": {
    "scrolled": true
   },
   "outputs": [
    {
     "name": "stdout",
     "output_type": "stream",
     "text": [
      "0 0.222\n",
      "1 0.22455555555555556\n",
      "2 0.2278148148148148\n",
      "3 0.2328888888888889\n",
      "4 0.24096296296296296\n",
      "5 0.2517037037037037\n",
      "6 0.2648888888888889\n",
      "7 0.2819259259259259\n",
      "8 0.30377777777777776\n",
      "9 0.33166666666666667\n",
      "10 0.3658148148148148\n",
      "11 0.40914814814814815\n",
      "12 0.4655925925925926\n",
      "13 0.5257037037037037\n",
      "14 0.5828518518518518\n",
      "15 0.6350370370370371\n",
      "16 0.6727037037037037\n",
      "17 0.7024444444444444\n",
      "18 0.7246296296296296\n",
      "19 0.7418888888888889\n",
      "20 0.755\n",
      "21 0.7649259259259259\n",
      "22 0.774\n",
      "23 0.7813703703703704\n",
      "24 0.7871111111111111\n",
      "25 0.7918888888888889\n",
      "26 0.7946296296296296\n",
      "27 0.7981851851851852\n",
      "28 0.7996666666666666\n",
      "29 0.8035185185185185\n",
      "30 0.8067777777777778\n",
      "31 0.8086666666666666\n",
      "32 0.8117407407407408\n",
      "33 0.8137777777777778\n",
      "34 0.815\n",
      "35 0.8162222222222222\n",
      "36 0.8171111111111111\n",
      "37 0.8177407407407408\n",
      "38 0.8186296296296296\n",
      "39 0.8195555555555556\n",
      "40 0.8201111111111111\n",
      "41 0.8203703703703704\n",
      "42 0.8207037037037037\n",
      "43 0.8208148148148148\n",
      "44 0.8211481481481482\n",
      "45 0.8207407407407408\n",
      "46 0.8206666666666667\n",
      "47 0.8205925925925925\n",
      "48 0.8207407407407408\n",
      "49 0.8205555555555556\n",
      "50 0.8208148148148148\n",
      "51 0.8202962962962963\n",
      "52 0.82\n",
      "53 0.819962962962963\n",
      "54 0.8195925925925925\n",
      "55 0.8191851851851852\n",
      "56 0.818962962962963\n",
      "57 0.817925925925926\n",
      "58 0.817\n",
      "59 0.8163333333333334\n",
      "60 0.8154814814814815\n",
      "61 0.8147037037037037\n",
      "62 0.8127037037037037\n",
      "63 0.8118888888888889\n",
      "64 0.8113703703703704\n",
      "65 0.8096296296296296\n",
      "66 0.8087407407407408\n",
      "67 0.8073333333333333\n",
      "68 0.8062222222222222\n",
      "69 0.8054814814814815\n",
      "70 0.8041851851851852\n",
      "71 0.8031851851851852\n",
      "72 0.8021111111111111\n",
      "73 0.8008518518518518\n",
      "74 0.8001481481481482\n",
      "75 0.7995555555555556\n",
      "76 0.7983333333333333\n",
      "77 0.7969259259259259\n",
      "78 0.7961481481481482\n",
      "79 0.7951851851851852\n",
      "80 0.7935925925925926\n",
      "81 0.7921111111111111\n",
      "82 0.7898518518518518\n",
      "83 0.7878888888888889\n",
      "84 0.7853333333333333\n",
      "85 0.7826666666666666\n",
      "86 0.7805185185185185\n",
      "87 0.7790370370370371\n",
      "88 0.7785555555555556\n",
      "89 0.7783333333333333\n",
      "90 0.7782592592592592\n",
      "91 0.7782222222222223\n",
      "92 0.7781481481481481\n",
      "93 0.778074074074074\n",
      "94 0.7780370370370371\n",
      "95 0.778\n",
      "96 0.778\n",
      "97 0.778\n",
      "98 0.778\n",
      "99 0.778\n"
     ]
    }
   ],
   "source": [
    "for thre in range(0,100):\n",
    "    tf = train_p >= thre/100\n",
    "    bi = np.vectorize(float)(tf)\n",
    "    print(thre, sum(bi == y)/len(y))"
   ]
  },
  {
   "cell_type": "code",
   "execution_count": 24,
   "metadata": {},
   "outputs": [],
   "source": [
    "test_proba = clf.predict_proba(test_X)[:,1]"
   ]
  },
  {
   "cell_type": "code",
   "execution_count": 26,
   "metadata": {},
   "outputs": [],
   "source": [
    "tf = test_proba >= 50/100\n",
    "Y = np.vectorize(float)(tf)\n"
   ]
  },
  {
   "cell_type": "code",
   "execution_count": 27,
   "metadata": {},
   "outputs": [],
   "source": [
    "test_X[\"Y\"] = Y"
   ]
  },
  {
   "cell_type": "code",
   "execution_count": 28,
   "metadata": {},
   "outputs": [],
   "source": [
    "test_X[\"ID\"] = test_X.index"
   ]
  },
  {
   "cell_type": "code",
   "execution_count": 29,
   "metadata": {},
   "outputs": [],
   "source": [
    "test_X[[\"ID\", \"Y\"]].to_csv(fout, index=False)"
   ]
  },
  {
   "cell_type": "code",
   "execution_count": 30,
   "metadata": {},
   "outputs": [
    {
     "data": {
      "text/plain": [
       "['../models/logi_74727aac-5e63-11e9-a03b-f06e0bb794dc.pkl']"
      ]
     },
     "execution_count": 30,
     "metadata": {},
     "output_type": "execute_result"
    }
   ],
   "source": [
    "joblib.dump(clf, mout)"
   ]
  },
  {
   "cell_type": "code",
   "execution_count": 31,
   "metadata": {},
   "outputs": [],
   "source": [
    "import matplotlib.pyplot as plt"
   ]
  },
  {
   "cell_type": "code",
   "execution_count": 34,
   "metadata": {},
   "outputs": [
    {
     "data": {
      "text/plain": [
       "<matplotlib.axes._subplots.AxesSubplot at 0x1cff0ef1898>"
      ]
     },
     "execution_count": 34,
     "metadata": {},
     "output_type": "execute_result"
    },
    {
     "data": {
      "image/png": "[encoded data removed]",
      "text/plain": [
       "<Figure size 432x288 with 1 Axes>"
      ]
     },
     "metadata": {},
     "output_type": "display_data"
    }
   ],
   "source": [
    "X[y==1][fmid].hist()"
   ]
  },
  {
   "cell_type": "code",
   "execution_count": 35,
   "metadata": {},
   "outputs": [
    {
     "data": {
      "text/plain": [
       "<matplotlib.axes._subplots.AxesSubplot at 0x1cff0fb4cc0>"
      ]
     },
     "execution_count": 35,
     "metadata": {},
     "output_type": "execute_result"
    },
    {
     "data": {
      "image/png": "[encoded data removed]",
      "text/plain": [
       "<Figure size 432x288 with 1 Axes>"
      ]
     },
     "metadata": {},
     "output_type": "display_data"
    }
   ],
   "source": [
    "X[y==0][fmid].hist()"
   ]
  },
  {
   "cell_type": "code",
   "execution_count": null,
   "metadata": {},
   "outputs": [],
   "source": []
  }
 ],
 "metadata": {
  "hide_input": false,
  "kernelspec": {
   "display_name": "Python 3",
   "language": "python",
   "name": "python3"
  },
  "language_info": {
   "codemirror_mode": {
    "name": "ipython",
    "version": 3
   },
   "file_extension": ".py",
   "mimetype": "text/x-python",
   "name": "python",
   "nbconvert_exporter": "python",
   "pygments_lexer": "ipython3",
   "version": "3.6.5"
  },
  "toc": {
   "base_numbering": 1,
   "nav_menu": {},
   "number_sections": true,
   "sideBar": true,
   "skip_h1_title": false,
   "title_cell": "Table of Contents",
   "title_sidebar": "Contents",
   "toc_cell": true,
   "toc_position": {},
   "toc_section_display": true,
   "toc_window_display": true
  }
 },
 "nbformat": 4,
 "nbformat_minor": 2
}
